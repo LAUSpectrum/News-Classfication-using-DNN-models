{
  "nbformat": 4,
  "nbformat_minor": 0,
  "metadata": {
    "colab": {
      "name": "CNN",
      "version": "0.3.2",
      "provenance": [],
      "collapsed_sections": [
        "R55FX-Xq3XkP"
      ],
      "include_colab_link": true
    },
    "kernelspec": {
      "name": "python3",
      "display_name": "Python 3"
    },
    "accelerator": "GPU"
  },
  "cells": [
    {
      "cell_type": "markdown",
      "metadata": {
        "id": "view-in-github",
        "colab_type": "text"
      },
      "source": [
        "<a href=\"https://colab.research.google.com/github/rachit-shah/adbi-project/blob/master/CNN.ipynb\" target=\"_parent\"><img src=\"https://colab.research.google.com/assets/colab-badge.svg\" alt=\"Open In Colab\"/></a>"
      ]
    },
    {
      "cell_type": "markdown",
      "metadata": {
        "id": "BToPi2JX6jzd",
        "colab_type": "text"
      },
      "source": [
        "## Load Data and Glove Model From Drive"
      ]
    },
    {
      "cell_type": "code",
      "metadata": {
        "id": "JvS3pf0t6zsk",
        "colab_type": "code",
        "colab": {}
      },
      "source": [
        "from google.colab import drive\n",
        "drive.mount('/content/gdrive')"
      ],
      "execution_count": 0,
      "outputs": []
    },
    {
      "cell_type": "code",
      "metadata": {
        "id": "e9s7l5uI7QWJ",
        "colab_type": "code",
        "outputId": "4b0945ae-55d0-4295-f9e5-72110fa31b4f",
        "colab": {
          "base_uri": "https://localhost:8080/",
          "height": 846
        }
      },
      "source": [
        "import pandas as pd\n",
        "import numpy as np\n",
        "import matplotlib.pyplot as plt\n",
        "import os\n",
        "%matplotlib inline\n",
        "import nltk\n",
        "nltk.download('popular')\n",
        "\n",
        "from keras.preprocessing.text import Tokenizer\n",
        "from keras.preprocessing.sequence import pad_sequences\n",
        "from keras.utils import to_categorical\n",
        "from keras.layers import Dense, Input, GlobalMaxPooling1D, Dropout, LSTM, GRU, Bidirectional, SpatialDropout1D\n",
        "from keras.layers import Conv1D, MaxPooling1D, Embedding, Flatten\n",
        "from keras.callbacks import ModelCheckpoint, EarlyStopping, TensorBoard\n",
        "from keras.models import Model\n",
        "from keras.initializers import Constant\n",
        "\n",
        "from wordcloud import WordCloud\n",
        "import matplotlib.pyplot as plt\n",
        "from sklearn.feature_extraction import text \n",
        "from wordcloud import WordCloud, STOPWORDS\n",
        "\n",
        "from sklearn.preprocessing import LabelEncoder\n",
        "import pickle\n",
        "import numpy as np\n",
        "from sklearn.model_selection import train_test_split\n",
        "\n",
        "import nltk.corpus\n",
        "import string\n",
        "from nltk.tokenize import word_tokenize,sent_tokenize\n",
        "from nltk.stem import WordNetLemmatizer\n",
        "\n",
        "from keras.layers import Embedding\n",
        "\n",
        "import time\n"
      ],
      "execution_count": 0,
      "outputs": [
        {
          "output_type": "stream",
          "text": [
            "[nltk_data] Downloading collection 'popular'\n",
            "[nltk_data]    | \n",
            "[nltk_data]    | Downloading package cmudict to /root/nltk_data...\n",
            "[nltk_data]    |   Package cmudict is already up-to-date!\n",
            "[nltk_data]    | Downloading package gazetteers to /root/nltk_data...\n",
            "[nltk_data]    |   Package gazetteers is already up-to-date!\n",
            "[nltk_data]    | Downloading package genesis to /root/nltk_data...\n",
            "[nltk_data]    |   Package genesis is already up-to-date!\n",
            "[nltk_data]    | Downloading package gutenberg to /root/nltk_data...\n",
            "[nltk_data]    |   Package gutenberg is already up-to-date!\n",
            "[nltk_data]    | Downloading package inaugural to /root/nltk_data...\n",
            "[nltk_data]    |   Package inaugural is already up-to-date!\n",
            "[nltk_data]    | Downloading package movie_reviews to\n",
            "[nltk_data]    |     /root/nltk_data...\n",
            "[nltk_data]    |   Package movie_reviews is already up-to-date!\n",
            "[nltk_data]    | Downloading package names to /root/nltk_data...\n",
            "[nltk_data]    |   Package names is already up-to-date!\n",
            "[nltk_data]    | Downloading package shakespeare to /root/nltk_data...\n",
            "[nltk_data]    |   Package shakespeare is already up-to-date!\n",
            "[nltk_data]    | Downloading package stopwords to /root/nltk_data...\n",
            "[nltk_data]    |   Package stopwords is already up-to-date!\n",
            "[nltk_data]    | Downloading package treebank to /root/nltk_data...\n",
            "[nltk_data]    |   Package treebank is already up-to-date!\n",
            "[nltk_data]    | Downloading package twitter_samples to\n",
            "[nltk_data]    |     /root/nltk_data...\n",
            "[nltk_data]    |   Package twitter_samples is already up-to-date!\n",
            "[nltk_data]    | Downloading package omw to /root/nltk_data...\n",
            "[nltk_data]    |   Package omw is already up-to-date!\n",
            "[nltk_data]    | Downloading package wordnet to /root/nltk_data...\n",
            "[nltk_data]    |   Package wordnet is already up-to-date!\n",
            "[nltk_data]    | Downloading package wordnet_ic to /root/nltk_data...\n",
            "[nltk_data]    |   Package wordnet_ic is already up-to-date!\n",
            "[nltk_data]    | Downloading package words to /root/nltk_data...\n",
            "[nltk_data]    |   Package words is already up-to-date!\n",
            "[nltk_data]    | Downloading package maxent_ne_chunker to\n",
            "[nltk_data]    |     /root/nltk_data...\n",
            "[nltk_data]    |   Package maxent_ne_chunker is already up-to-date!\n",
            "[nltk_data]    | Downloading package punkt to /root/nltk_data...\n",
            "[nltk_data]    |   Package punkt is already up-to-date!\n",
            "[nltk_data]    | Downloading package snowball_data to\n",
            "[nltk_data]    |     /root/nltk_data...\n",
            "[nltk_data]    |   Package snowball_data is already up-to-date!\n",
            "[nltk_data]    | Downloading package averaged_perceptron_tagger to\n",
            "[nltk_data]    |     /root/nltk_data...\n",
            "[nltk_data]    |   Package averaged_perceptron_tagger is already up-\n",
            "[nltk_data]    |       to-date!\n",
            "[nltk_data]    | \n",
            "[nltk_data]  Done downloading collection popular\n"
          ],
          "name": "stdout"
        }
      ]
    },
    {
      "cell_type": "code",
      "metadata": {
        "id": "hHySPyqdR9_C",
        "colab_type": "code",
        "colab": {}
      },
      "source": [
        "# Seed value\n",
        "# Apparently you may use different seed values at each stage\n",
        "seed_value= 123\n",
        "\n",
        "# 1. Set `PYTHONHASHSEED` environment variable at a fixed value\n",
        "import os\n",
        "os.environ['PYTHONHASHSEED']=str(seed_value)\n",
        "\n",
        "# 2. Set `python` built-in pseudo-random generator at a fixed value\n",
        "import random\n",
        "random.seed(seed_value)\n",
        "\n",
        "# 3. Set `numpy` pseudo-random generator at a fixed value\n",
        "import numpy as np\n",
        "np.random.seed(seed_value)\n",
        "\n",
        "\n",
        "# 4. Set `tensorflow` pseudo-random generator at a fixed value\n",
        "import tensorflow as tf\n",
        "tf.set_random_seed(seed_value)\n",
        "\n",
        "# 5. Configure a new global `tensorflow` session\n",
        "from keras import backend as K\n",
        "session_conf = tf.ConfigProto(intra_op_parallelism_threads=1, inter_op_parallelism_threads=1)\n",
        "sess = tf.Session(graph=tf.get_default_graph(), config=session_conf)\n",
        "K.set_session(sess)\n"
      ],
      "execution_count": 0,
      "outputs": []
    },
    {
      "cell_type": "code",
      "metadata": {
        "id": "z8c7Ay-J7Qwh",
        "colab_type": "code",
        "outputId": "0110ede6-bbaa-4d5a-9661-78dd04cb0128",
        "colab": {
          "base_uri": "https://localhost:8080/",
          "height": 55
        }
      },
      "source": [
        "\n",
        "!cp gdrive/'My Drive'/bbc-fulltext.zip .\n",
        "!cp gdrive/'My Drive'/glove.6B.zip .\n",
        "!unzip bbc-fulltext.zip > out.txt\n",
        "!rm bbc/README.TXT\n",
        "!unzip glove.6B.zip\n"
      ],
      "execution_count": 0,
      "outputs": [
        {
          "output_type": "execute_result",
          "data": {
            "text/plain": [
              "\"\\n!cp gdrive/'My Drive'/bbc-fulltext.zip .\\n!cp gdrive/'My Drive'/glove.6B.zip .\\n!unzip bbc-fulltext.zip > out.txt\\n!rm bbc/README.TXT\\n!unzip glove.6B.zip\\n\""
            ]
          },
          "metadata": {
            "tags": []
          },
          "execution_count": 30
        }
      ]
    },
    {
      "cell_type": "code",
      "metadata": {
        "id": "Ew62XD1v790p",
        "colab_type": "code",
        "outputId": "e3dfb3a8-c193-4a1b-b264-d6c2930fc4b0",
        "colab": {
          "base_uri": "https://localhost:8080/",
          "height": 198
        }
      },
      "source": [
        "#Read Data\n",
        "categories = ['business','entertainment','politics','sport','tech']\n",
        "df = pd.DataFrame([],columns=['category','id','text'])\n",
        "for cat in categories:\n",
        "  for file in os.listdir(\"bbc/\"+cat):\n",
        "      if file.endswith(\".txt\"):\n",
        "          filepath = os.path.join(\"bbc/\"+cat, file)\n",
        "          text = open(filepath,'r', errors='ignore').read()\n",
        "          s = pd.Series([cat,int(filepath.split('/')[-1][:-4]),text],index=['category','id','text'])\n",
        "          df = df.append(s,ignore_index=True)\n",
        "\n",
        "df.head()"
      ],
      "execution_count": 0,
      "outputs": [
        {
          "output_type": "execute_result",
          "data": {
            "text/html": [
              "<div>\n",
              "<style scoped>\n",
              "    .dataframe tbody tr th:only-of-type {\n",
              "        vertical-align: middle;\n",
              "    }\n",
              "\n",
              "    .dataframe tbody tr th {\n",
              "        vertical-align: top;\n",
              "    }\n",
              "\n",
              "    .dataframe thead th {\n",
              "        text-align: right;\n",
              "    }\n",
              "</style>\n",
              "<table border=\"1\" class=\"dataframe\">\n",
              "  <thead>\n",
              "    <tr style=\"text-align: right;\">\n",
              "      <th></th>\n",
              "      <th>category</th>\n",
              "      <th>id</th>\n",
              "      <th>text</th>\n",
              "    </tr>\n",
              "  </thead>\n",
              "  <tbody>\n",
              "    <tr>\n",
              "      <th>0</th>\n",
              "      <td>business</td>\n",
              "      <td>128</td>\n",
              "      <td>Qantas sees profits fly to record\\n\\nAustralia...</td>\n",
              "    </tr>\n",
              "    <tr>\n",
              "      <th>1</th>\n",
              "      <td>business</td>\n",
              "      <td>139</td>\n",
              "      <td>German jobless rate at new record\\n\\nMore than...</td>\n",
              "    </tr>\n",
              "    <tr>\n",
              "      <th>2</th>\n",
              "      <td>business</td>\n",
              "      <td>389</td>\n",
              "      <td>Egypt to sell off state-owned bank\\n\\nThe Egyp...</td>\n",
              "    </tr>\n",
              "    <tr>\n",
              "      <th>3</th>\n",
              "      <td>business</td>\n",
              "      <td>479</td>\n",
              "      <td>Ford gains from finance not cars\\n\\nFord, the ...</td>\n",
              "    </tr>\n",
              "    <tr>\n",
              "      <th>4</th>\n",
              "      <td>business</td>\n",
              "      <td>233</td>\n",
              "      <td>Bat spit drug firm goes to market\\n\\nA German ...</td>\n",
              "    </tr>\n",
              "  </tbody>\n",
              "</table>\n",
              "</div>"
            ],
            "text/plain": [
              "   category   id                                               text\n",
              "0  business  128  Qantas sees profits fly to record\\n\\nAustralia...\n",
              "1  business  139  German jobless rate at new record\\n\\nMore than...\n",
              "2  business  389  Egypt to sell off state-owned bank\\n\\nThe Egyp...\n",
              "3  business  479  Ford gains from finance not cars\\n\\nFord, the ...\n",
              "4  business  233  Bat spit drug firm goes to market\\n\\nA German ..."
            ]
          },
          "metadata": {
            "tags": []
          },
          "execution_count": 31
        }
      ]
    },
    {
      "cell_type": "code",
      "metadata": {
        "id": "uZXIyNwn8tT3",
        "colab_type": "code",
        "outputId": "004c5925-3951-45bd-ac30-3aad1d981947",
        "colab": {
          "base_uri": "https://localhost:8080/",
          "height": 55
        }
      },
      "source": [
        "'''\n",
        "#WordCloud\n",
        "cat = df['category'].unique()\n",
        "\n",
        "for i in range(0,len(cat)):\n",
        "    words = ' '.join(df.loc[df['category']==cat[i], 'text'])\n",
        "\n",
        "    wordcloud = WordCloud( \n",
        "                          stopwords=STOPWORDS,\n",
        "                          background_color='white',\n",
        "                          width=800,\n",
        "                          height=400\n",
        "                ).generate(words)\n",
        "    print(cat[i])\n",
        "    plt.figure(figsize=(10, 5))\n",
        "    plt.imshow(wordcloud)\n",
        "    plt.axis('off')\n",
        "    plt.show()\n",
        "\n",
        "words = ' '.join(df.loc[:, 'text'])\n",
        "\n",
        "wordcloud = WordCloud( \n",
        "                      stopwords=STOPWORDS,\n",
        "                      background_color='white',\n",
        "                      width=800,\n",
        "                      height=400\n",
        "            ).generate(words)\n",
        "print(\"ALL Categories:\")\n",
        "plt.figure(figsize=(10, 5))\n",
        "plt.imshow(wordcloud)\n",
        "plt.axis('off')\n",
        "plt.show()\n",
        "'''"
      ],
      "execution_count": 0,
      "outputs": [
        {
          "output_type": "execute_result",
          "data": {
            "text/plain": [
              "'\\n#WordCloud\\ncat = df[\\'category\\'].unique()\\n\\nfor i in range(0,len(cat)):\\n    words = \\' \\'.join(df.loc[df[\\'category\\']==cat[i], \\'text\\'])\\n\\n    wordcloud = WordCloud( \\n                          stopwords=STOPWORDS,\\n                          background_color=\\'white\\',\\n                          width=800,\\n                          height=400\\n                ).generate(words)\\n    print(cat[i])\\n    plt.figure(figsize=(10, 5))\\n    plt.imshow(wordcloud)\\n    plt.axis(\\'off\\')\\n    plt.show()\\n\\nwords = \\' \\'.join(df.loc[:, \\'text\\'])\\n\\nwordcloud = WordCloud( \\n                      stopwords=STOPWORDS,\\n                      background_color=\\'white\\',\\n                      width=800,\\n                      height=400\\n            ).generate(words)\\nprint(\"ALL Categories:\")\\nplt.figure(figsize=(10, 5))\\nplt.imshow(wordcloud)\\nplt.axis(\\'off\\')\\nplt.show()\\n'"
            ]
          },
          "metadata": {
            "tags": []
          },
          "execution_count": 32
        }
      ]
    },
    {
      "cell_type": "markdown",
      "metadata": {
        "id": "JR2fsHlbr_Tj",
        "colab_type": "text"
      },
      "source": [
        "## Label Encoder\n",
        "#### Use inverse_transform at the end after predicting"
      ]
    },
    {
      "cell_type": "code",
      "metadata": {
        "id": "385fGoXNldB0",
        "colab_type": "code",
        "outputId": "c078516d-05a8-441d-9f43-d98a3cc1efc9",
        "colab": {
          "base_uri": "https://localhost:8080/",
          "height": 138
        }
      },
      "source": [
        "y = df['category']\n",
        "X = df.drop(['category','id'],axis=1)\n",
        "X_train, X_test, y_train, y_test  = train_test_split(X,y,stratify=y, test_size=0.2, random_state=123)\n",
        "X_train = X_train.reset_index(drop=True)\n",
        "X_test = X_test.reset_index(drop=True)\n",
        "y_test = y_test.reset_index(drop=True)\n",
        "\n",
        "print('before: %s ...' %y_train[:5])\n",
        "\n",
        "le = LabelEncoder()\n",
        "le.fit(y_train)\n",
        "y_train = le.transform(y_train)\n",
        "\n",
        "print('after: %s ...' %y_train)"
      ],
      "execution_count": 0,
      "outputs": [
        {
          "output_type": "stream",
          "text": [
            "before: 1508       sport\n",
            "1908        tech\n",
            "2104        tech\n",
            "2019        tech\n",
            "1245    politics\n",
            "Name: category, dtype: object ...\n",
            "after: [3 4 4 ... 1 0 2] ...\n"
          ],
          "name": "stdout"
        }
      ]
    },
    {
      "cell_type": "code",
      "metadata": {
        "id": "n9jqvQtYDhR0",
        "colab_type": "code",
        "outputId": "d0c1524b-59e8-46de-b4a6-8e21d7851c35",
        "colab": {
          "base_uri": "https://localhost:8080/",
          "height": 155
        }
      },
      "source": [
        "print(np.bincount(y_train))\n",
        "print(y.value_counts())\n",
        "print(le.inverse_transform([i for i in range(5)]))"
      ],
      "execution_count": 0,
      "outputs": [
        {
          "output_type": "stream",
          "text": [
            "[408 309 333 409 321]\n",
            "sport            511\n",
            "business         510\n",
            "politics         417\n",
            "tech             401\n",
            "entertainment    386\n",
            "Name: category, dtype: int64\n",
            "['business' 'entertainment' 'politics' 'sport' 'tech']\n"
          ],
          "name": "stdout"
        }
      ]
    },
    {
      "cell_type": "markdown",
      "metadata": {
        "id": "1e6g_BjOsZ3i",
        "colab_type": "text"
      },
      "source": [
        "## Preprocess Data - (split by \\n, remove periods, remove slashes)"
      ]
    },
    {
      "cell_type": "code",
      "metadata": {
        "id": "fkDSvsY8cv5g",
        "colab_type": "code",
        "colab": {}
      },
      "source": [
        "#Parameters for hyperparameter  tuning\n",
        "dropout = 0.4\n",
        "EMBEDDING_DIM = 100\n",
        "traina = True #embeedding layer trainable"
      ],
      "execution_count": 0,
      "outputs": []
    },
    {
      "cell_type": "code",
      "metadata": {
        "id": "_3Iv6MC3s26i",
        "colab_type": "code",
        "colab": {}
      },
      "source": [
        "def preprocess(X):\n",
        "  return X.map(lambda x: x.lower().split(\"\\n\")).map(lambda x: [y.split(\". \") for y in x]).map(lambda x: [i.replace('\\'','') for sl in x for i in sl if i is not ''])"
      ],
      "execution_count": 0,
      "outputs": []
    },
    {
      "cell_type": "code",
      "metadata": {
        "id": "6EgQMq_CtK8d",
        "colab_type": "code",
        "colab": {}
      },
      "source": [
        "#Preprocess both train and test separately\n",
        "X_train['text'] = preprocess(X_train['text'])\n",
        "X_test['text'] = preprocess(X_test['text'])"
      ],
      "execution_count": 0,
      "outputs": []
    },
    {
      "cell_type": "code",
      "metadata": {
        "id": "Wme2RkYu2UR0",
        "colab_type": "code",
        "colab": {}
      },
      "source": [
        "#Stop Words and Lemmatization   \n",
        "lemmatizer = WordNetLemmatizer()\n",
        "stopw = nltk.corpus.stopwords.words('english')\n",
        "punct = string.punctuation\n",
        "punct = word_tokenize(punct)\n",
        "punct += ['.','``','...','\\'s','--','-','n\\'t','\\'']\n",
        "stopw += punct\n",
        "def token_stop(text):\n",
        "    global stopw\n",
        "    global lemmatizer\n",
        "    words = word_tokenize(text)\n",
        "    filtered = [lemmatizer.lemmatize(w) for w in words if not w in stopw]\n",
        "    return filtered\n",
        "  \n",
        "X_train['text'] = X_train['text'].map(lambda x: [token_stop(i) for i in x]).map(lambda x: [i for sl in x for i in sl])\n",
        "X_test['text'] = X_test['text'].map(lambda x: [token_stop(i) for i in x]).map(lambda x: [i for sl in x for i in sl])"
      ],
      "execution_count": 0,
      "outputs": []
    },
    {
      "cell_type": "code",
      "metadata": {
        "id": "fHKBz-DG8HTu",
        "colab_type": "code",
        "colab": {}
      },
      "source": [
        "texts = np.array(X_train['text'])\n",
        "test_text = np.array(X_test['text'])"
      ],
      "execution_count": 0,
      "outputs": []
    },
    {
      "cell_type": "code",
      "metadata": {
        "id": "sLe602IIEqV6",
        "colab_type": "code",
        "outputId": "ace11433-10a6-4b70-e636-9e676e4a18f4",
        "colab": {
          "base_uri": "https://localhost:8080/",
          "height": 35
        }
      },
      "source": [
        "MAX_SEQUENCE_LENGTH = 1000\n",
        "MAX_NB_WORDS = 20000\n",
        "VALIDATION_SPLIT = 0.2\n",
        "embeddings_index = {}\n",
        "with open('glove.6B.'+str(EMBEDDING_DIM)+'d.txt') as f:\n",
        "    for line in f:\n",
        "        word, coefs = line.split(maxsplit=1)\n",
        "        coefs = np.fromstring(coefs, 'f', sep=' ')\n",
        "        embeddings_index[word] = coefs\n",
        "\n",
        "print('Found %s word vectors.' % len(embeddings_index))"
      ],
      "execution_count": 0,
      "outputs": [
        {
          "output_type": "stream",
          "text": [
            "Found 400000 word vectors.\n"
          ],
          "name": "stdout"
        }
      ]
    },
    {
      "cell_type": "code",
      "metadata": {
        "id": "9thZOjdY_Sl6",
        "colab_type": "code",
        "outputId": "fd7b8101-27a5-4e06-ca6a-564ecee668d2",
        "colab": {
          "base_uri": "https://localhost:8080/",
          "height": 124
        }
      },
      "source": [
        "tokenizer = Tokenizer(nb_words=MAX_NB_WORDS)\n",
        "tokenizer.fit_on_texts(texts)\n",
        "sequences = tokenizer.texts_to_sequences(texts)\n",
        "\n",
        "word_index = tokenizer.word_index\n",
        "print('Found %s unique tokens.' % len(word_index))\n",
        "\n",
        "data = pad_sequences(sequences, maxlen=MAX_SEQUENCE_LENGTH)\n",
        "\n",
        "labels = to_categorical(np.asarray(y_train))\n",
        "print('Shape of data tensor:', data.shape)\n",
        "print('Shape of label tensor:', labels.shape)\n",
        "\n",
        "# split the data into a training set and a validation set\n",
        "indices = np.arange(data.shape[0])\n",
        "np.random.shuffle(indices)\n",
        "data = data[indices]\n",
        "labels = labels[indices]\n",
        "nb_validation_samples = int(VALIDATION_SPLIT * data.shape[0])\n",
        "\n",
        "xtrain = data[:-nb_validation_samples]\n",
        "ytrain = labels[:-nb_validation_samples]\n",
        "xval = data[-nb_validation_samples:]\n",
        "yval = labels[-nb_validation_samples:]"
      ],
      "execution_count": 0,
      "outputs": [
        {
          "output_type": "stream",
          "text": [
            "/usr/local/lib/python3.6/dist-packages/keras_preprocessing/text.py:178: UserWarning: The `nb_words` argument in `Tokenizer` has been renamed `num_words`.\n",
            "  warnings.warn('The `nb_words` argument in `Tokenizer` '\n"
          ],
          "name": "stderr"
        },
        {
          "output_type": "stream",
          "text": [
            "Found 28515 unique tokens.\n",
            "Shape of data tensor: (1780, 1000)\n",
            "Shape of label tensor: (1780, 5)\n"
          ],
          "name": "stdout"
        }
      ]
    },
    {
      "cell_type": "code",
      "metadata": {
        "id": "VofHdiAqIRqc",
        "colab_type": "code",
        "colab": {}
      },
      "source": [
        "#Create glove embedding matrix\n",
        "embedding_matrix = np.zeros((len(word_index) + 1, EMBEDDING_DIM))\n",
        "for word, i in word_index.items():\n",
        "    embedding_vector = embeddings_index.get(word)\n",
        "    if embedding_vector is not None:\n",
        "        # words not found in embedding index will be all-zeros.\n",
        "        embedding_matrix[i] = embedding_vector"
      ],
      "execution_count": 0,
      "outputs": []
    },
    {
      "cell_type": "code",
      "metadata": {
        "id": "o3yooq2DI-dT",
        "colab_type": "code",
        "colab": {}
      },
      "source": [
        "traina = True\n",
        "#Keras Glove Embedding layer\n",
        "embedding_layer = Embedding(len(word_index) + 1,\n",
        "                            EMBEDDING_DIM,\n",
        "                            weights=[embedding_matrix],\n",
        "                            input_length=MAX_SEQUENCE_LENGTH,\n",
        "                            trainable=traina)"
      ],
      "execution_count": 0,
      "outputs": []
    },
    {
      "cell_type": "code",
      "metadata": {
        "id": "iuZyVOsKKD6T",
        "colab_type": "code",
        "outputId": "34a826ba-d062-402d-bf70-2d61693ddd83",
        "colab": {
          "base_uri": "https://localhost:8080/",
          "height": 35
        }
      },
      "source": [
        "#Map label name to its index\n",
        "labels_index = {}\n",
        "for i in range(5):\n",
        "  name = le.inverse_transform([i])[0]\n",
        "  labels_index[name] = i\n",
        "labels_index"
      ],
      "execution_count": 0,
      "outputs": [
        {
          "output_type": "execute_result",
          "data": {
            "text/plain": [
              "{'business': 0, 'entertainment': 1, 'politics': 2, 'sport': 3, 'tech': 4}"
            ]
          },
          "metadata": {
            "tags": []
          },
          "execution_count": 43
        }
      ]
    },
    {
      "cell_type": "markdown",
      "metadata": {
        "id": "e18TBVrC9iwT",
        "colab_type": "text"
      },
      "source": [
        "## Train Model"
      ]
    },
    {
      "cell_type": "code",
      "metadata": {
        "id": "ijGeDWg6-XsZ",
        "colab_type": "code",
        "colab": {}
      },
      "source": [
        "model_name = \"CNN-\"+str(dropout)+\"-\"+str(EMBEDDING_DIM)+\"-Trainable-\"+traina\n",
        "checkpointer = ModelCheckpoint(model_name + \"_weights.{epoch:02d}-{val_loss:.2f}.hdf5\", monitor=\"val_loss\", verbose=1,\n",
        "                               save_best_only=True, mode='min')\n",
        "early_stopping = EarlyStopping(monitor='val_loss', min_delta=0, patience=10, verbose=1, mode='auto')\n",
        "tensorboard_cnn = TensorBoard(log_dir='/Graph_CNN', histogram_freq=0,write_graph=True, write_images=True)"
      ],
      "execution_count": 0,
      "outputs": []
    },
    {
      "cell_type": "code",
      "metadata": {
        "id": "53s9TZ_mI_XY",
        "colab_type": "code",
        "colab": {}
      },
      "source": [
        "np.random.seed(123)\n",
        "sequence_input = Input(shape=(MAX_SEQUENCE_LENGTH,), dtype='int32')\n",
        "embedded_sequences = embedding_layer(sequence_input)\n",
        "x = Conv1D(128, 5, activation='relu')(embedded_sequences)\n",
        "x = MaxPooling1D(5)(x)\n",
        "x = Dropout(dropout,seed=123)(x)\n",
        "x = Conv1D(128, 5, activation='relu')(x)\n",
        "x = MaxPooling1D(5)(x)\n",
        "x = Dropout(dropout,seed=123)(x)\n",
        "x = Conv1D(128, 5, activation='relu')(x)\n",
        "x = MaxPooling1D(35)(x)  # global max pooling\n",
        "x = Dropout(dropout,seed=123)(x)\n",
        "x = Flatten()(x)\n",
        "x = Dense(128, activation='relu')(x)\n",
        "preds = Dense(len(labels_index), activation='softmax')(x)\n",
        "\n",
        "model = Model(sequence_input, preds)\n",
        "model.compile(loss='categorical_crossentropy',\n",
        "              optimizer='rmsprop',\n",
        "              metrics=['acc'])"
      ],
      "execution_count": 0,
      "outputs": []
    },
    {
      "cell_type": "code",
      "metadata": {
        "id": "Fp3SQDq3-tfj",
        "colab_type": "code",
        "outputId": "98da9440-4269-4872-9e2c-1290e13c5c8f",
        "colab": {
          "base_uri": "https://localhost:8080/",
          "height": 1520
        }
      },
      "source": [
        "np.random.seed(123)\n",
        "stmillis = int(round(time.time() * 1000))\n",
        "history = model.fit(xtrain, ytrain, validation_data=(xval, yval),\n",
        "          epochs=50, batch_size=128, callbacks=[checkpointer, early_stopping],shuffle=False)\n",
        "endmillis = int(round(time.time() * 1000))\n",
        "print(\"Time taken: \", endmillis - stmillis)"
      ],
      "execution_count": 0,
      "outputs": [
        {
          "output_type": "stream",
          "text": [
            "Train on 1424 samples, validate on 356 samples\n",
            "Epoch 1/50\n",
            "1424/1424 [==============================] - 1s 713us/step - loss: 1.5490 - acc: 0.3904 - val_loss: 0.9238 - val_acc: 0.7528\n",
            "\n",
            "Epoch 00001: val_loss improved from inf to 0.92377, saving model to CNN_weights.01-0.92.hdf5\n",
            "Epoch 2/50\n",
            "1424/1424 [==============================] - 1s 362us/step - loss: 0.5359 - acc: 0.8223 - val_loss: 0.2840 - val_acc: 0.8989\n",
            "\n",
            "Epoch 00002: val_loss improved from 0.92377 to 0.28404, saving model to CNN_weights.02-0.28.hdf5\n",
            "Epoch 3/50\n",
            "1424/1424 [==============================] - 1s 374us/step - loss: 0.2119 - acc: 0.9235 - val_loss: 0.2478 - val_acc: 0.9157\n",
            "\n",
            "Epoch 00003: val_loss improved from 0.28404 to 0.24779, saving model to CNN_weights.03-0.25.hdf5\n",
            "Epoch 4/50\n",
            "1424/1424 [==============================] - 1s 373us/step - loss: 0.1334 - acc: 0.9586 - val_loss: 0.1517 - val_acc: 0.9494\n",
            "\n",
            "Epoch 00004: val_loss improved from 0.24779 to 0.15168, saving model to CNN_weights.04-0.15.hdf5\n",
            "Epoch 5/50\n",
            "1424/1424 [==============================] - 1s 369us/step - loss: 0.1496 - acc: 0.9565 - val_loss: 0.1459 - val_acc: 0.9494\n",
            "\n",
            "Epoch 00005: val_loss improved from 0.15168 to 0.14595, saving model to CNN_weights.05-0.15.hdf5\n",
            "Epoch 6/50\n",
            "1424/1424 [==============================] - 1s 383us/step - loss: 0.1128 - acc: 0.9635 - val_loss: 0.2322 - val_acc: 0.9382\n",
            "\n",
            "Epoch 00006: val_loss did not improve from 0.14595\n",
            "Epoch 7/50\n",
            "1424/1424 [==============================] - 1s 372us/step - loss: 0.0473 - acc: 0.9867 - val_loss: 0.1248 - val_acc: 0.9635\n",
            "\n",
            "Epoch 00007: val_loss improved from 0.14595 to 0.12485, saving model to CNN_weights.07-0.12.hdf5\n",
            "Epoch 8/50\n",
            "1424/1424 [==============================] - 1s 381us/step - loss: 0.0553 - acc: 0.9817 - val_loss: 0.1412 - val_acc: 0.9551\n",
            "\n",
            "Epoch 00008: val_loss did not improve from 0.12485\n",
            "Epoch 9/50\n",
            "1424/1424 [==============================] - 1s 380us/step - loss: 0.0237 - acc: 0.9965 - val_loss: 0.1537 - val_acc: 0.9607\n",
            "\n",
            "Epoch 00009: val_loss did not improve from 0.12485\n",
            "Epoch 10/50\n",
            "1424/1424 [==============================] - 1s 375us/step - loss: 0.0513 - acc: 0.9838 - val_loss: 0.1200 - val_acc: 0.9663\n",
            "\n",
            "Epoch 00010: val_loss improved from 0.12485 to 0.12001, saving model to CNN_weights.10-0.12.hdf5\n",
            "Epoch 11/50\n",
            "1424/1424 [==============================] - 1s 372us/step - loss: 0.0548 - acc: 0.9754 - val_loss: 0.1196 - val_acc: 0.9663\n",
            "\n",
            "Epoch 00011: val_loss improved from 0.12001 to 0.11962, saving model to CNN_weights.11-0.12.hdf5\n",
            "Epoch 12/50\n",
            "1424/1424 [==============================] - 1s 373us/step - loss: 0.0079 - acc: 0.9979 - val_loss: 0.1554 - val_acc: 0.9635\n",
            "\n",
            "Epoch 00012: val_loss did not improve from 0.11962\n",
            "Epoch 13/50\n",
            "1424/1424 [==============================] - 1s 379us/step - loss: 0.0164 - acc: 0.9944 - val_loss: 0.1488 - val_acc: 0.9663\n",
            "\n",
            "Epoch 00013: val_loss did not improve from 0.11962\n",
            "Epoch 14/50\n",
            "1424/1424 [==============================] - 1s 377us/step - loss: 0.0175 - acc: 0.9930 - val_loss: 0.1588 - val_acc: 0.9663\n",
            "\n",
            "Epoch 00014: val_loss did not improve from 0.11962\n",
            "Epoch 15/50\n",
            "1424/1424 [==============================] - 1s 375us/step - loss: 0.0010 - acc: 1.0000 - val_loss: 0.1553 - val_acc: 0.9691\n",
            "\n",
            "Epoch 00015: val_loss did not improve from 0.11962\n",
            "Epoch 16/50\n",
            "1424/1424 [==============================] - 1s 371us/step - loss: 3.5257e-04 - acc: 1.0000 - val_loss: 0.1613 - val_acc: 0.9663\n",
            "\n",
            "Epoch 00016: val_loss did not improve from 0.11962\n",
            "Epoch 17/50\n",
            "1424/1424 [==============================] - 1s 375us/step - loss: 0.2021 - acc: 0.9656 - val_loss: 0.2252 - val_acc: 0.9607\n",
            "\n",
            "Epoch 00017: val_loss did not improve from 0.11962\n",
            "Epoch 18/50\n",
            "1424/1424 [==============================] - 1s 382us/step - loss: 0.0056 - acc: 0.9972 - val_loss: 0.1810 - val_acc: 0.9691\n",
            "\n",
            "Epoch 00018: val_loss did not improve from 0.11962\n",
            "Epoch 19/50\n",
            "1424/1424 [==============================] - 1s 381us/step - loss: 3.6007e-04 - acc: 1.0000 - val_loss: 0.1815 - val_acc: 0.9691\n",
            "\n",
            "Epoch 00019: val_loss did not improve from 0.11962\n",
            "Epoch 20/50\n",
            "1424/1424 [==============================] - 1s 373us/step - loss: 4.0070e-04 - acc: 1.0000 - val_loss: 0.1852 - val_acc: 0.9635\n",
            "\n",
            "Epoch 00020: val_loss did not improve from 0.11962\n",
            "Epoch 21/50\n",
            "1424/1424 [==============================] - 1s 378us/step - loss: 2.2595e-04 - acc: 1.0000 - val_loss: 0.1869 - val_acc: 0.9691\n",
            "\n",
            "Epoch 00021: val_loss did not improve from 0.11962\n",
            "Epoch 00021: early stopping\n",
            "Time taken:  13087\n"
          ],
          "name": "stdout"
        }
      ]
    },
    {
      "cell_type": "code",
      "metadata": {
        "id": "Z73Z42jPBsd3",
        "colab_type": "code",
        "outputId": "4da5bcd1-7a46-4903-f244-83ea543f9083",
        "colab": {
          "base_uri": "https://localhost:8080/",
          "height": 303
        }
      },
      "source": [
        "fig=plt.figure()\n",
        "plt.plot(history.history['acc'],'r',linewidth=3.0)\n",
        "plt.plot(history.history['val_acc'],'b',linewidth=3.0)\n",
        "plt.legend(['Training Accuracy', 'Validation Accuracy'],fontsize=18)\n",
        "plt.xlabel('Epochs ',fontsize=16)\n",
        "plt.ylabel('Accuracy',fontsize=16)\n",
        "plt.title('Accuracy Curves : CNN',fontsize=16)\n",
        "fig.savefig('accuracy_cnn.png')\n",
        "plt.show()"
      ],
      "execution_count": 0,
      "outputs": [
        {
          "output_type": "display_data",
          "data": {
            "image/png": "[encoded data removed]",
            "text/plain": [
              "<Figure size 432x288 with 1 Axes>"
            ]
          },
          "metadata": {
            "tags": []
          }
        }
      ]
    },
    {
      "cell_type": "code",
      "metadata": {
        "id": "8nUIMMQi_KrR",
        "colab_type": "code",
        "colab": {}
      },
      "source": [
        "# Save the trained weights\n",
        "model.save(model_name + \".h5\")\n",
        "\n",
        "# Save model config as json\n",
        "model_json = model.to_json()\n",
        "with open(model_name + \".json\", \"w\") as json_file:\n",
        "    json_file.write(model_json)\n",
        "\n",
        "# Persist the model to your google drive [VERY IMPORTANT]\n",
        "!cp CNN.* gdrive/My\\ Drive/"
      ],
      "execution_count": 0,
      "outputs": []
    },
    {
      "cell_type": "markdown",
      "metadata": {
        "id": "7BAwr4x19nMo",
        "colab_type": "text"
      },
      "source": [
        "## Predict on Test Data"
      ]
    },
    {
      "cell_type": "code",
      "metadata": {
        "id": "vIBlzM5zFVhG",
        "colab_type": "code",
        "colab": {}
      },
      "source": [
        "def find_test_acc(prediction):\n",
        "  count = 0\n",
        "  t = 0\n",
        "  for pred in prediction:\n",
        "    p = pred.argmax()\n",
        "    name = le.inverse_transform([p])\n",
        "    if name == y_test.loc[count]:\n",
        "      t+=1\n",
        "    count+=1\n",
        "  print('Test Accuracy:',(t/count)*100,\"%\")"
      ],
      "execution_count": 0,
      "outputs": []
    },
    {
      "cell_type": "code",
      "metadata": {
        "id": "1sM8QeKfJgRr",
        "colab_type": "code",
        "colab": {}
      },
      "source": [
        "def predict_test(model):\n",
        "  #Tokenize test data and apply model prediction\n",
        "  sequences = tokenizer.texts_to_sequences(test_text)\n",
        "  data = pad_sequences(sequences, maxlen=MAX_SEQUENCE_LENGTH)\n",
        "\n",
        "  print('Shape of data tensor:', data.shape)\n",
        "  print('Shape of label tensor:', labels.shape)\n",
        "  prediction = model.predict(data)\n",
        "  find_test_acc(prediction)"
      ],
      "execution_count": 0,
      "outputs": []
    },
    {
      "cell_type": "code",
      "metadata": {
        "id": "u_z5eMImMj57",
        "colab_type": "code",
        "outputId": "ab271bb8-d343-4dca-d56f-121b89a8b925",
        "colab": {
          "base_uri": "https://localhost:8080/",
          "height": 69
        }
      },
      "source": [
        "predict_test(model)"
      ],
      "execution_count": 0,
      "outputs": [
        {
          "output_type": "stream",
          "text": [
            "Shape of data tensor: (445, 1000)\n",
            "Shape of label tensor: (1780, 5)\n",
            "Test Accuracy: 97.52808988764045 %\n"
          ],
          "name": "stdout"
        }
      ]
    },
    {
      "cell_type": "markdown",
      "metadata": {
        "id": "p9D32NrbEPsU",
        "colab_type": "text"
      },
      "source": [
        "# RNN"
      ]
    },
    {
      "cell_type": "code",
      "metadata": {
        "id": "NjPmDH75ERKA",
        "colab_type": "code",
        "colab": {}
      },
      "source": [
        "sequence_input = Input(shape=(MAX_SEQUENCE_LENGTH,), dtype='int32')\n",
        "embedded_sequences = embedding_layer(sequence_input)\n",
        "x = Bidirectional(LSTM(100,dropout=0.4))(embedded_sequences)\n",
        "preds = Dense(len(labels_index), activation='softmax')(x)\n",
        "lstm_model = Model(sequence_input, preds)\n",
        "lstm_model.compile(loss='categorical_crossentropy',\n",
        "              optimizer='rmsprop',\n",
        "              metrics=['acc'])"
      ],
      "execution_count": 0,
      "outputs": []
    },
    {
      "cell_type": "code",
      "metadata": {
        "id": "dnLCsXllMNzi",
        "colab_type": "code",
        "outputId": "153e779a-60d4-428f-aa9d-08ae38dd2c2a",
        "colab": {
          "base_uri": "https://localhost:8080/",
          "height": 276
        }
      },
      "source": [
        "lstm_model.summary()"
      ],
      "execution_count": 0,
      "outputs": [
        {
          "output_type": "stream",
          "text": [
            "_________________________________________________________________\n",
            "Layer (type)                 Output Shape              Param #   \n",
            "=================================================================\n",
            "input_7 (InputLayer)         (None, 1000)              0         \n",
            "_________________________________________________________________\n",
            "embedding_4 (Embedding)      (None, 1000, 100)         2851600   \n",
            "_________________________________________________________________\n",
            "bidirectional_4 (Bidirection (None, 200)               160800    \n",
            "_________________________________________________________________\n",
            "dense_10 (Dense)             (None, 5)                 1005      \n",
            "=================================================================\n",
            "Total params: 3,013,405\n",
            "Trainable params: 3,013,405\n",
            "Non-trainable params: 0\n",
            "_________________________________________________________________\n"
          ],
          "name": "stdout"
        }
      ]
    },
    {
      "cell_type": "code",
      "metadata": {
        "id": "bbb9RTErE4wz",
        "colab_type": "code",
        "colab": {}
      },
      "source": [
        "model_name = \"RNN-\"+str(dropout)+\"-\"+str(EMBEDDING_DIM)+\"-Trainable-\"+traina\n",
        "checkpointer = ModelCheckpoint(model_name + \"_weights.{epoch:02d}-{val_loss:.2f}.hdf5\", monitor=\"val_loss\", verbose=1,\n",
        "                               save_best_only=True, mode='min')\n",
        "early_stopping = EarlyStopping(monitor='val_loss', min_delta=0, patience=10, verbose=1, mode='auto')\n",
        "tensorboard_rnn = TensorBoard(log_dir='./Graph_RNN', histogram_freq=0,write_graph=True, write_images=True)"
      ],
      "execution_count": 0,
      "outputs": []
    },
    {
      "cell_type": "code",
      "metadata": {
        "id": "U9x73pzTEzaO",
        "colab_type": "code",
        "outputId": "169ed9aa-7c2a-4d37-9033-ea4d165fe7be",
        "colab": {
          "base_uri": "https://localhost:8080/",
          "height": 2764
        }
      },
      "source": [
        "stmillis = int(round(time.time() * 1000))\n",
        "history = lstm_model.fit(xtrain, ytrain, validation_data=(xval, yval),\n",
        "          epochs=50, batch_size=128, callbacks=[checkpointer, early_stopping,tensorboard_rnn])\n",
        "endmillis = int(round(time.time() * 1000))\n",
        "print(\"Time taken: \", endmillis - stmillis)"
      ],
      "execution_count": 0,
      "outputs": [
        {
          "output_type": "stream",
          "text": [
            "Train on 1424 samples, validate on 356 samples\n",
            "Epoch 1/50\n",
            "1424/1424 [==============================] - 48s 34ms/step - loss: 1.3773 - acc: 0.4782 - val_loss: 0.9259 - val_acc: 0.6433\n",
            "\n",
            "Epoch 00001: val_loss improved from inf to 0.92591, saving model to RNN_weights.01-0.93.hdf5\n",
            "Epoch 2/50\n",
            "1424/1424 [==============================] - 46s 32ms/step - loss: 0.7603 - acc: 0.7647 - val_loss: 0.7437 - val_acc: 0.7528\n",
            "\n",
            "Epoch 00002: val_loss improved from 0.92591 to 0.74369, saving model to RNN_weights.02-0.74.hdf5\n",
            "Epoch 3/50\n",
            "1424/1424 [==============================] - 49s 34ms/step - loss: 0.5806 - acc: 0.8188 - val_loss: 0.3510 - val_acc: 0.9101\n",
            "\n",
            "Epoch 00003: val_loss improved from 0.74369 to 0.35098, saving model to RNN_weights.03-0.35.hdf5\n",
            "Epoch 4/50\n",
            "1424/1424 [==============================] - 46s 32ms/step - loss: 0.5584 - acc: 0.8251 - val_loss: 0.6116 - val_acc: 0.7753\n",
            "\n",
            "Epoch 00004: val_loss did not improve from 0.35098\n",
            "Epoch 5/50\n",
            "1424/1424 [==============================] - 46s 33ms/step - loss: 0.4471 - acc: 0.8659 - val_loss: 0.3301 - val_acc: 0.9129\n",
            "\n",
            "Epoch 00005: val_loss improved from 0.35098 to 0.33007, saving model to RNN_weights.05-0.33.hdf5\n",
            "Epoch 6/50\n",
            "1424/1424 [==============================] - 46s 32ms/step - loss: 0.3583 - acc: 0.8954 - val_loss: 0.2931 - val_acc: 0.9185\n",
            "\n",
            "Epoch 00006: val_loss improved from 0.33007 to 0.29307, saving model to RNN_weights.06-0.29.hdf5\n",
            "Epoch 7/50\n",
            "1424/1424 [==============================] - 46s 32ms/step - loss: 0.3579 - acc: 0.8904 - val_loss: 0.2705 - val_acc: 0.9242\n",
            "\n",
            "Epoch 00007: val_loss improved from 0.29307 to 0.27052, saving model to RNN_weights.07-0.27.hdf5\n",
            "Epoch 8/50\n",
            "1424/1424 [==============================] - 47s 33ms/step - loss: 0.2987 - acc: 0.9157 - val_loss: 0.2905 - val_acc: 0.9242\n",
            "\n",
            "Epoch 00008: val_loss did not improve from 0.27052\n",
            "Epoch 9/50\n",
            "1424/1424 [==============================] - 47s 33ms/step - loss: 0.2968 - acc: 0.9185 - val_loss: 0.2310 - val_acc: 0.9382\n",
            "\n",
            "Epoch 00009: val_loss improved from 0.27052 to 0.23100, saving model to RNN_weights.09-0.23.hdf5\n",
            "Epoch 10/50\n",
            "1424/1424 [==============================] - 48s 34ms/step - loss: 0.2788 - acc: 0.9185 - val_loss: 0.2541 - val_acc: 0.9410\n",
            "\n",
            "Epoch 00010: val_loss did not improve from 0.23100\n",
            "Epoch 11/50\n",
            "1424/1424 [==============================] - 46s 32ms/step - loss: 0.2591 - acc: 0.9305 - val_loss: 0.2523 - val_acc: 0.9382\n",
            "\n",
            "Epoch 00011: val_loss did not improve from 0.23100\n",
            "Epoch 12/50\n",
            "1424/1424 [==============================] - 47s 33ms/step - loss: 0.3085 - acc: 0.9052 - val_loss: 0.2245 - val_acc: 0.9298\n",
            "\n",
            "Epoch 00012: val_loss improved from 0.23100 to 0.22451, saving model to RNN_weights.12-0.22.hdf5\n",
            "Epoch 13/50\n",
            "1424/1424 [==============================] - 47s 33ms/step - loss: 0.2653 - acc: 0.9242 - val_loss: 0.2334 - val_acc: 0.9382\n",
            "\n",
            "Epoch 00013: val_loss did not improve from 0.22451\n",
            "Epoch 14/50\n",
            "1424/1424 [==============================] - 46s 32ms/step - loss: 0.2167 - acc: 0.9410 - val_loss: 0.2223 - val_acc: 0.9438\n",
            "\n",
            "Epoch 00014: val_loss improved from 0.22451 to 0.22229, saving model to RNN_weights.14-0.22.hdf5\n",
            "Epoch 15/50\n",
            "1424/1424 [==============================] - 47s 33ms/step - loss: 0.2054 - acc: 0.9382 - val_loss: 0.1843 - val_acc: 0.9551\n",
            "\n",
            "Epoch 00015: val_loss improved from 0.22229 to 0.18431, saving model to RNN_weights.15-0.18.hdf5\n",
            "Epoch 16/50\n",
            "1424/1424 [==============================] - 48s 34ms/step - loss: 0.2379 - acc: 0.9298 - val_loss: 0.3028 - val_acc: 0.9270\n",
            "\n",
            "Epoch 00016: val_loss did not improve from 0.18431\n",
            "Epoch 17/50\n",
            "1424/1424 [==============================] - 47s 33ms/step - loss: 0.2474 - acc: 0.9305 - val_loss: 0.2108 - val_acc: 0.9438\n",
            "\n",
            "Epoch 00017: val_loss did not improve from 0.18431\n",
            "Epoch 18/50\n",
            "1424/1424 [==============================] - 46s 32ms/step - loss: 0.1844 - acc: 0.9508 - val_loss: 0.2326 - val_acc: 0.9354\n",
            "\n",
            "Epoch 00018: val_loss did not improve from 0.18431\n",
            "Epoch 19/50\n",
            "1424/1424 [==============================] - 47s 33ms/step - loss: 0.1837 - acc: 0.9480 - val_loss: 0.2400 - val_acc: 0.9326\n",
            "\n",
            "Epoch 00019: val_loss did not improve from 0.18431\n",
            "Epoch 20/50\n",
            "1424/1424 [==============================] - 47s 33ms/step - loss: 0.1763 - acc: 0.9537 - val_loss: 0.2763 - val_acc: 0.9298\n",
            "\n",
            "Epoch 00020: val_loss did not improve from 0.18431\n",
            "Epoch 21/50\n",
            "1424/1424 [==============================] - 46s 32ms/step - loss: 0.1577 - acc: 0.9579 - val_loss: 0.5939 - val_acc: 0.8399\n",
            "\n",
            "Epoch 00021: val_loss did not improve from 0.18431\n",
            "Epoch 22/50\n",
            "1424/1424 [==============================] - 48s 34ms/step - loss: 0.2088 - acc: 0.9417 - val_loss: 0.1561 - val_acc: 0.9607\n",
            "\n",
            "Epoch 00022: val_loss improved from 0.18431 to 0.15610, saving model to RNN_weights.22-0.16.hdf5\n",
            "Epoch 23/50\n",
            "1424/1424 [==============================] - 47s 33ms/step - loss: 0.1782 - acc: 0.9529 - val_loss: 0.4127 - val_acc: 0.8876\n",
            "\n",
            "Epoch 00023: val_loss did not improve from 0.15610\n",
            "Epoch 24/50\n",
            "1424/1424 [==============================] - 47s 33ms/step - loss: 0.1777 - acc: 0.9501 - val_loss: 0.1521 - val_acc: 0.9635\n",
            "\n",
            "Epoch 00024: val_loss improved from 0.15610 to 0.15211, saving model to RNN_weights.24-0.15.hdf5\n",
            "Epoch 25/50\n",
            "1424/1424 [==============================] - 47s 33ms/step - loss: 0.1490 - acc: 0.9565 - val_loss: 0.1562 - val_acc: 0.9607\n",
            "\n",
            "Epoch 00025: val_loss did not improve from 0.15211\n",
            "Epoch 26/50\n",
            "1424/1424 [==============================] - 46s 32ms/step - loss: 0.1769 - acc: 0.9501 - val_loss: 0.1249 - val_acc: 0.9719\n",
            "\n",
            "Epoch 00026: val_loss improved from 0.15211 to 0.12492, saving model to RNN_weights.26-0.12.hdf5\n",
            "Epoch 27/50\n",
            "1424/1424 [==============================] - 47s 33ms/step - loss: 0.1806 - acc: 0.9494 - val_loss: 0.1390 - val_acc: 0.9607\n",
            "\n",
            "Epoch 00027: val_loss did not improve from 0.12492\n",
            "Epoch 28/50\n",
            "1424/1424 [==============================] - 46s 32ms/step - loss: 0.1453 - acc: 0.9565 - val_loss: 0.1179 - val_acc: 0.9719\n",
            "\n",
            "Epoch 00028: val_loss improved from 0.12492 to 0.11791, saving model to RNN_weights.28-0.12.hdf5\n",
            "Epoch 29/50\n",
            "1424/1424 [==============================] - 48s 34ms/step - loss: 0.1302 - acc: 0.9663 - val_loss: 0.1093 - val_acc: 0.9747\n",
            "\n",
            "Epoch 00029: val_loss improved from 0.11791 to 0.10932, saving model to RNN_weights.29-0.11.hdf5\n",
            "Epoch 30/50\n",
            "1424/1424 [==============================] - 46s 32ms/step - loss: 0.1015 - acc: 0.9726 - val_loss: 0.1339 - val_acc: 0.9719\n",
            "\n",
            "Epoch 00030: val_loss did not improve from 0.10932\n",
            "Epoch 31/50\n",
            "1424/1424 [==============================] - 47s 33ms/step - loss: 0.1277 - acc: 0.9642 - val_loss: 0.1662 - val_acc: 0.9607\n",
            "\n",
            "Epoch 00031: val_loss did not improve from 0.10932\n",
            "Epoch 32/50\n",
            "1424/1424 [==============================] - 47s 33ms/step - loss: 0.1161 - acc: 0.9712 - val_loss: 0.1546 - val_acc: 0.9607\n",
            "\n",
            "Epoch 00032: val_loss did not improve from 0.10932\n",
            "Epoch 33/50\n",
            "1424/1424 [==============================] - 45s 32ms/step - loss: 0.1292 - acc: 0.9642 - val_loss: 0.1545 - val_acc: 0.9551\n",
            "\n",
            "Epoch 00033: val_loss did not improve from 0.10932\n",
            "Epoch 34/50\n",
            "1424/1424 [==============================] - 47s 33ms/step - loss: 0.0871 - acc: 0.9782 - val_loss: 0.1725 - val_acc: 0.9579\n",
            "\n",
            "Epoch 00034: val_loss did not improve from 0.10932\n",
            "Epoch 35/50\n",
            "1424/1424 [==============================] - 45s 32ms/step - loss: 0.0886 - acc: 0.9754 - val_loss: 0.4766 - val_acc: 0.9185\n",
            "\n",
            "Epoch 00035: val_loss did not improve from 0.10932\n",
            "Epoch 36/50\n",
            "1424/1424 [==============================] - 47s 33ms/step - loss: 0.0992 - acc: 0.9747 - val_loss: 0.1433 - val_acc: 0.9607\n",
            "\n",
            "Epoch 00036: val_loss did not improve from 0.10932\n",
            "Epoch 37/50\n",
            "1424/1424 [==============================] - 45s 32ms/step - loss: 0.0794 - acc: 0.9782 - val_loss: 0.1493 - val_acc: 0.9663\n",
            "\n",
            "Epoch 00037: val_loss did not improve from 0.10932\n",
            "Epoch 38/50\n",
            "1424/1424 [==============================] - 46s 33ms/step - loss: 0.0827 - acc: 0.9761 - val_loss: 0.2052 - val_acc: 0.9438\n",
            "\n",
            "Epoch 00038: val_loss did not improve from 0.10932\n",
            "Epoch 39/50\n",
            "1424/1424 [==============================] - 47s 33ms/step - loss: 0.1059 - acc: 0.9691 - val_loss: 0.1531 - val_acc: 0.9635\n",
            "\n",
            "Epoch 00039: val_loss did not improve from 0.10932\n",
            "Epoch 00039: early stopping\n",
            "Time taken:  1826073\n"
          ],
          "name": "stdout"
        }
      ]
    },
    {
      "cell_type": "code",
      "metadata": {
        "id": "vl8sxWfCEvhn",
        "colab_type": "code",
        "outputId": "9f8e9e50-f319-41fb-f542-cf0a4b0911d8",
        "colab": {
          "base_uri": "https://localhost:8080/",
          "height": 303
        }
      },
      "source": [
        "fig=plt.figure()\n",
        "plt.plot(history.history['acc'],'r',linewidth=3.0)\n",
        "plt.plot(history.history['val_acc'],'b',linewidth=3.0)\n",
        "plt.legend(['Training Accuracy', 'Validation Accuracy'],fontsize=18)\n",
        "plt.xlabel('Epochs ',fontsize=16)\n",
        "plt.ylabel('Accuracy',fontsize=16)\n",
        "plt.title('Accuracy Curves : CNN',fontsize=16)\n",
        "fig.savefig('accuracy_cnn.png')\n",
        "plt.show()"
      ],
      "execution_count": 0,
      "outputs": [
        {
          "output_type": "display_data",
          "data": {
            "image/png": "[encoded data removed]",
            "text/plain": [
              "<Figure size 432x288 with 1 Axes>"
            ]
          },
          "metadata": {
            "tags": []
          }
        }
      ]
    },
    {
      "cell_type": "code",
      "metadata": {
        "id": "VbE3Cy1LFJhy",
        "colab_type": "code",
        "colab": {}
      },
      "source": [
        "# Save the trained weights\n",
        "lstm_model.save(model_name + \".h5\")\n",
        "\n",
        "# Save model config as json\n",
        "model_json = lstm_model.to_json()\n",
        "with open(model_name + \".json\", \"w\") as json_file:\n",
        "    json_file.write(model_json)\n",
        "\n",
        "# Persist the model to your google drive [VERY IMPORTANT]\n",
        "!cp RNN.* gdrive/My\\ Drive/"
      ],
      "execution_count": 0,
      "outputs": []
    },
    {
      "cell_type": "code",
      "metadata": {
        "id": "6dqZeS3tGII0",
        "colab_type": "code",
        "outputId": "2e0c753a-3d4f-4f80-81b6-1528c7b53ce8",
        "colab": {
          "base_uri": "https://localhost:8080/",
          "height": 69
        }
      },
      "source": [
        "predict_test(lstm_model)"
      ],
      "execution_count": 0,
      "outputs": [
        {
          "output_type": "stream",
          "text": [
            "Shape of data tensor: (445, 1000)\n",
            "Shape of label tensor: (1780, 5)\n",
            "Test Accuracy: 96.85393258426967 %\n"
          ],
          "name": "stdout"
        }
      ]
    },
    {
      "cell_type": "markdown",
      "metadata": {
        "id": "R55FX-Xq3XkP",
        "colab_type": "text"
      },
      "source": [
        "## Tensorboard"
      ]
    },
    {
      "cell_type": "code",
      "metadata": {
        "id": "Bz0qLhb1Gi2s",
        "colab_type": "code",
        "outputId": "be373cc4-da84-4a98-fc17-b34a716e5b76",
        "colab": {
          "base_uri": "https://localhost:8080/",
          "height": 242
        }
      },
      "source": [
        "!wget https://bin.equinox.io/c/4VmDzA7iaHb/ngrok-stable-linux-amd64.zip\n",
        "!unzip ngrok-stable-linux-amd64.zip"
      ],
      "execution_count": 0,
      "outputs": [
        {
          "output_type": "stream",
          "text": [
            "--2019-05-02 00:05:03--  https://bin.equinox.io/c/4VmDzA7iaHb/ngrok-stable-linux-amd64.zip\n",
            "Resolving bin.equinox.io (bin.equinox.io)... 52.72.245.79, 3.92.108.98, 52.55.191.55, ...\n",
            "Connecting to bin.equinox.io (bin.equinox.io)|52.72.245.79|:443... connected.\n",
            "HTTP request sent, awaiting response... 200 OK\n",
            "Length: 14991793 (14M) [application/octet-stream]\n",
            "Saving to: ‘ngrok-stable-linux-amd64.zip’\n",
            "\n",
            "ngrok-stable-linux- 100%[===================>]  14.30M  60.7MB/s    in 0.2s    \n",
            "\n",
            "2019-05-02 00:05:03 (60.7 MB/s) - ‘ngrok-stable-linux-amd64.zip’ saved [14991793/14991793]\n",
            "\n",
            "Archive:  ngrok-stable-linux-amd64.zip\n",
            "  inflating: ngrok                   \n"
          ],
          "name": "stdout"
        }
      ]
    },
    {
      "cell_type": "code",
      "metadata": {
        "id": "2VIBupfd29Rk",
        "colab_type": "code",
        "colab": {}
      },
      "source": [
        "LOG_DIR = './Graph_RNN'\n",
        "get_ipython().system_raw(\n",
        "    'tensorboard --logdir {} --host 0.0.0.0 --port 6006 &'\n",
        "    .format(LOG_DIR)\n",
        ")\n",
        "get_ipython().system_raw('./ngrok http 6006 &')\n",
        "! curl -s http://localhost:4040/api/tunnels | python3 -c \\\n",
        "    \"import sys, json; print(json.load(sys.stdin)['tunnels'][0]['public_url'])\""
      ],
      "execution_count": 0,
      "outputs": []
    },
    {
      "cell_type": "code",
      "metadata": {
        "id": "HMMIu1W83CFi",
        "colab_type": "code",
        "colab": {}
      },
      "source": [
        ""
      ],
      "execution_count": 0,
      "outputs": []
    },
    {
      "cell_type": "code",
      "metadata": {
        "id": "iq6gjuse3FR6",
        "colab_type": "code",
        "outputId": "36b25387-8b5d-4d19-c26c-96f2b28ed8f7",
        "colab": {
          "base_uri": "https://localhost:8080/",
          "height": 35
        }
      },
      "source": [
        ""
      ],
      "execution_count": 0,
      "outputs": [
        {
          "output_type": "stream",
          "text": [
            "http://ad564189.ngrok.io\n"
          ],
          "name": "stdout"
        }
      ]
    },
    {
      "cell_type": "code",
      "metadata": {
        "id": "yp4_vhHk3IgS",
        "colab_type": "code",
        "outputId": "71a39744-859c-4459-db63-4df4b24fef36",
        "colab": {
          "base_uri": "https://localhost:8080/",
          "height": 501
        }
      },
      "source": [
        "!ls"
      ],
      "execution_count": 0,
      "outputs": [
        {
          "output_type": "stream",
          "text": [
            "accuracy_cnn.png\t  gdrive\n",
            "bbc\t\t\t  glove.6B.100d.txt\n",
            "bbc-fulltext.zip\t  glove.6B.200d.txt\n",
            "CNN.h5\t\t\t  glove.6B.300d.txt\n",
            "CNN.json\t\t  glove.6B.50d.txt\n",
            "CNN_weights.01-0.96.hdf5  glove.6B.zip\n",
            "CNN_weights.01-1.18.hdf5  ngrok\n",
            "CNN_weights.01-1.38.hdf5  ngrok-stable-linux-amd64.zip\n",
            "CNN_weights.02-0.42.hdf5  out.txt\n",
            "CNN_weights.02-0.48.hdf5  RNN.h5\n",
            "CNN_weights.02-0.62.hdf5  RNN.json\n",
            "CNN_weights.03-0.29.hdf5  RNN_weights.01-0.81.hdf5\n",
            "CNN_weights.03-0.34.hdf5  RNN_weights.02-0.47.hdf5\n",
            "CNN_weights.03-0.41.hdf5  RNN_weights.03-0.32.hdf5\n",
            "CNN_weights.04-0.17.hdf5  RNN_weights.06-0.31.hdf5\n",
            "CNN_weights.04-0.19.hdf5  RNN_weights.07-0.28.hdf5\n",
            "CNN_weights.04-0.24.hdf5  RNN_weights.09-0.28.hdf5\n",
            "CNN_weights.05-0.16.hdf5  RNN_weights.10-0.25.hdf5\n",
            "CNN_weights.05-0.18.hdf5  RNN_weights.13-0.21.hdf5\n",
            "CNN_weights.06-0.15.hdf5  RNN_weights.19-0.19.hdf5\n",
            "CNN_weights.09-0.14.hdf5  RNN_weights.20-0.19.hdf5\n",
            "CNN_weights.09-0.15.hdf5  RNN_weights.23-0.16.hdf5\n",
            "CNN_weights.09-0.17.hdf5  RNN_weights.26-0.14.hdf5\n",
            "CNN_weights.10-0.14.hdf5  RNN_weights.34-0.12.hdf5\n",
            "CNN_weights.11-0.11.hdf5  RNN_weights.39-0.12.hdf5\n",
            "CNN_weights.11-0.16.hdf5  RNN_weights.43-0.12.hdf5\n",
            "CNN_weights.13-0.14.hdf5  sample_data\n",
            "CNN_weights.15-0.13.hdf5\n"
          ],
          "name": "stdout"
        }
      ]
    },
    {
      "cell_type": "code",
      "metadata": {
        "id": "yxpBpPCy3Om5",
        "colab_type": "code",
        "colab": {}
      },
      "source": [
        ""
      ],
      "execution_count": 0,
      "outputs": []
    }
  ]
}