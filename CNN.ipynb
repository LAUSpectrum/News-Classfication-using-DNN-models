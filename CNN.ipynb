{
  "nbformat": 4,
  "nbformat_minor": 0,
  "metadata": {
    "colab": {
      "name": "CNN",
      "version": "0.3.2",
      "provenance": [],
      "collapsed_sections": [
        "R55FX-Xq3XkP"
      ],
      "include_colab_link": true
    },
    "kernelspec": {
      "name": "python3",
      "display_name": "Python 3"
    },
    "accelerator": "GPU"
  },
  "cells": [
    {
      "cell_type": "markdown",
      "metadata": {
        "id": "view-in-github",
        "colab_type": "text"
      },
      "source": [
        "<a href=\"https://colab.research.google.com/github/rachit-shah/adbi-project/blob/master/CNN.ipynb\" target=\"_parent\"><img src=\"https://colab.research.google.com/assets/colab-badge.svg\" alt=\"Open In Colab\"/></a>"
      ]
    },
    {
      "cell_type": "markdown",
      "metadata": {
        "id": "BToPi2JX6jzd",
        "colab_type": "text"
      },
      "source": [
        "# CNN (Convolutional Neural Network)\n"
      ]
    },
    {
      "cell_type": "markdown",
      "metadata": {
        "id": "cIawNiNKf4Ji",
        "colab_type": "text"
      },
      "source": [
        "## Load Data and Glove Model From Drive"
      ]
    },
    {
      "cell_type": "code",
      "metadata": {
        "id": "JvS3pf0t6zsk",
        "colab_type": "code",
        "colab": {
          "base_uri": "https://localhost:8080/",
          "height": 34
        },
        "outputId": "0e209ceb-9b1c-4cf0-8b5c-a8d6cfbce3a7"
      },
      "source": [
        "# Mounting google drive to access data and glove model\n",
        "from google.colab import drive\n",
        "drive.mount('/content/gdrive')"
      ],
      "execution_count": 1,
      "outputs": [
        {
          "output_type": "stream",
          "text": [
            "Drive already mounted at /content/gdrive; to attempt to forcibly remount, call drive.mount(\"/content/gdrive\", force_remount=True).\n"
          ],
          "name": "stdout"
        }
      ]
    },
    {
      "cell_type": "code",
      "metadata": {
        "id": "C4KjaA03mJUn",
        "colab_type": "code",
        "colab": {
          "base_uri": "https://localhost:8080/",
          "height": 102
        },
        "outputId": "f0dad91d-e64d-4f41-8943-a4e4360e75c1"
      },
      "source": [
        "# copying dataset and embedding from drive. Unpacking the compressed files\n",
        "!cp gdrive/'My Drive'/bbc-fulltext.zip .\n",
        "!cp gdrive/'My Drive'/glove.6B.zip .\n",
        "!unzip bbc-fulltext.zip > out.txt\n",
        "!rm bbc/README.TXT\n",
        "!unzip glove.6B.zip"
      ],
      "execution_count": 2,
      "outputs": [
        {
          "output_type": "stream",
          "text": [
            "replace bbc/business/001.txt? [y]es, [n]o, [A]ll, [N]one, [r]ename: N\n",
            "Archive:  glove.6B.zip\n",
            "replace glove.6B.50d.txt? [y]es, [n]o, [A]ll, [N]one, [r]ename: \n",
            "error:  invalid response [{ENTER}]\n",
            "replace glove.6B.50d.txt? [y]es, [n]o, [A]ll, [N]one, [r]ename: N\n"
          ],
          "name": "stdout"
        }
      ]
    },
    {
      "cell_type": "code",
      "metadata": {
        "id": "e9s7l5uI7QWJ",
        "colab_type": "code",
        "outputId": "f9023a97-d4c3-4780-c9af-2faf4d8c6e98",
        "colab": {
          "base_uri": "https://localhost:8080/",
          "height": 850
        }
      },
      "source": [
        "#import all required packages and modules.\n",
        "import pandas as pd\n",
        "import numpy as np\n",
        "import matplotlib.pyplot as plt\n",
        "import os\n",
        "%matplotlib inline\n",
        "import nltk\n",
        "nltk.download('popular')\n",
        "\n",
        "from keras.preprocessing.text import Tokenizer\n",
        "from keras.preprocessing.sequence import pad_sequences\n",
        "from keras.utils import to_categorical\n",
        "from keras.layers import Dense, Input, GlobalMaxPooling1D, Dropout, LSTM, GRU, Bidirectional, SpatialDropout1D\n",
        "from keras.layers import Conv1D, MaxPooling1D, Embedding, Flatten\n",
        "from keras.callbacks import ModelCheckpoint, EarlyStopping, TensorBoard\n",
        "from keras.models import Model\n",
        "from keras.initializers import Constant\n",
        "\n",
        "from wordcloud import WordCloud\n",
        "import matplotlib.pyplot as plt\n",
        "from sklearn.feature_extraction import text \n",
        "from wordcloud import WordCloud, STOPWORDS\n",
        "\n",
        "from sklearn.preprocessing import LabelEncoder\n",
        "import pickle\n",
        "import numpy as np\n",
        "from sklearn.model_selection import train_test_split\n",
        "\n",
        "import nltk.corpus\n",
        "import string\n",
        "from nltk.tokenize import word_tokenize,sent_tokenize\n",
        "from nltk.stem import WordNetLemmatizer\n",
        "\n",
        "from keras.layers import Embedding\n",
        "\n",
        "import time\n"
      ],
      "execution_count": 3,
      "outputs": [
        {
          "output_type": "stream",
          "text": [
            "[nltk_data] Downloading collection 'popular'\n",
            "[nltk_data]    | \n",
            "[nltk_data]    | Downloading package cmudict to /root/nltk_data...\n",
            "[nltk_data]    |   Package cmudict is already up-to-date!\n",
            "[nltk_data]    | Downloading package gazetteers to /root/nltk_data...\n",
            "[nltk_data]    |   Package gazetteers is already up-to-date!\n",
            "[nltk_data]    | Downloading package genesis to /root/nltk_data...\n",
            "[nltk_data]    |   Package genesis is already up-to-date!\n",
            "[nltk_data]    | Downloading package gutenberg to /root/nltk_data...\n",
            "[nltk_data]    |   Package gutenberg is already up-to-date!\n",
            "[nltk_data]    | Downloading package inaugural to /root/nltk_data...\n",
            "[nltk_data]    |   Package inaugural is already up-to-date!\n",
            "[nltk_data]    | Downloading package movie_reviews to\n",
            "[nltk_data]    |     /root/nltk_data...\n",
            "[nltk_data]    |   Package movie_reviews is already up-to-date!\n",
            "[nltk_data]    | Downloading package names to /root/nltk_data...\n",
            "[nltk_data]    |   Package names is already up-to-date!\n",
            "[nltk_data]    | Downloading package shakespeare to /root/nltk_data...\n",
            "[nltk_data]    |   Package shakespeare is already up-to-date!\n",
            "[nltk_data]    | Downloading package stopwords to /root/nltk_data...\n",
            "[nltk_data]    |   Package stopwords is already up-to-date!\n",
            "[nltk_data]    | Downloading package treebank to /root/nltk_data...\n",
            "[nltk_data]    |   Package treebank is already up-to-date!\n",
            "[nltk_data]    | Downloading package twitter_samples to\n",
            "[nltk_data]    |     /root/nltk_data...\n",
            "[nltk_data]    |   Package twitter_samples is already up-to-date!\n",
            "[nltk_data]    | Downloading package omw to /root/nltk_data...\n",
            "[nltk_data]    |   Package omw is already up-to-date!\n",
            "[nltk_data]    | Downloading package wordnet to /root/nltk_data...\n",
            "[nltk_data]    |   Package wordnet is already up-to-date!\n",
            "[nltk_data]    | Downloading package wordnet_ic to /root/nltk_data...\n",
            "[nltk_data]    |   Package wordnet_ic is already up-to-date!\n",
            "[nltk_data]    | Downloading package words to /root/nltk_data...\n",
            "[nltk_data]    |   Package words is already up-to-date!\n",
            "[nltk_data]    | Downloading package maxent_ne_chunker to\n",
            "[nltk_data]    |     /root/nltk_data...\n",
            "[nltk_data]    |   Package maxent_ne_chunker is already up-to-date!\n",
            "[nltk_data]    | Downloading package punkt to /root/nltk_data...\n",
            "[nltk_data]    |   Package punkt is already up-to-date!\n",
            "[nltk_data]    | Downloading package snowball_data to\n",
            "[nltk_data]    |     /root/nltk_data...\n",
            "[nltk_data]    |   Package snowball_data is already up-to-date!\n",
            "[nltk_data]    | Downloading package averaged_perceptron_tagger to\n",
            "[nltk_data]    |     /root/nltk_data...\n",
            "[nltk_data]    |   Package averaged_perceptron_tagger is already up-\n",
            "[nltk_data]    |       to-date!\n",
            "[nltk_data]    | \n",
            "[nltk_data]  Done downloading collection popular\n"
          ],
          "name": "stdout"
        },
        {
          "output_type": "stream",
          "text": [
            "Using TensorFlow backend.\n"
          ],
          "name": "stderr"
        }
      ]
    },
    {
      "cell_type": "code",
      "metadata": {
        "id": "hHySPyqdR9_C",
        "colab_type": "code",
        "colab": {}
      },
      "source": [
        "# from https://stackoverflow.com/questions/32419510/how-to-get-reproducible-results-in-keras\n",
        "\n",
        "# Seed value\n",
        "# Apparently you may use different seed values at each stage\n",
        "seed_value= 123\n",
        "\n",
        "# 1. Set `PYTHONHASHSEED` environment variable at a fixed value\n",
        "import os\n",
        "os.environ['PYTHONHASHSEED']=str(seed_value)\n",
        "\n",
        "# 2. Set `python` built-in pseudo-random generator at a fixed value\n",
        "import random\n",
        "random.seed(seed_value)\n",
        "\n",
        "# 3. Set `numpy` pseudo-random generator at a fixed value\n",
        "import numpy as np\n",
        "np.random.seed(seed_value)\n",
        "\n",
        "\n",
        "# 4. Set `tensorflow` pseudo-random generator at a fixed value\n",
        "import tensorflow as tf\n",
        "tf.set_random_seed(seed_value)\n",
        "\n",
        "# 5. Configure a new global `tensorflow` session\n",
        "from keras import backend as K\n",
        "session_conf = tf.ConfigProto(intra_op_parallelism_threads=1, inter_op_parallelism_threads=1)\n",
        "sess = tf.Session(graph=tf.get_default_graph(), config=session_conf)\n",
        "K.set_session(sess)\n"
      ],
      "execution_count": 0,
      "outputs": []
    },
    {
      "cell_type": "code",
      "metadata": {
        "id": "Ew62XD1v790p",
        "colab_type": "code",
        "outputId": "22eff71a-fac3-49df-cb63-a8924d37b988",
        "colab": {
          "base_uri": "https://localhost:8080/",
          "height": 204
        }
      },
      "source": [
        "#Read Data\n",
        "categories = ['business','entertainment','politics','sport','tech']\n",
        "df = pd.DataFrame([],columns=['category','id','text'])\n",
        "for cat in categories:\n",
        "  for file in os.listdir(\"bbc/\"+cat):\n",
        "      if file.endswith(\".txt\"):\n",
        "          filepath = os.path.join(\"bbc/\"+cat, file)\n",
        "          text = open(filepath,'r', errors='ignore').read()\n",
        "          s = pd.Series([cat,int(filepath.split('/')[-1][:-4]),text],index=['category','id','text'])\n",
        "          df = df.append(s,ignore_index=True)\n",
        "\n",
        "df.head()"
      ],
      "execution_count": 5,
      "outputs": [
        {
          "output_type": "execute_result",
          "data": {
            "text/html": [
              "<div>\n",
              "<style scoped>\n",
              "    .dataframe tbody tr th:only-of-type {\n",
              "        vertical-align: middle;\n",
              "    }\n",
              "\n",
              "    .dataframe tbody tr th {\n",
              "        vertical-align: top;\n",
              "    }\n",
              "\n",
              "    .dataframe thead th {\n",
              "        text-align: right;\n",
              "    }\n",
              "</style>\n",
              "<table border=\"1\" class=\"dataframe\">\n",
              "  <thead>\n",
              "    <tr style=\"text-align: right;\">\n",
              "      <th></th>\n",
              "      <th>category</th>\n",
              "      <th>id</th>\n",
              "      <th>text</th>\n",
              "    </tr>\n",
              "  </thead>\n",
              "  <tbody>\n",
              "    <tr>\n",
              "      <th>0</th>\n",
              "      <td>business</td>\n",
              "      <td>324</td>\n",
              "      <td>Yukos seeks court action on sale\\n\\nYukos will...</td>\n",
              "    </tr>\n",
              "    <tr>\n",
              "      <th>1</th>\n",
              "      <td>business</td>\n",
              "      <td>470</td>\n",
              "      <td>Saudi investor picks up the Savoy\\n\\nLondon's ...</td>\n",
              "    </tr>\n",
              "    <tr>\n",
              "      <th>2</th>\n",
              "      <td>business</td>\n",
              "      <td>413</td>\n",
              "      <td>EC calls truce in deficit battle\\n\\nThe Europe...</td>\n",
              "    </tr>\n",
              "    <tr>\n",
              "      <th>3</th>\n",
              "      <td>business</td>\n",
              "      <td>185</td>\n",
              "      <td>US bank 'loses' customer details\\n\\nThe Bank o...</td>\n",
              "    </tr>\n",
              "    <tr>\n",
              "      <th>4</th>\n",
              "      <td>business</td>\n",
              "      <td>142</td>\n",
              "      <td>Asian banks halt dollar's slide\\n\\nThe dollar ...</td>\n",
              "    </tr>\n",
              "  </tbody>\n",
              "</table>\n",
              "</div>"
            ],
            "text/plain": [
              "   category   id                                               text\n",
              "0  business  324  Yukos seeks court action on sale\\n\\nYukos will...\n",
              "1  business  470  Saudi investor picks up the Savoy\\n\\nLondon's ...\n",
              "2  business  413  EC calls truce in deficit battle\\n\\nThe Europe...\n",
              "3  business  185  US bank 'loses' customer details\\n\\nThe Bank o...\n",
              "4  business  142  Asian banks halt dollar's slide\\n\\nThe dollar ..."
            ]
          },
          "metadata": {
            "tags": []
          },
          "execution_count": 5
        }
      ]
    },
    {
      "cell_type": "code",
      "metadata": {
        "id": "uZXIyNwn8tT3",
        "colab_type": "code",
        "outputId": "b7ada180-7f93-44d2-f5a5-451f8a10afed",
        "colab": {
          "base_uri": "https://localhost:8080/",
          "height": 54
        }
      },
      "source": [
        "'''\n",
        "#WordCloud\n",
        "cat = df['category'].unique()\n",
        "\n",
        "for i in range(0,len(cat)):\n",
        "    words = ' '.join(df.loc[df['category']==cat[i], 'text'])\n",
        "\n",
        "    wordcloud = WordCloud( \n",
        "                          stopwords=STOPWORDS,\n",
        "                          background_color='white',\n",
        "                          width=800,\n",
        "                          height=400\n",
        "                ).generate(words)\n",
        "    print(cat[i])\n",
        "    plt.figure(figsize=(10, 5))\n",
        "    plt.imshow(wordcloud)\n",
        "    plt.axis('off')\n",
        "    plt.show()\n",
        "\n",
        "words = ' '.join(df.loc[:, 'text'])\n",
        "\n",
        "wordcloud = WordCloud( \n",
        "                      stopwords=STOPWORDS,\n",
        "                      background_color='white',\n",
        "                      width=800,\n",
        "                      height=400\n",
        "            ).generate(words)\n",
        "print(\"ALL Categories:\")\n",
        "plt.figure(figsize=(10, 5))\n",
        "plt.imshow(wordcloud)\n",
        "plt.axis('off')\n",
        "plt.show()\n",
        "'''"
      ],
      "execution_count": 6,
      "outputs": [
        {
          "output_type": "execute_result",
          "data": {
            "text/plain": [
              "'\\n#WordCloud\\ncat = df[\\'category\\'].unique()\\n\\nfor i in range(0,len(cat)):\\n    words = \\' \\'.join(df.loc[df[\\'category\\']==cat[i], \\'text\\'])\\n\\n    wordcloud = WordCloud( \\n                          stopwords=STOPWORDS,\\n                          background_color=\\'white\\',\\n                          width=800,\\n                          height=400\\n                ).generate(words)\\n    print(cat[i])\\n    plt.figure(figsize=(10, 5))\\n    plt.imshow(wordcloud)\\n    plt.axis(\\'off\\')\\n    plt.show()\\n\\nwords = \\' \\'.join(df.loc[:, \\'text\\'])\\n\\nwordcloud = WordCloud( \\n                      stopwords=STOPWORDS,\\n                      background_color=\\'white\\',\\n                      width=800,\\n                      height=400\\n            ).generate(words)\\nprint(\"ALL Categories:\")\\nplt.figure(figsize=(10, 5))\\nplt.imshow(wordcloud)\\nplt.axis(\\'off\\')\\nplt.show()\\n'"
            ]
          },
          "metadata": {
            "tags": []
          },
          "execution_count": 6
        }
      ]
    },
    {
      "cell_type": "markdown",
      "metadata": {
        "id": "JR2fsHlbr_Tj",
        "colab_type": "text"
      },
      "source": [
        "## Label Encoder\n",
        "#### Use inverse_transform at the end after predicting"
      ]
    },
    {
      "cell_type": "code",
      "metadata": {
        "id": "385fGoXNldB0",
        "colab_type": "code",
        "outputId": "9a277ff1-5ca6-43b9-e964-c62bfbb96a4f",
        "colab": {
          "base_uri": "https://localhost:8080/",
          "height": 136
        }
      },
      "source": [
        "y = df['category']\n",
        "X = df.drop(['category','id'],axis=1)\n",
        "X_train, X_test, y_train, y_test  = train_test_split(X,y,stratify=y, test_size=0.2, random_state=123)\n",
        "X_train = X_train.reset_index(drop=True)\n",
        "X_test = X_test.reset_index(drop=True)\n",
        "y_test = y_test.reset_index(drop=True)\n",
        "\n",
        "print('before: %s ...' %y_train[:5])\n",
        "\n",
        "le = LabelEncoder()\n",
        "le.fit(y_train)\n",
        "y_train = le.transform(y_train)\n",
        "\n",
        "print('after: %s ...' %y_train)"
      ],
      "execution_count": 7,
      "outputs": [
        {
          "output_type": "stream",
          "text": [
            "before: 1508       sport\n",
            "1908        tech\n",
            "2104        tech\n",
            "2019        tech\n",
            "1245    politics\n",
            "Name: category, dtype: object ...\n",
            "after: [3 4 4 ... 1 0 2] ...\n"
          ],
          "name": "stdout"
        }
      ]
    },
    {
      "cell_type": "code",
      "metadata": {
        "id": "n9jqvQtYDhR0",
        "colab_type": "code",
        "outputId": "f97c3583-ea9a-44f3-84e1-5f353a8b8cd9",
        "colab": {
          "base_uri": "https://localhost:8080/",
          "height": 153
        }
      },
      "source": [
        "print(np.bincount(y_train))\n",
        "print(y.value_counts())\n",
        "print(le.inverse_transform([i for i in range(5)]))"
      ],
      "execution_count": 8,
      "outputs": [
        {
          "output_type": "stream",
          "text": [
            "[408 309 333 409 321]\n",
            "sport            511\n",
            "business         510\n",
            "politics         417\n",
            "tech             401\n",
            "entertainment    386\n",
            "Name: category, dtype: int64\n",
            "['business' 'entertainment' 'politics' 'sport' 'tech']\n"
          ],
          "name": "stdout"
        }
      ]
    },
    {
      "cell_type": "markdown",
      "metadata": {
        "id": "1e6g_BjOsZ3i",
        "colab_type": "text"
      },
      "source": [
        "## Preprocess Data - (split by \\n, remove periods, remove slashes)"
      ]
    },
    {
      "cell_type": "code",
      "metadata": {
        "id": "fkDSvsY8cv5g",
        "colab_type": "code",
        "colab": {}
      },
      "source": [
        "#Parameters for hyperparameter  tuning\n",
        "dropout = 0.4\n",
        "EMBEDDING_DIM = 300\n",
        "traina = True #embeedding layer trainable"
      ],
      "execution_count": 0,
      "outputs": []
    },
    {
      "cell_type": "code",
      "metadata": {
        "id": "_3Iv6MC3s26i",
        "colab_type": "code",
        "colab": {}
      },
      "source": [
        "def preprocess(X):\n",
        "  return X.map(lambda x: x.lower().split(\"\\n\")).map(lambda x: [y.split(\". \") for y in x]).map(lambda x: [i.replace('\\'','') for sl in x for i in sl if i is not ''])"
      ],
      "execution_count": 0,
      "outputs": []
    },
    {
      "cell_type": "code",
      "metadata": {
        "id": "6EgQMq_CtK8d",
        "colab_type": "code",
        "colab": {}
      },
      "source": [
        "#Preprocess both train and test separately\n",
        "X_train['text'] = preprocess(X_train['text'])\n",
        "X_test['text'] = preprocess(X_test['text'])"
      ],
      "execution_count": 0,
      "outputs": []
    },
    {
      "cell_type": "code",
      "metadata": {
        "id": "Wme2RkYu2UR0",
        "colab_type": "code",
        "colab": {}
      },
      "source": [
        "#Stop Words and Lemmatization   \n",
        "lemmatizer = WordNetLemmatizer()\n",
        "stopw = nltk.corpus.stopwords.words('english')\n",
        "punct = string.punctuation\n",
        "punct = word_tokenize(punct)\n",
        "punct += ['.','``','...','\\'s','--','-','n\\'t','\\'']\n",
        "stopw += punct\n",
        "def token_stop(text):\n",
        "    global stopw\n",
        "    global lemmatizer\n",
        "    words = word_tokenize(text)\n",
        "    filtered = [lemmatizer.lemmatize(w) for w in words if not w in stopw]\n",
        "    return filtered\n",
        "  \n",
        "X_train['text'] = X_train['text'].map(lambda x: [token_stop(i) for i in x]).map(lambda x: [i for sl in x for i in sl])\n",
        "X_test['text'] = X_test['text'].map(lambda x: [token_stop(i) for i in x]).map(lambda x: [i for sl in x for i in sl])"
      ],
      "execution_count": 0,
      "outputs": []
    },
    {
      "cell_type": "code",
      "metadata": {
        "id": "fHKBz-DG8HTu",
        "colab_type": "code",
        "colab": {}
      },
      "source": [
        "texts = np.array(X_train['text'])\n",
        "test_text = np.array(X_test['text'])"
      ],
      "execution_count": 0,
      "outputs": []
    },
    {
      "cell_type": "code",
      "metadata": {
        "id": "sLe602IIEqV6",
        "colab_type": "code",
        "outputId": "b08a7e9d-4bc8-4b94-84cb-df4d1d51f902",
        "colab": {
          "base_uri": "https://localhost:8080/",
          "height": 34
        }
      },
      "source": [
        "MAX_SEQUENCE_LENGTH = 1000\n",
        "MAX_NB_WORDS = 20000\n",
        "VALIDATION_SPLIT = 0.2\n",
        "embeddings_index = {}\n",
        "with open('glove.6B.'+str(EMBEDDING_DIM)+'d.txt') as f:\n",
        "    for line in f:\n",
        "        word, coefs = line.split(maxsplit=1)\n",
        "        coefs = np.fromstring(coefs, 'f', sep=' ')\n",
        "        embeddings_index[word] = coefs\n",
        "\n",
        "print('Found %s word vectors.' % len(embeddings_index))"
      ],
      "execution_count": 14,
      "outputs": [
        {
          "output_type": "stream",
          "text": [
            "Found 400000 word vectors.\n"
          ],
          "name": "stdout"
        }
      ]
    },
    {
      "cell_type": "code",
      "metadata": {
        "id": "9thZOjdY_Sl6",
        "colab_type": "code",
        "outputId": "4f623ffa-3284-4671-ef94-beb063526423",
        "colab": {
          "base_uri": "https://localhost:8080/",
          "height": 102
        }
      },
      "source": [
        "tokenizer = Tokenizer(nb_words=MAX_NB_WORDS)\n",
        "tokenizer.fit_on_texts(texts)\n",
        "sequences = tokenizer.texts_to_sequences(texts)\n",
        "\n",
        "word_index = tokenizer.word_index\n",
        "print('Found %s unique tokens.' % len(word_index))\n",
        "\n",
        "data = pad_sequences(sequences, maxlen=MAX_SEQUENCE_LENGTH)\n",
        "\n",
        "labels = to_categorical(np.asarray(y_train))\n",
        "print('Shape of data tensor:', data.shape)\n",
        "print('Shape of label tensor:', labels.shape)\n",
        "\n",
        "# split the data into a training set and a validation set\n",
        "indices = np.arange(data.shape[0])\n",
        "np.random.shuffle(indices)\n",
        "data = data[indices]\n",
        "labels = labels[indices]\n",
        "nb_validation_samples = int(VALIDATION_SPLIT * data.shape[0])\n",
        "\n",
        "xtrain = data[:-nb_validation_samples]\n",
        "ytrain = labels[:-nb_validation_samples]\n",
        "xval = data[-nb_validation_samples:]\n",
        "yval = labels[-nb_validation_samples:]"
      ],
      "execution_count": 15,
      "outputs": [
        {
          "output_type": "stream",
          "text": [
            "/usr/local/lib/python3.6/dist-packages/keras_preprocessing/text.py:178: UserWarning: The `nb_words` argument in `Tokenizer` has been renamed `num_words`.\n",
            "  warnings.warn('The `nb_words` argument in `Tokenizer` '\n"
          ],
          "name": "stderr"
        },
        {
          "output_type": "stream",
          "text": [
            "Found 28682 unique tokens.\n",
            "Shape of data tensor: (1780, 1000)\n",
            "Shape of label tensor: (1780, 5)\n"
          ],
          "name": "stdout"
        }
      ]
    },
    {
      "cell_type": "code",
      "metadata": {
        "id": "VofHdiAqIRqc",
        "colab_type": "code",
        "colab": {}
      },
      "source": [
        "#Create glove embedding matrix\n",
        "embedding_matrix = np.zeros((len(word_index) + 1, EMBEDDING_DIM))\n",
        "for word, i in word_index.items():\n",
        "    embedding_vector = embeddings_index.get(word)\n",
        "    if embedding_vector is not None:\n",
        "        # words not found in embedding index will be all-zeros.\n",
        "        embedding_matrix[i] = embedding_vector"
      ],
      "execution_count": 0,
      "outputs": []
    },
    {
      "cell_type": "code",
      "metadata": {
        "id": "o3yooq2DI-dT",
        "colab_type": "code",
        "colab": {}
      },
      "source": [
        "#Keras Glove Embedding layer\n",
        "embedding_layer = Embedding(len(word_index) + 1,\n",
        "                            EMBEDDING_DIM,\n",
        "                            weights=[embedding_matrix],\n",
        "                            input_length=MAX_SEQUENCE_LENGTH,\n",
        "                            trainable=traina)"
      ],
      "execution_count": 0,
      "outputs": []
    },
    {
      "cell_type": "code",
      "metadata": {
        "id": "iuZyVOsKKD6T",
        "colab_type": "code",
        "outputId": "56a9c2b5-014d-4b4e-8df9-2c47624a289e",
        "colab": {
          "base_uri": "https://localhost:8080/",
          "height": 34
        }
      },
      "source": [
        "#Map label name to its index\n",
        "labels_index = {}\n",
        "for i in range(5):\n",
        "  name = le.inverse_transform([i])[0]\n",
        "  labels_index[name] = i\n",
        "labels_index"
      ],
      "execution_count": 18,
      "outputs": [
        {
          "output_type": "execute_result",
          "data": {
            "text/plain": [
              "{'business': 0, 'entertainment': 1, 'politics': 2, 'sport': 3, 'tech': 4}"
            ]
          },
          "metadata": {
            "tags": []
          },
          "execution_count": 18
        }
      ]
    },
    {
      "cell_type": "markdown",
      "metadata": {
        "id": "e18TBVrC9iwT",
        "colab_type": "text"
      },
      "source": [
        "## Train Model"
      ]
    },
    {
      "cell_type": "code",
      "metadata": {
        "id": "ijGeDWg6-XsZ",
        "colab_type": "code",
        "colab": {}
      },
      "source": [
        "model_name = \"CNN-\"+str(dropout)+\"-\"+str(EMBEDDING_DIM)+\"-Trainable-\"+str(traina)+'final'\n",
        "checkpointer = ModelCheckpoint(model_name + \"_weights.{epoch:02d}-{val_loss:.2f}.hdf5\", monitor=\"val_loss\", verbose=1,\n",
        "                               save_best_only=True, mode='min')\n",
        "early_stopping = EarlyStopping(monitor='val_loss', min_delta=0, patience=10, verbose=1, mode='auto')\n",
        "tensorboard_cnn = TensorBoard(log_dir='./Graph_CNN', histogram_freq=0,write_graph=True, write_images=True)"
      ],
      "execution_count": 0,
      "outputs": []
    },
    {
      "cell_type": "code",
      "metadata": {
        "id": "53s9TZ_mI_XY",
        "colab_type": "code",
        "colab": {
          "base_uri": "https://localhost:8080/",
          "height": 139
        },
        "outputId": "61a1e1b1-1a2c-4eb8-d3a1-c7d1d1827416"
      },
      "source": [
        "np.random.seed(123)\n",
        "sequence_input = Input(shape=(MAX_SEQUENCE_LENGTH,), dtype='int32')\n",
        "embedded_sequences = embedding_layer(sequence_input)\n",
        "x = Conv1D(128, 5, activation='relu')(embedded_sequences)\n",
        "x = MaxPooling1D(5)(x)\n",
        "x = Dropout(dropout,seed=123)(x)\n",
        "x = Conv1D(128, 5, activation='relu')(x)\n",
        "x = MaxPooling1D(5)(x)\n",
        "x = Dropout(dropout,seed=123)(x)\n",
        "x = Conv1D(128, 5, activation='relu')(x)\n",
        "x = MaxPooling1D(35)(x)  # global max pooling\n",
        "x = Dropout(dropout,seed=123)(x)\n",
        "x = Flatten()(x)\n",
        "x = Dense(128, activation='relu')(x)\n",
        "preds = Dense(len(labels_index), activation='softmax')(x)\n",
        "\n",
        "model = Model(sequence_input, preds)\n",
        "model.compile(loss='categorical_crossentropy',\n",
        "              optimizer='rmsprop',\n",
        "              metrics=['acc'])"
      ],
      "execution_count": 20,
      "outputs": [
        {
          "output_type": "stream",
          "text": [
            "WARNING:tensorflow:From /usr/local/lib/python3.6/dist-packages/tensorflow/python/framework/op_def_library.py:263: colocate_with (from tensorflow.python.framework.ops) is deprecated and will be removed in a future version.\n",
            "Instructions for updating:\n",
            "Colocations handled automatically by placer.\n",
            "WARNING:tensorflow:From /usr/local/lib/python3.6/dist-packages/keras/backend/tensorflow_backend.py:3445: calling dropout (from tensorflow.python.ops.nn_ops) with keep_prob is deprecated and will be removed in a future version.\n",
            "Instructions for updating:\n",
            "Please use `rate` instead of `keep_prob`. Rate should be set to `rate = 1 - keep_prob`.\n"
          ],
          "name": "stdout"
        }
      ]
    },
    {
      "cell_type": "code",
      "metadata": {
        "id": "Fp3SQDq3-tfj",
        "colab_type": "code",
        "outputId": "73c05226-f0be-4037-b9fa-cf932871e6cb",
        "colab": {
          "base_uri": "https://localhost:8080/",
          "height": 2587
        }
      },
      "source": [
        "np.random.seed(123)\n",
        "stmillis = int(round(time.time() * 1000))\n",
        "history = model.fit(xtrain, ytrain, validation_data=(xval, yval),\n",
        "          epochs=50, batch_size=128, callbacks=[checkpointer, early_stopping,tensorboard_cnn],shuffle=False)\n",
        "endmillis = int(round(time.time() * 1000))\n",
        "print(\"Time taken: \", endmillis - stmillis)"
      ],
      "execution_count": 21,
      "outputs": [
        {
          "output_type": "stream",
          "text": [
            "WARNING:tensorflow:From /usr/local/lib/python3.6/dist-packages/tensorflow/python/ops/math_ops.py:3066: to_int32 (from tensorflow.python.ops.math_ops) is deprecated and will be removed in a future version.\n",
            "Instructions for updating:\n",
            "Use tf.cast instead.\n",
            "Train on 1424 samples, validate on 356 samples\n",
            "Epoch 1/50\n",
            "1424/1424 [==============================] - 5s 4ms/step - loss: 1.6926 - acc: 0.3392 - val_loss: 1.1772 - val_acc: 0.6180\n",
            "\n",
            "Epoch 00001: val_loss improved from inf to 1.17725, saving model to CNN-0.4-300-Trainable-Truefinal_weights.01-1.18.hdf5\n",
            "Epoch 2/50\n",
            "1424/1424 [==============================] - 1s 500us/step - loss: 0.8516 - acc: 0.6847 - val_loss: 0.6273 - val_acc: 0.7612\n",
            "\n",
            "Epoch 00002: val_loss improved from 1.17725 to 0.62726, saving model to CNN-0.4-300-Trainable-Truefinal_weights.02-0.63.hdf5\n",
            "Epoch 3/50\n",
            "1424/1424 [==============================] - 1s 518us/step - loss: 0.3475 - acc: 0.8848 - val_loss: 0.2493 - val_acc: 0.9129\n",
            "\n",
            "Epoch 00003: val_loss improved from 0.62726 to 0.24930, saving model to CNN-0.4-300-Trainable-Truefinal_weights.03-0.25.hdf5\n",
            "Epoch 4/50\n",
            "1424/1424 [==============================] - 1s 500us/step - loss: 0.2222 - acc: 0.9270 - val_loss: 0.2157 - val_acc: 0.9213\n",
            "\n",
            "Epoch 00004: val_loss improved from 0.24930 to 0.21570, saving model to CNN-0.4-300-Trainable-Truefinal_weights.04-0.22.hdf5\n",
            "Epoch 5/50\n",
            "1424/1424 [==============================] - 1s 501us/step - loss: 0.1518 - acc: 0.9473 - val_loss: 0.0950 - val_acc: 0.9691\n",
            "\n",
            "Epoch 00005: val_loss improved from 0.21570 to 0.09503, saving model to CNN-0.4-300-Trainable-Truefinal_weights.05-0.10.hdf5\n",
            "Epoch 6/50\n",
            "1424/1424 [==============================] - 1s 501us/step - loss: 0.0931 - acc: 0.9747 - val_loss: 0.0797 - val_acc: 0.9775\n",
            "\n",
            "Epoch 00006: val_loss improved from 0.09503 to 0.07965, saving model to CNN-0.4-300-Trainable-Truefinal_weights.06-0.08.hdf5\n",
            "Epoch 7/50\n",
            "1424/1424 [==============================] - 1s 515us/step - loss: 0.0936 - acc: 0.9719 - val_loss: 0.0667 - val_acc: 0.9803\n",
            "\n",
            "Epoch 00007: val_loss improved from 0.07965 to 0.06673, saving model to CNN-0.4-300-Trainable-Truefinal_weights.07-0.07.hdf5\n",
            "Epoch 8/50\n",
            "1424/1424 [==============================] - 1s 500us/step - loss: 0.0361 - acc: 0.9881 - val_loss: 0.0361 - val_acc: 0.9860\n",
            "\n",
            "Epoch 00008: val_loss improved from 0.06673 to 0.03606, saving model to CNN-0.4-300-Trainable-Truefinal_weights.08-0.04.hdf5\n",
            "Epoch 9/50\n",
            "1424/1424 [==============================] - 1s 503us/step - loss: 0.1839 - acc: 0.9529 - val_loss: 0.0461 - val_acc: 0.9803\n",
            "\n",
            "Epoch 00009: val_loss did not improve from 0.03606\n",
            "Epoch 10/50\n",
            "1424/1424 [==============================] - 1s 513us/step - loss: 0.0169 - acc: 0.9944 - val_loss: 0.0362 - val_acc: 0.9888\n",
            "\n",
            "Epoch 00010: val_loss did not improve from 0.03606\n",
            "Epoch 11/50\n",
            "1424/1424 [==============================] - 1s 515us/step - loss: 0.0142 - acc: 0.9965 - val_loss: 0.0398 - val_acc: 0.9860\n",
            "\n",
            "Epoch 00011: val_loss did not improve from 0.03606\n",
            "Epoch 12/50\n",
            "1424/1424 [==============================] - 1s 517us/step - loss: 0.0058 - acc: 0.9993 - val_loss: 0.0453 - val_acc: 0.9860\n",
            "\n",
            "Epoch 00012: val_loss did not improve from 0.03606\n",
            "Epoch 13/50\n",
            "1424/1424 [==============================] - 1s 512us/step - loss: 0.0026 - acc: 1.0000 - val_loss: 0.0325 - val_acc: 0.9944\n",
            "\n",
            "Epoch 00013: val_loss improved from 0.03606 to 0.03246, saving model to CNN-0.4-300-Trainable-Truefinal_weights.13-0.03.hdf5\n",
            "Epoch 14/50\n",
            "1424/1424 [==============================] - 1s 506us/step - loss: 0.0020 - acc: 1.0000 - val_loss: 0.0414 - val_acc: 0.9860\n",
            "\n",
            "Epoch 00014: val_loss did not improve from 0.03246\n",
            "Epoch 15/50\n",
            "1424/1424 [==============================] - 1s 515us/step - loss: 0.0924 - acc: 0.9817 - val_loss: 0.0404 - val_acc: 0.9888\n",
            "\n",
            "Epoch 00015: val_loss did not improve from 0.03246\n",
            "Epoch 16/50\n",
            "1424/1424 [==============================] - 1s 512us/step - loss: 0.0034 - acc: 0.9979 - val_loss: 0.0507 - val_acc: 0.9803\n",
            "\n",
            "Epoch 00016: val_loss did not improve from 0.03246\n",
            "Epoch 17/50\n",
            "1424/1424 [==============================] - 1s 513us/step - loss: 6.4849e-04 - acc: 1.0000 - val_loss: 0.0335 - val_acc: 0.9916\n",
            "\n",
            "Epoch 00017: val_loss did not improve from 0.03246\n",
            "Epoch 18/50\n",
            "1424/1424 [==============================] - 1s 519us/step - loss: 3.1072e-04 - acc: 1.0000 - val_loss: 0.0362 - val_acc: 0.9831\n",
            "\n",
            "Epoch 00018: val_loss did not improve from 0.03246\n",
            "Epoch 19/50\n",
            "1424/1424 [==============================] - 1s 510us/step - loss: 0.0152 - acc: 0.9958 - val_loss: 0.0353 - val_acc: 0.9888\n",
            "\n",
            "Epoch 00019: val_loss did not improve from 0.03246\n",
            "Epoch 20/50\n",
            "1424/1424 [==============================] - 1s 517us/step - loss: 0.0088 - acc: 0.9972 - val_loss: 0.0354 - val_acc: 0.9860\n",
            "\n",
            "Epoch 00020: val_loss did not improve from 0.03246\n",
            "Epoch 21/50\n",
            "1424/1424 [==============================] - 1s 518us/step - loss: 0.0015 - acc: 0.9993 - val_loss: 0.0443 - val_acc: 0.9831\n",
            "\n",
            "Epoch 00021: val_loss did not improve from 0.03246\n",
            "Epoch 22/50\n",
            "1424/1424 [==============================] - 1s 507us/step - loss: 1.8017e-04 - acc: 1.0000 - val_loss: 0.0298 - val_acc: 0.9831\n",
            "\n",
            "Epoch 00022: val_loss improved from 0.03246 to 0.02979, saving model to CNN-0.4-300-Trainable-Truefinal_weights.22-0.03.hdf5\n",
            "Epoch 23/50\n",
            "1424/1424 [==============================] - 1s 501us/step - loss: 6.3217e-05 - acc: 1.0000 - val_loss: 0.0278 - val_acc: 0.9916\n",
            "\n",
            "Epoch 00023: val_loss improved from 0.02979 to 0.02777, saving model to CNN-0.4-300-Trainable-Truefinal_weights.23-0.03.hdf5\n",
            "Epoch 24/50\n",
            "1424/1424 [==============================] - 1s 509us/step - loss: 6.0374e-05 - acc: 1.0000 - val_loss: 0.0239 - val_acc: 0.9944\n",
            "\n",
            "Epoch 00024: val_loss improved from 0.02777 to 0.02394, saving model to CNN-0.4-300-Trainable-Truefinal_weights.24-0.02.hdf5\n",
            "Epoch 25/50\n",
            "1424/1424 [==============================] - 1s 512us/step - loss: 5.9102e-05 - acc: 1.0000 - val_loss: 0.0304 - val_acc: 0.9944\n",
            "\n",
            "Epoch 00025: val_loss did not improve from 0.02394\n",
            "Epoch 26/50\n",
            "1424/1424 [==============================] - 1s 516us/step - loss: 0.0499 - acc: 0.9867 - val_loss: 0.0132 - val_acc: 0.9944\n",
            "\n",
            "Epoch 00026: val_loss improved from 0.02394 to 0.01323, saving model to CNN-0.4-300-Trainable-Truefinal_weights.26-0.01.hdf5\n",
            "Epoch 27/50\n",
            "1424/1424 [==============================] - 1s 523us/step - loss: 1.5357e-04 - acc: 1.0000 - val_loss: 0.0206 - val_acc: 0.9972\n",
            "\n",
            "Epoch 00027: val_loss did not improve from 0.01323\n",
            "Epoch 28/50\n",
            "1424/1424 [==============================] - 1s 515us/step - loss: 2.8035e-04 - acc: 1.0000 - val_loss: 0.0227 - val_acc: 0.9916\n",
            "\n",
            "Epoch 00028: val_loss did not improve from 0.01323\n",
            "Epoch 29/50\n",
            "1424/1424 [==============================] - 1s 515us/step - loss: 4.2502e-05 - acc: 1.0000 - val_loss: 0.0238 - val_acc: 0.9972\n",
            "\n",
            "Epoch 00029: val_loss did not improve from 0.01323\n",
            "Epoch 30/50\n",
            "1424/1424 [==============================] - 1s 514us/step - loss: 1.3227e-04 - acc: 1.0000 - val_loss: 0.0406 - val_acc: 0.9916\n",
            "\n",
            "Epoch 00030: val_loss did not improve from 0.01323\n",
            "Epoch 31/50\n",
            "1424/1424 [==============================] - 1s 516us/step - loss: 1.4507e-05 - acc: 1.0000 - val_loss: 0.0382 - val_acc: 0.9944\n",
            "\n",
            "Epoch 00031: val_loss did not improve from 0.01323\n",
            "Epoch 32/50\n",
            "1424/1424 [==============================] - 1s 519us/step - loss: 0.0285 - acc: 0.9909 - val_loss: 0.0306 - val_acc: 0.9944\n",
            "\n",
            "Epoch 00032: val_loss did not improve from 0.01323\n",
            "Epoch 33/50\n",
            "1424/1424 [==============================] - 1s 516us/step - loss: 1.6065e-04 - acc: 1.0000 - val_loss: 0.0325 - val_acc: 0.9944\n",
            "\n",
            "Epoch 00033: val_loss did not improve from 0.01323\n",
            "Epoch 34/50\n",
            "1424/1424 [==============================] - 1s 513us/step - loss: 9.2246e-05 - acc: 1.0000 - val_loss: 0.0354 - val_acc: 0.9944\n",
            "\n",
            "Epoch 00034: val_loss did not improve from 0.01323\n",
            "Epoch 35/50\n",
            "1424/1424 [==============================] - 1s 523us/step - loss: 3.0068e-05 - acc: 1.0000 - val_loss: 0.0364 - val_acc: 0.9944\n",
            "\n",
            "Epoch 00035: val_loss did not improve from 0.01323\n",
            "Epoch 36/50\n",
            "1424/1424 [==============================] - 1s 515us/step - loss: 4.1443e-05 - acc: 1.0000 - val_loss: 0.0739 - val_acc: 0.9860\n",
            "\n",
            "Epoch 00036: val_loss did not improve from 0.01323\n",
            "Epoch 00036: early stopping\n",
            "Time taken:  33957\n"
          ],
          "name": "stdout"
        }
      ]
    },
    {
      "cell_type": "code",
      "metadata": {
        "id": "Z73Z42jPBsd3",
        "colab_type": "code",
        "outputId": "1230fc1d-204d-4eb4-bc45-827277fd09b1",
        "colab": {
          "base_uri": "https://localhost:8080/",
          "height": 302
        }
      },
      "source": [
        "fig=plt.figure()\n",
        "plt.plot(history.history['loss'],'r',linewidth=3.0)\n",
        "plt.plot(history.history['val_loss'],'b',linewidth=3.0)\n",
        "plt.legend(['Training Loss', 'Validation Loss'],fontsize=18)\n",
        "plt.xlabel('Epochs ',fontsize=16)\n",
        "plt.ylabel('Loss',fontsize=16)\n",
        "plt.title('Loss Curves : CNN',fontsize=16)\n",
        "fig.savefig(model_name+'.png')\n",
        "plt.show()"
      ],
      "execution_count": 22,
      "outputs": [
        {
          "output_type": "display_data",
          "data": {
            "image/png": "[encoded data removed]",
            "text/plain": [
              "<Figure size 432x288 with 1 Axes>"
            ]
          },
          "metadata": {
            "tags": []
          }
        }
      ]
    },
    {
      "cell_type": "code",
      "metadata": {
        "id": "8nUIMMQi_KrR",
        "colab_type": "code",
        "colab": {}
      },
      "source": [
        "# Save the trained weights\n",
        "model.save(model_name + \".h5\")\n",
        "\n",
        "# Save model config as json\n",
        "model_json = model.to_json()\n",
        "with open(model_name + \".json\", \"w\") as json_file:\n",
        "    json_file.write(model_json)\n",
        "\n",
        "# Persist the model to your google drive [VERY IMPORTANT]\n",
        "!cp CNN* gdrive/My\\ Drive/"
      ],
      "execution_count": 0,
      "outputs": []
    },
    {
      "cell_type": "markdown",
      "metadata": {
        "id": "7BAwr4x19nMo",
        "colab_type": "text"
      },
      "source": [
        "## Predict on Test Data"
      ]
    },
    {
      "cell_type": "code",
      "metadata": {
        "id": "vIBlzM5zFVhG",
        "colab_type": "code",
        "colab": {}
      },
      "source": [
        "def find_test_acc(prediction):\n",
        "  count = 0\n",
        "  t = 0\n",
        "  for pred in prediction:\n",
        "    p = pred.argmax()\n",
        "    name = le.inverse_transform([p])\n",
        "    if name == y_test.loc[count]:\n",
        "      t+=1\n",
        "    count+=1\n",
        "  print('Test Accuracy:',(t/count)*100,\"%\")"
      ],
      "execution_count": 0,
      "outputs": []
    },
    {
      "cell_type": "code",
      "metadata": {
        "id": "1sM8QeKfJgRr",
        "colab_type": "code",
        "colab": {}
      },
      "source": [
        "def predict_test(model):\n",
        "  #Tokenize test data and apply model prediction\n",
        "  sequences = tokenizer.texts_to_sequences(test_text)\n",
        "  data = pad_sequences(sequences, maxlen=MAX_SEQUENCE_LENGTH)\n",
        "\n",
        "  print('Shape of data tensor:', data.shape)\n",
        "  print('Shape of label tensor:', labels.shape)\n",
        "  prediction = model.predict(data)\n",
        "  find_test_acc(prediction)"
      ],
      "execution_count": 0,
      "outputs": []
    },
    {
      "cell_type": "code",
      "metadata": {
        "id": "u_z5eMImMj57",
        "colab_type": "code",
        "outputId": "85d42096-eb7c-45d1-bc4d-a4ae2e83e0f0",
        "colab": {
          "base_uri": "https://localhost:8080/",
          "height": 68
        }
      },
      "source": [
        "predict_test(model)"
      ],
      "execution_count": 26,
      "outputs": [
        {
          "output_type": "stream",
          "text": [
            "Shape of data tensor: (445, 1000)\n",
            "Shape of label tensor: (1780, 5)\n",
            "Test Accuracy: 96.85393258426967 %\n"
          ],
          "name": "stdout"
        }
      ]
    },
    {
      "cell_type": "markdown",
      "metadata": {
        "id": "R55FX-Xq3XkP",
        "colab_type": "text"
      },
      "source": [
        "## Tensorboard"
      ]
    },
    {
      "cell_type": "code",
      "metadata": {
        "id": "Bz0qLhb1Gi2s",
        "colab_type": "code",
        "outputId": "879baaac-3859-4133-e3eb-e37190aff12b",
        "colab": {
          "base_uri": "https://localhost:8080/",
          "height": 238
        }
      },
      "source": [
        "!wget https://bin.equinox.io/c/4VmDzA7iaHb/ngrok-stable-linux-amd64.zip\n",
        "!unzip ngrok-stable-linux-amd64.zip"
      ],
      "execution_count": 27,
      "outputs": [
        {
          "output_type": "stream",
          "text": [
            "--2019-05-02 22:34:48--  https://bin.equinox.io/c/4VmDzA7iaHb/ngrok-stable-linux-amd64.zip\n",
            "Resolving bin.equinox.io (bin.equinox.io)... 52.45.248.161, 52.204.188.97, 52.22.236.254, ...\n",
            "Connecting to bin.equinox.io (bin.equinox.io)|52.45.248.161|:443... connected.\n",
            "HTTP request sent, awaiting response... 200 OK\n",
            "Length: 14991793 (14M) [application/octet-stream]\n",
            "Saving to: ‘ngrok-stable-linux-amd64.zip’\n",
            "\n",
            "ngrok-stable-linux- 100%[===================>]  14.30M  40.5MB/s    in 0.4s    \n",
            "\n",
            "2019-05-02 22:34:49 (40.5 MB/s) - ‘ngrok-stable-linux-amd64.zip’ saved [14991793/14991793]\n",
            "\n",
            "Archive:  ngrok-stable-linux-amd64.zip\n",
            "  inflating: ngrok                   \n"
          ],
          "name": "stdout"
        }
      ]
    },
    {
      "cell_type": "code",
      "metadata": {
        "id": "2VIBupfd29Rk",
        "colab_type": "code",
        "colab": {
          "base_uri": "https://localhost:8080/",
          "height": 34
        },
        "outputId": "43f9428e-a0f7-4008-b07d-6b30fc092449"
      },
      "source": [
        "LOG_DIR = './Graph_CNN'\n",
        "get_ipython().system_raw(\n",
        "    'tensorboard --logdir {} --host 0.0.0.0 --port 6006 &'\n",
        "    .format(LOG_DIR)\n",
        ")\n",
        "get_ipython().system_raw('./ngrok http 6006 &')\n",
        "! curl -s http://localhost:4040/api/tunnels | python3 -c \\\n",
        "    \"import sys, json; print(json.load(sys.stdin)['tunnels'][0]['public_url'])\""
      ],
      "execution_count": 28,
      "outputs": [
        {
          "output_type": "stream",
          "text": [
            "https://c15680b9.ngrok.io\n"
          ],
          "name": "stdout"
        }
      ]
    },
    {
      "cell_type": "code",
      "metadata": {
        "id": "yxpBpPCy3Om5",
        "colab_type": "code",
        "colab": {}
      },
      "source": [
        "!cp -r Graph* gdrive/My\\ Drive/"
      ],
      "execution_count": 0,
      "outputs": []
    },
    {
      "cell_type": "code",
      "metadata": {
        "id": "MRYb3TJpsUJH",
        "colab_type": "code",
        "colab": {}
      },
      "source": [
        ""
      ],
      "execution_count": 0,
      "outputs": []
    }
  ]
}