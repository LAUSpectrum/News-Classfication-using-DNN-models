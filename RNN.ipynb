{
  "nbformat": 4,
  "nbformat_minor": 0,
  "metadata": {
    "colab": {
      "name": "RNN",
      "version": "0.3.2",
      "provenance": [],
      "collapsed_sections": [
        "R55FX-Xq3XkP"
      ],
      "include_colab_link": true
    },
    "kernelspec": {
      "name": "python3",
      "display_name": "Python 3"
    },
    "accelerator": "GPU"
  },
  "cells": [
    {
      "cell_type": "markdown",
      "metadata": {
        "id": "view-in-github",
        "colab_type": "text"
      },
      "source": [
        "<a href=\"https://colab.research.google.com/github/rachit-shah/adbi-project/blob/master/RNN.ipynb\" target=\"_parent\"><img src=\"https://colab.research.google.com/assets/colab-badge.svg\" alt=\"Open In Colab\"/></a>"
      ]
    },
    {
      "metadata": {
        "id": "BToPi2JX6jzd",
        "colab_type": "text"
      },
      "cell_type": "markdown",
      "source": [
        "## Load Data and Glove Model From Drive"
      ]
    },
    {
      "metadata": {
        "id": "JvS3pf0t6zsk",
        "colab_type": "code",
        "outputId": "9b99f36d-0614-4469-ec3f-bcb42d66c85c",
        "colab": {
          "base_uri": "https://localhost:8080/",
          "height": 124
        }
      },
      "cell_type": "code",
      "source": [
        "from google.colab import drive\n",
        "drive.mount('/content/gdrive')"
      ],
      "execution_count": 1,
      "outputs": [
        {
          "output_type": "stream",
          "text": [
            "Go to this URL in a browser: https://accounts.google.com/o/oauth2/auth?client_id=947318989803-6bn6qk8qdgf4n4g3pfee6491hc0brc4i.apps.googleusercontent.com&redirect_uri=urn%3Aietf%3Awg%3Aoauth%3A2.0%3Aoob&scope=email%20https%3A%2F%2Fwww.googleapis.com%2Fauth%2Fdocs.test%20https%3A%2F%2Fwww.googleapis.com%2Fauth%2Fdrive%20https%3A%2F%2Fwww.googleapis.com%2Fauth%2Fdrive.photos.readonly%20https%3A%2F%2Fwww.googleapis.com%2Fauth%2Fpeopleapi.readonly&response_type=code\n",
            "\n",
            "Enter your authorization code:\n",
            "··········\n",
            "Mounted at /content/gdrive\n"
          ],
          "name": "stdout"
        }
      ]
    },
    {
      "metadata": {
        "id": "e9s7l5uI7QWJ",
        "colab_type": "code",
        "outputId": "57eed45d-3627-4c97-99fb-cfb2bee04acf",
        "colab": {
          "base_uri": "https://localhost:8080/",
          "height": 829
        }
      },
      "cell_type": "code",
      "source": [
        "import pandas as pd\n",
        "import numpy as np\n",
        "import matplotlib.pyplot as plt\n",
        "import os\n",
        "%matplotlib inline\n",
        "import nltk\n",
        "nltk.download('popular')\n",
        "\n",
        "from keras.preprocessing.text import Tokenizer\n",
        "from keras.preprocessing.sequence import pad_sequences\n",
        "from keras.utils import to_categorical\n",
        "from keras.layers import Dense, Input, GlobalMaxPooling1D, Dropout, LSTM, GRU, Bidirectional, SpatialDropout1D\n",
        "from keras.layers import Conv1D, MaxPooling1D, Embedding, Flatten\n",
        "from keras.callbacks import ModelCheckpoint, EarlyStopping, TensorBoard\n",
        "from keras.models import Model\n",
        "from keras.initializers import Constant\n",
        "\n",
        "from wordcloud import WordCloud\n",
        "import matplotlib.pyplot as plt\n",
        "from sklearn.feature_extraction import text \n",
        "from wordcloud import WordCloud, STOPWORDS\n",
        "\n",
        "from sklearn.preprocessing import LabelEncoder\n",
        "import pickle\n",
        "import numpy as np\n",
        "from sklearn.model_selection import train_test_split\n",
        "\n",
        "import nltk.corpus\n",
        "import string\n",
        "from nltk.tokenize import word_tokenize,sent_tokenize\n",
        "from nltk.stem import WordNetLemmatizer\n",
        "\n",
        "from keras.layers import Embedding\n",
        "\n",
        "import time"
      ],
      "execution_count": 2,
      "outputs": [
        {
          "output_type": "stream",
          "text": [
            "[nltk_data] Downloading collection 'popular'\n",
            "[nltk_data]    | \n",
            "[nltk_data]    | Downloading package cmudict to /root/nltk_data...\n",
            "[nltk_data]    |   Unzipping corpora/cmudict.zip.\n",
            "[nltk_data]    | Downloading package gazetteers to /root/nltk_data...\n",
            "[nltk_data]    |   Unzipping corpora/gazetteers.zip.\n",
            "[nltk_data]    | Downloading package genesis to /root/nltk_data...\n",
            "[nltk_data]    |   Unzipping corpora/genesis.zip.\n",
            "[nltk_data]    | Downloading package gutenberg to /root/nltk_data...\n",
            "[nltk_data]    |   Unzipping corpora/gutenberg.zip.\n",
            "[nltk_data]    | Downloading package inaugural to /root/nltk_data...\n",
            "[nltk_data]    |   Unzipping corpora/inaugural.zip.\n",
            "[nltk_data]    | Downloading package movie_reviews to\n",
            "[nltk_data]    |     /root/nltk_data...\n",
            "[nltk_data]    |   Unzipping corpora/movie_reviews.zip.\n",
            "[nltk_data]    | Downloading package names to /root/nltk_data...\n",
            "[nltk_data]    |   Unzipping corpora/names.zip.\n",
            "[nltk_data]    | Downloading package shakespeare to /root/nltk_data...\n",
            "[nltk_data]    |   Unzipping corpora/shakespeare.zip.\n",
            "[nltk_data]    | Downloading package stopwords to /root/nltk_data...\n",
            "[nltk_data]    |   Unzipping corpora/stopwords.zip.\n",
            "[nltk_data]    | Downloading package treebank to /root/nltk_data...\n",
            "[nltk_data]    |   Unzipping corpora/treebank.zip.\n",
            "[nltk_data]    | Downloading package twitter_samples to\n",
            "[nltk_data]    |     /root/nltk_data...\n",
            "[nltk_data]    |   Unzipping corpora/twitter_samples.zip.\n",
            "[nltk_data]    | Downloading package omw to /root/nltk_data...\n",
            "[nltk_data]    |   Unzipping corpora/omw.zip.\n",
            "[nltk_data]    | Downloading package wordnet to /root/nltk_data...\n",
            "[nltk_data]    |   Unzipping corpora/wordnet.zip.\n",
            "[nltk_data]    | Downloading package wordnet_ic to /root/nltk_data...\n",
            "[nltk_data]    |   Unzipping corpora/wordnet_ic.zip.\n",
            "[nltk_data]    | Downloading package words to /root/nltk_data...\n",
            "[nltk_data]    |   Unzipping corpora/words.zip.\n",
            "[nltk_data]    | Downloading package maxent_ne_chunker to\n",
            "[nltk_data]    |     /root/nltk_data...\n",
            "[nltk_data]    |   Unzipping chunkers/maxent_ne_chunker.zip.\n",
            "[nltk_data]    | Downloading package punkt to /root/nltk_data...\n",
            "[nltk_data]    |   Unzipping tokenizers/punkt.zip.\n",
            "[nltk_data]    | Downloading package snowball_data to\n",
            "[nltk_data]    |     /root/nltk_data...\n",
            "[nltk_data]    | Downloading package averaged_perceptron_tagger to\n",
            "[nltk_data]    |     /root/nltk_data...\n",
            "[nltk_data]    |   Unzipping taggers/averaged_perceptron_tagger.zip.\n",
            "[nltk_data]    | \n",
            "[nltk_data]  Done downloading collection popular\n"
          ],
          "name": "stdout"
        },
        {
          "output_type": "stream",
          "text": [
            "Using TensorFlow backend.\n"
          ],
          "name": "stderr"
        }
      ]
    },
    {
      "metadata": {
        "id": "z8c7Ay-J7Qwh",
        "colab_type": "code",
        "colab": {
          "base_uri": "https://localhost:8080/",
          "height": 104
        },
        "outputId": "3a970141-5df2-4d63-af0e-1f03d6c1287b"
      },
      "cell_type": "code",
      "source": [
        "!cp gdrive/'My Drive'/bbc-fulltext.zip .\n",
        "!cp gdrive/'My Drive'/glove.6B.zip .\n",
        "!unzip bbc-fulltext.zip > out.txt\n",
        "!rm bbc/README.TXT\n",
        "!unzip glove.6B.zip"
      ],
      "execution_count": 3,
      "outputs": [
        {
          "output_type": "stream",
          "text": [
            "Archive:  glove.6B.zip\n",
            "  inflating: glove.6B.50d.txt        \n",
            "  inflating: glove.6B.100d.txt       \n",
            "  inflating: glove.6B.200d.txt       \n",
            "  inflating: glove.6B.300d.txt       \n"
          ],
          "name": "stdout"
        }
      ]
    },
    {
      "metadata": {
        "id": "Ew62XD1v790p",
        "colab_type": "code",
        "outputId": "64b29e83-c3b9-440c-c905-c353007ea309",
        "colab": {
          "base_uri": "https://localhost:8080/",
          "height": 198
        }
      },
      "cell_type": "code",
      "source": [
        "#Read Data\n",
        "categories = ['business','entertainment','politics','sport','tech']\n",
        "df = pd.DataFrame([],columns=['category','id','text'])\n",
        "for cat in categories:\n",
        "  for file in os.listdir(\"bbc/\"+cat):\n",
        "      if file.endswith(\".txt\"):\n",
        "          filepath = os.path.join(\"bbc/\"+cat, file)\n",
        "          text = open(filepath,'r', errors='ignore').read()\n",
        "          s = pd.Series([cat,int(filepath.split('/')[-1][:-4]),text],index=['category','id','text'])\n",
        "          df = df.append(s,ignore_index=True)\n",
        "\n",
        "df.head()"
      ],
      "execution_count": 4,
      "outputs": [
        {
          "output_type": "execute_result",
          "data": {
            "text/html": [
              "<div>\n",
              "<style scoped>\n",
              "    .dataframe tbody tr th:only-of-type {\n",
              "        vertical-align: middle;\n",
              "    }\n",
              "\n",
              "    .dataframe tbody tr th {\n",
              "        vertical-align: top;\n",
              "    }\n",
              "\n",
              "    .dataframe thead th {\n",
              "        text-align: right;\n",
              "    }\n",
              "</style>\n",
              "<table border=\"1\" class=\"dataframe\">\n",
              "  <thead>\n",
              "    <tr style=\"text-align: right;\">\n",
              "      <th></th>\n",
              "      <th>category</th>\n",
              "      <th>id</th>\n",
              "      <th>text</th>\n",
              "    </tr>\n",
              "  </thead>\n",
              "  <tbody>\n",
              "    <tr>\n",
              "      <th>0</th>\n",
              "      <td>business</td>\n",
              "      <td>128</td>\n",
              "      <td>Qantas sees profits fly to record\\n\\nAustralia...</td>\n",
              "    </tr>\n",
              "    <tr>\n",
              "      <th>1</th>\n",
              "      <td>business</td>\n",
              "      <td>139</td>\n",
              "      <td>German jobless rate at new record\\n\\nMore than...</td>\n",
              "    </tr>\n",
              "    <tr>\n",
              "      <th>2</th>\n",
              "      <td>business</td>\n",
              "      <td>389</td>\n",
              "      <td>Egypt to sell off state-owned bank\\n\\nThe Egyp...</td>\n",
              "    </tr>\n",
              "    <tr>\n",
              "      <th>3</th>\n",
              "      <td>business</td>\n",
              "      <td>479</td>\n",
              "      <td>Ford gains from finance not cars\\n\\nFord, the ...</td>\n",
              "    </tr>\n",
              "    <tr>\n",
              "      <th>4</th>\n",
              "      <td>business</td>\n",
              "      <td>233</td>\n",
              "      <td>Bat spit drug firm goes to market\\n\\nA German ...</td>\n",
              "    </tr>\n",
              "  </tbody>\n",
              "</table>\n",
              "</div>"
            ],
            "text/plain": [
              "   category   id                                               text\n",
              "0  business  128  Qantas sees profits fly to record\\n\\nAustralia...\n",
              "1  business  139  German jobless rate at new record\\n\\nMore than...\n",
              "2  business  389  Egypt to sell off state-owned bank\\n\\nThe Egyp...\n",
              "3  business  479  Ford gains from finance not cars\\n\\nFord, the ...\n",
              "4  business  233  Bat spit drug firm goes to market\\n\\nA German ..."
            ]
          },
          "metadata": {
            "tags": []
          },
          "execution_count": 4
        }
      ]
    },
    {
      "metadata": {
        "id": "uZXIyNwn8tT3",
        "colab_type": "code",
        "outputId": "2db1993f-655e-495a-e406-21d95c7a8353",
        "colab": {
          "base_uri": "https://localhost:8080/",
          "height": 55
        }
      },
      "cell_type": "code",
      "source": [
        "'''\n",
        "#WordCloud\n",
        "cat = df['category'].unique()\n",
        "\n",
        "for i in range(0,len(cat)):\n",
        "    words = ' '.join(df.loc[df['category']==cat[i], 'text'])\n",
        "\n",
        "    wordcloud = WordCloud( \n",
        "                          stopwords=STOPWORDS,\n",
        "                          background_color='white',\n",
        "                          width=800,\n",
        "                          height=400\n",
        "                ).generate(words)\n",
        "    print(cat[i])\n",
        "    plt.figure(figsize=(10, 5))\n",
        "    plt.imshow(wordcloud)\n",
        "    plt.axis('off')\n",
        "    plt.show()\n",
        "\n",
        "words = ' '.join(df.loc[:, 'text'])\n",
        "\n",
        "wordcloud = WordCloud( \n",
        "                      stopwords=STOPWORDS,\n",
        "                      background_color='white',\n",
        "                      width=800,\n",
        "                      height=400\n",
        "            ).generate(words)\n",
        "print(\"ALL Categories:\")\n",
        "plt.figure(figsize=(10, 5))\n",
        "plt.imshow(wordcloud)\n",
        "plt.axis('off')\n",
        "plt.show()\n",
        "'''"
      ],
      "execution_count": 5,
      "outputs": [
        {
          "output_type": "execute_result",
          "data": {
            "text/plain": [
              "'\\n#WordCloud\\ncat = df[\\'category\\'].unique()\\n\\nfor i in range(0,len(cat)):\\n    words = \\' \\'.join(df.loc[df[\\'category\\']==cat[i], \\'text\\'])\\n\\n    wordcloud = WordCloud( \\n                          stopwords=STOPWORDS,\\n                          background_color=\\'white\\',\\n                          width=800,\\n                          height=400\\n                ).generate(words)\\n    print(cat[i])\\n    plt.figure(figsize=(10, 5))\\n    plt.imshow(wordcloud)\\n    plt.axis(\\'off\\')\\n    plt.show()\\n\\nwords = \\' \\'.join(df.loc[:, \\'text\\'])\\n\\nwordcloud = WordCloud( \\n                      stopwords=STOPWORDS,\\n                      background_color=\\'white\\',\\n                      width=800,\\n                      height=400\\n            ).generate(words)\\nprint(\"ALL Categories:\")\\nplt.figure(figsize=(10, 5))\\nplt.imshow(wordcloud)\\nplt.axis(\\'off\\')\\nplt.show()\\n'"
            ]
          },
          "metadata": {
            "tags": []
          },
          "execution_count": 5
        }
      ]
    },
    {
      "metadata": {
        "id": "JR2fsHlbr_Tj",
        "colab_type": "text"
      },
      "cell_type": "markdown",
      "source": [
        "## Label Encoder\n",
        "#### Use inverse_transform at the end after predicting"
      ]
    },
    {
      "metadata": {
        "id": "385fGoXNldB0",
        "colab_type": "code",
        "outputId": "588085bb-39a4-47ad-8596-f7d4851c18cd",
        "colab": {
          "base_uri": "https://localhost:8080/",
          "height": 138
        }
      },
      "cell_type": "code",
      "source": [
        "y = df['category']\n",
        "X = df.drop(['category','id'],axis=1)\n",
        "X_train, X_test, y_train, y_test  = train_test_split(X,y,stratify=y, test_size=0.2, random_state=123)\n",
        "X_train = X_train.reset_index(drop=True)\n",
        "X_test = X_test.reset_index(drop=True)\n",
        "y_test = y_test.reset_index(drop=True)\n",
        "\n",
        "print('before: %s ...' %y_train[:5])\n",
        "\n",
        "le = LabelEncoder()\n",
        "le.fit(y_train)\n",
        "y_train = le.transform(y_train)\n",
        "\n",
        "print('after: %s ...' %y_train)"
      ],
      "execution_count": 6,
      "outputs": [
        {
          "output_type": "stream",
          "text": [
            "before: 1508       sport\n",
            "1908        tech\n",
            "2104        tech\n",
            "2019        tech\n",
            "1245    politics\n",
            "Name: category, dtype: object ...\n",
            "after: [3 4 4 ... 1 0 2] ...\n"
          ],
          "name": "stdout"
        }
      ]
    },
    {
      "metadata": {
        "id": "n9jqvQtYDhR0",
        "colab_type": "code",
        "outputId": "0546b525-3209-4f2a-fa01-70992aa9d191",
        "colab": {
          "base_uri": "https://localhost:8080/",
          "height": 155
        }
      },
      "cell_type": "code",
      "source": [
        "print(np.bincount(y_train))\n",
        "print(y.value_counts())\n",
        "print(le.inverse_transform([i for i in range(5)]))"
      ],
      "execution_count": 7,
      "outputs": [
        {
          "output_type": "stream",
          "text": [
            "[408 309 333 409 321]\n",
            "sport            511\n",
            "business         510\n",
            "politics         417\n",
            "tech             401\n",
            "entertainment    386\n",
            "Name: category, dtype: int64\n",
            "['business' 'entertainment' 'politics' 'sport' 'tech']\n"
          ],
          "name": "stdout"
        }
      ]
    },
    {
      "metadata": {
        "id": "1e6g_BjOsZ3i",
        "colab_type": "text"
      },
      "cell_type": "markdown",
      "source": [
        "## Preprocess Data - (split by \\n, remove periods, remove slashes)"
      ]
    },
    {
      "metadata": {
        "id": "_3Iv6MC3s26i",
        "colab_type": "code",
        "colab": {}
      },
      "cell_type": "code",
      "source": [
        "def preprocess(X):\n",
        "  return X.map(lambda x: x.lower().split(\"\\n\")).map(lambda x: [y.split(\". \") for y in x]).map(lambda x: [i.replace('\\'','') for sl in x for i in sl if i is not ''])"
      ],
      "execution_count": 0,
      "outputs": []
    },
    {
      "metadata": {
        "id": "6EgQMq_CtK8d",
        "colab_type": "code",
        "colab": {}
      },
      "cell_type": "code",
      "source": [
        "#Preprocess both train and test separately\n",
        "X_train['text'] = preprocess(X_train['text'])\n",
        "X_test['text'] = preprocess(X_test['text'])"
      ],
      "execution_count": 0,
      "outputs": []
    },
    {
      "metadata": {
        "id": "Wme2RkYu2UR0",
        "colab_type": "code",
        "colab": {}
      },
      "cell_type": "code",
      "source": [
        "#Stop Words and Lemmatization   \n",
        "lemmatizer = WordNetLemmatizer()\n",
        "stopw = nltk.corpus.stopwords.words('english')\n",
        "punct = string.punctuation\n",
        "punct = word_tokenize(punct)\n",
        "punct += ['.','``','...','\\'s','--','-','n\\'t','\\'']\n",
        "stopw += punct\n",
        "def token_stop(text):\n",
        "    global stopw\n",
        "    global lemmatizer\n",
        "    words = word_tokenize(text)\n",
        "    filtered = [lemmatizer.lemmatize(w) for w in words if not w in stopw]\n",
        "    return filtered\n",
        "  \n",
        "X_train['text'] = X_train['text'].map(lambda x: [token_stop(i) for i in x]).map(lambda x: [i for sl in x for i in sl])\n",
        "X_test['text'] = X_test['text'].map(lambda x: [token_stop(i) for i in x]).map(lambda x: [i for sl in x for i in sl])"
      ],
      "execution_count": 0,
      "outputs": []
    },
    {
      "metadata": {
        "id": "fHKBz-DG8HTu",
        "colab_type": "code",
        "colab": {}
      },
      "cell_type": "code",
      "source": [
        "texts = np.array(X_train['text'])\n",
        "test_text = np.array(X_test['text'])"
      ],
      "execution_count": 0,
      "outputs": []
    },
    {
      "metadata": {
        "id": "sLe602IIEqV6",
        "colab_type": "code",
        "outputId": "034fc672-0133-412e-8917-17b2898b196b",
        "colab": {
          "base_uri": "https://localhost:8080/",
          "height": 35
        }
      },
      "cell_type": "code",
      "source": [
        "MAX_SEQUENCE_LENGTH = 1000\n",
        "MAX_NB_WORDS = 20000\n",
        "EMBEDDING_DIM = 100\n",
        "VALIDATION_SPLIT = 0.2\n",
        "embeddings_index = {}\n",
        "with open('glove.6B.100d.txt') as f:\n",
        "    for line in f:\n",
        "        word, coefs = line.split(maxsplit=1)\n",
        "        coefs = np.fromstring(coefs, 'f', sep=' ')\n",
        "        embeddings_index[word] = coefs\n",
        "\n",
        "print('Found %s word vectors.' % len(embeddings_index))"
      ],
      "execution_count": 12,
      "outputs": [
        {
          "output_type": "stream",
          "text": [
            "Found 400000 word vectors.\n"
          ],
          "name": "stdout"
        }
      ]
    },
    {
      "metadata": {
        "id": "9thZOjdY_Sl6",
        "colab_type": "code",
        "outputId": "b0f8cd0a-3801-43dc-e6f7-4aaa9f153f6d",
        "colab": {
          "base_uri": "https://localhost:8080/",
          "height": 124
        }
      },
      "cell_type": "code",
      "source": [
        "tokenizer = Tokenizer(nb_words=MAX_NB_WORDS)\n",
        "tokenizer.fit_on_texts(texts)\n",
        "sequences = tokenizer.texts_to_sequences(texts)\n",
        "\n",
        "word_index = tokenizer.word_index\n",
        "print('Found %s unique tokens.' % len(word_index))\n",
        "\n",
        "data = pad_sequences(sequences, maxlen=MAX_SEQUENCE_LENGTH)\n",
        "\n",
        "labels = to_categorical(np.asarray(y_train))\n",
        "print('Shape of data tensor:', data.shape)\n",
        "print('Shape of label tensor:', labels.shape)\n",
        "\n",
        "# split the data into a training set and a validation set\n",
        "np.random.seed(123)\n",
        "indices = np.arange(data.shape[0])\n",
        "np.random.shuffle(indices)\n",
        "data = data[indices]\n",
        "labels = labels[indices]\n",
        "nb_validation_samples = int(VALIDATION_SPLIT * data.shape[0])\n",
        "\n",
        "xtrain = data[:-nb_validation_samples]\n",
        "ytrain = labels[:-nb_validation_samples]\n",
        "xval = data[-nb_validation_samples:]\n",
        "yval = labels[-nb_validation_samples:]"
      ],
      "execution_count": 13,
      "outputs": [
        {
          "output_type": "stream",
          "text": [
            "/usr/local/lib/python3.6/dist-packages/keras_preprocessing/text.py:178: UserWarning: The `nb_words` argument in `Tokenizer` has been renamed `num_words`.\n",
            "  warnings.warn('The `nb_words` argument in `Tokenizer` '\n"
          ],
          "name": "stderr"
        },
        {
          "output_type": "stream",
          "text": [
            "Found 28515 unique tokens.\n",
            "Shape of data tensor: (1780, 1000)\n",
            "Shape of label tensor: (1780, 5)\n"
          ],
          "name": "stdout"
        }
      ]
    },
    {
      "metadata": {
        "id": "VofHdiAqIRqc",
        "colab_type": "code",
        "colab": {}
      },
      "cell_type": "code",
      "source": [
        "#Create glove embedding matrix\n",
        "embedding_matrix = np.zeros((len(word_index) + 1, EMBEDDING_DIM))\n",
        "for word, i in word_index.items():\n",
        "    embedding_vector = embeddings_index.get(word)\n",
        "    if embedding_vector is not None:\n",
        "        # words not found in embedding index will be all-zeros.\n",
        "        embedding_matrix[i] = embedding_vector"
      ],
      "execution_count": 0,
      "outputs": []
    },
    {
      "metadata": {
        "id": "o3yooq2DI-dT",
        "colab_type": "code",
        "colab": {}
      },
      "cell_type": "code",
      "source": [
        "#Keras Glove Embedding layer\n",
        "embedding_layer = Embedding(len(word_index) + 1,\n",
        "                            EMBEDDING_DIM,\n",
        "                            weights=[embedding_matrix],\n",
        "                            input_length=MAX_SEQUENCE_LENGTH,\n",
        "                            trainable=True)"
      ],
      "execution_count": 0,
      "outputs": []
    },
    {
      "metadata": {
        "id": "iuZyVOsKKD6T",
        "colab_type": "code",
        "outputId": "678d933c-2854-4283-8621-1ec8fccd46dd",
        "colab": {
          "base_uri": "https://localhost:8080/",
          "height": 35
        }
      },
      "cell_type": "code",
      "source": [
        "#Map label name to its index\n",
        "labels_index = {}\n",
        "for i in range(5):\n",
        "  name = le.inverse_transform([i])[0]\n",
        "  labels_index[name] = i\n",
        "labels_index"
      ],
      "execution_count": 28,
      "outputs": [
        {
          "output_type": "execute_result",
          "data": {
            "text/plain": [
              "{'business': 0, 'entertainment': 1, 'politics': 2, 'sport': 3, 'tech': 4}"
            ]
          },
          "metadata": {
            "tags": []
          },
          "execution_count": 28
        }
      ]
    },
    {
      "metadata": {
        "id": "e18TBVrC9iwT",
        "colab_type": "text"
      },
      "cell_type": "markdown",
      "source": [
        "## Train Model"
      ]
    },
    {
      "metadata": {
        "id": "ijGeDWg6-XsZ",
        "colab_type": "code",
        "colab": {}
      },
      "cell_type": "code",
      "source": [
        "model_name = \"CNN\"\n",
        "checkpointer = ModelCheckpoint(model_name + \"_weights.{epoch:02d}-{val_loss:.2f}.hdf5\", monitor=\"val_loss\", verbose=1,\n",
        "                               save_best_only=True, mode='min')\n",
        "early_stopping = EarlyStopping(monitor='val_loss', min_delta=0, patience=10, verbose=1, mode='auto')\n",
        "tensorboard_cnn = TensorBoard(log_dir='/Graph_CNN', histogram_freq=0,write_graph=True, write_images=True)"
      ],
      "execution_count": 0,
      "outputs": []
    },
    {
      "metadata": {
        "id": "53s9TZ_mI_XY",
        "colab_type": "code",
        "colab": {}
      },
      "cell_type": "code",
      "source": [
        "sequence_input = Input(shape=(MAX_SEQUENCE_LENGTH,), dtype='int32')\n",
        "embedded_sequences = embedding_layer(sequence_input)\n",
        "x = Conv1D(128, 5, activation='relu')(embedded_sequences)\n",
        "x = MaxPooling1D(5)(x)\n",
        "x = Dropout(0.2)(x)\n",
        "x = Conv1D(128, 5, activation='relu')(x)\n",
        "x = MaxPooling1D(5)(x)\n",
        "x = Dropout(0.2)(x)\n",
        "x = Conv1D(128, 5, activation='relu')(x)\n",
        "x = MaxPooling1D(35)(x)  # global max pooling\n",
        "x = Dropout(0.2)(x)\n",
        "x = Flatten()(x)\n",
        "x = Dense(128, activation='relu')(x)\n",
        "preds = Dense(len(labels_index), activation='softmax')(x)\n",
        "\n",
        "model = Model(sequence_input, preds)\n",
        "model.compile(loss='categorical_crossentropy',\n",
        "              optimizer='rmsprop',\n",
        "              metrics=['acc'])"
      ],
      "execution_count": 0,
      "outputs": []
    },
    {
      "metadata": {
        "id": "Fp3SQDq3-tfj",
        "colab_type": "code",
        "outputId": "445740a6-6042-4d78-9ee2-b5e398fb2081",
        "colab": {
          "base_uri": "https://localhost:8080/",
          "height": 1796
        }
      },
      "cell_type": "code",
      "source": [
        "stmillis = int(round(time.time() * 1000))\n",
        "history = model.fit(xtrain, ytrain, validation_data=(xval, yval),\n",
        "          epochs=50, batch_size=128, callbacks=[checkpointer, early_stopping,tensorboard_cnn])\n",
        "endmillis = int(round(time.time() * 1000))\n",
        "print(\"Time taken: \", endmillis - stmillis)"
      ],
      "execution_count": 46,
      "outputs": [
        {
          "output_type": "stream",
          "text": [
            "Train on 1424 samples, validate on 356 samples\n",
            "Epoch 1/50\n",
            "1424/1424 [==============================] - 1s 526us/step - loss: 1.7685 - acc: 0.3195 - val_loss: 1.1781 - val_acc: 0.6208\n",
            "\n",
            "Epoch 00001: val_loss improved from inf to 1.17815, saving model to CNN_weights.01-1.18.hdf5\n",
            "Epoch 2/50\n",
            "1424/1424 [==============================] - 0s 233us/step - loss: 0.9018 - acc: 0.6721 - val_loss: 0.6211 - val_acc: 0.7921\n",
            "\n",
            "Epoch 00002: val_loss improved from 1.17815 to 0.62114, saving model to CNN_weights.02-0.62.hdf5\n",
            "Epoch 3/50\n",
            "1424/1424 [==============================] - 0s 227us/step - loss: 0.3881 - acc: 0.8708 - val_loss: 0.2907 - val_acc: 0.9101\n",
            "\n",
            "Epoch 00003: val_loss improved from 0.62114 to 0.29070, saving model to CNN_weights.03-0.29.hdf5\n",
            "Epoch 4/50\n",
            "1424/1424 [==============================] - 0s 228us/step - loss: 0.2159 - acc: 0.9298 - val_loss: 0.1924 - val_acc: 0.9438\n",
            "\n",
            "Epoch 00004: val_loss improved from 0.29070 to 0.19244, saving model to CNN_weights.04-0.19.hdf5\n",
            "Epoch 5/50\n",
            "1424/1424 [==============================] - 0s 227us/step - loss: 0.2295 - acc: 0.9235 - val_loss: 0.1836 - val_acc: 0.9522\n",
            "\n",
            "Epoch 00005: val_loss improved from 0.19244 to 0.18358, saving model to CNN_weights.05-0.18.hdf5\n",
            "Epoch 6/50\n",
            "1424/1424 [==============================] - 0s 232us/step - loss: 0.1705 - acc: 0.9459 - val_loss: 0.2429 - val_acc: 0.9382\n",
            "\n",
            "Epoch 00006: val_loss did not improve from 0.18358\n",
            "Epoch 7/50\n",
            "1424/1424 [==============================] - 0s 228us/step - loss: 0.0879 - acc: 0.9719 - val_loss: 0.2349 - val_acc: 0.9270\n",
            "\n",
            "Epoch 00007: val_loss did not improve from 0.18358\n",
            "Epoch 8/50\n",
            "1424/1424 [==============================] - 0s 237us/step - loss: 0.1243 - acc: 0.9628 - val_loss: 0.3426 - val_acc: 0.8708\n",
            "\n",
            "Epoch 00008: val_loss did not improve from 0.18358\n",
            "Epoch 9/50\n",
            "1424/1424 [==============================] - 0s 229us/step - loss: 0.1108 - acc: 0.9642 - val_loss: 0.1396 - val_acc: 0.9522\n",
            "\n",
            "Epoch 00009: val_loss improved from 0.18358 to 0.13962, saving model to CNN_weights.09-0.14.hdf5\n",
            "Epoch 10/50\n",
            "1424/1424 [==============================] - 0s 224us/step - loss: 0.0491 - acc: 0.9860 - val_loss: 0.2457 - val_acc: 0.9382\n",
            "\n",
            "Epoch 00010: val_loss did not improve from 0.13962\n",
            "Epoch 11/50\n",
            "1424/1424 [==============================] - 0s 232us/step - loss: 0.1357 - acc: 0.9621 - val_loss: 0.1483 - val_acc: 0.9494\n",
            "\n",
            "Epoch 00011: val_loss did not improve from 0.13962\n",
            "Epoch 12/50\n",
            "1424/1424 [==============================] - 0s 233us/step - loss: 0.0418 - acc: 0.9846 - val_loss: 0.1496 - val_acc: 0.9494\n",
            "\n",
            "Epoch 00012: val_loss did not improve from 0.13962\n",
            "Epoch 13/50\n",
            "1424/1424 [==============================] - 0s 229us/step - loss: 0.0466 - acc: 0.9860 - val_loss: 0.4472 - val_acc: 0.8624\n",
            "\n",
            "Epoch 00013: val_loss did not improve from 0.13962\n",
            "Epoch 14/50\n",
            "1424/1424 [==============================] - 0s 227us/step - loss: 0.0859 - acc: 0.9733 - val_loss: 0.1598 - val_acc: 0.9522\n",
            "\n",
            "Epoch 00014: val_loss did not improve from 0.13962\n",
            "Epoch 15/50\n",
            "1424/1424 [==============================] - 0s 267us/step - loss: 0.0295 - acc: 0.9895 - val_loss: 0.1268 - val_acc: 0.9747\n",
            "\n",
            "Epoch 00015: val_loss improved from 0.13962 to 0.12684, saving model to CNN_weights.15-0.13.hdf5\n",
            "Epoch 16/50\n",
            "1424/1424 [==============================] - 0s 224us/step - loss: 0.0057 - acc: 1.0000 - val_loss: 0.1672 - val_acc: 0.9607\n",
            "\n",
            "Epoch 00016: val_loss did not improve from 0.12684\n",
            "Epoch 17/50\n",
            "1424/1424 [==============================] - 0s 229us/step - loss: 0.0821 - acc: 0.9803 - val_loss: 0.1377 - val_acc: 0.9691\n",
            "\n",
            "Epoch 00017: val_loss did not improve from 0.12684\n",
            "Epoch 18/50\n",
            "1424/1424 [==============================] - 0s 232us/step - loss: 0.0051 - acc: 0.9993 - val_loss: 0.3450 - val_acc: 0.9270\n",
            "\n",
            "Epoch 00018: val_loss did not improve from 0.12684\n",
            "Epoch 19/50\n",
            "1424/1424 [==============================] - 0s 228us/step - loss: 0.0427 - acc: 0.9860 - val_loss: 0.1536 - val_acc: 0.9607\n",
            "\n",
            "Epoch 00019: val_loss did not improve from 0.12684\n",
            "Epoch 20/50\n",
            "1424/1424 [==============================] - 0s 232us/step - loss: 0.0022 - acc: 1.0000 - val_loss: 0.1739 - val_acc: 0.9579\n",
            "\n",
            "Epoch 00020: val_loss did not improve from 0.12684\n",
            "Epoch 21/50\n",
            "1424/1424 [==============================] - 0s 231us/step - loss: 0.0037 - acc: 0.9986 - val_loss: 0.1652 - val_acc: 0.9663\n",
            "\n",
            "Epoch 00021: val_loss did not improve from 0.12684\n",
            "Epoch 22/50\n",
            "1424/1424 [==============================] - 0s 230us/step - loss: 0.0067 - acc: 0.9979 - val_loss: 0.2381 - val_acc: 0.9663\n",
            "\n",
            "Epoch 00022: val_loss did not improve from 0.12684\n",
            "Epoch 23/50\n",
            "1424/1424 [==============================] - 0s 231us/step - loss: 0.0443 - acc: 0.9895 - val_loss: 0.1614 - val_acc: 0.9607\n",
            "\n",
            "Epoch 00023: val_loss did not improve from 0.12684\n",
            "Epoch 24/50\n",
            "1424/1424 [==============================] - 0s 232us/step - loss: 0.0113 - acc: 0.9951 - val_loss: 0.1650 - val_acc: 0.9691\n",
            "\n",
            "Epoch 00024: val_loss did not improve from 0.12684\n",
            "Epoch 25/50\n",
            "1424/1424 [==============================] - 0s 229us/step - loss: 8.5844e-04 - acc: 1.0000 - val_loss: 0.1588 - val_acc: 0.9635\n",
            "\n",
            "Epoch 00025: val_loss did not improve from 0.12684\n",
            "Epoch 00025: early stopping\n",
            "Time taken:  10756\n"
          ],
          "name": "stdout"
        }
      ]
    },
    {
      "metadata": {
        "id": "Z73Z42jPBsd3",
        "colab_type": "code",
        "outputId": "b5f33545-68bb-4581-834f-ed48d68d0e57",
        "colab": {
          "base_uri": "https://localhost:8080/",
          "height": 303
        }
      },
      "cell_type": "code",
      "source": [
        "fig=plt.figure()\n",
        "plt.plot(history.history['acc'],'r',linewidth=3.0)\n",
        "plt.plot(history.history['val_acc'],'b',linewidth=3.0)\n",
        "plt.legend(['Training Accuracy', 'Validation Accuracy'],fontsize=18)\n",
        "plt.xlabel('Epochs ',fontsize=16)\n",
        "plt.ylabel('Accuracy',fontsize=16)\n",
        "plt.title('Accuracy Curves : CNN',fontsize=16)\n",
        "fig.savefig('accuracy_cnn.png')\n",
        "plt.show()"
      ],
      "execution_count": 32,
      "outputs": [
        {
          "output_type": "display_data",
          "data": {
            "image/png": "[encoded data removed]",
            "text/plain": [
              "<Figure size 432x288 with 1 Axes>"
            ]
          },
          "metadata": {
            "tags": []
          }
        }
      ]
    },
    {
      "metadata": {
        "id": "8nUIMMQi_KrR",
        "colab_type": "code",
        "colab": {}
      },
      "cell_type": "code",
      "source": [
        "# Save the trained weights\n",
        "model.save(model_name + \".h5\")\n",
        "\n",
        "# Save model config as json\n",
        "model_json = model.to_json()\n",
        "with open(model_name + \".json\", \"w\") as json_file:\n",
        "    json_file.write(model_json)\n",
        "\n",
        "# Persist the model to your google drive [VERY IMPORTANT]\n",
        "!cp CNN.* gdrive/My\\ Drive/"
      ],
      "execution_count": 0,
      "outputs": []
    },
    {
      "metadata": {
        "id": "7BAwr4x19nMo",
        "colab_type": "text"
      },
      "cell_type": "markdown",
      "source": [
        "## Predict on Test Data"
      ]
    },
    {
      "metadata": {
        "id": "vIBlzM5zFVhG",
        "colab_type": "code",
        "colab": {}
      },
      "cell_type": "code",
      "source": [
        "def find_test_acc(prediction):\n",
        "  count = 0\n",
        "  t = 0\n",
        "  for pred in prediction:\n",
        "    p = pred.argmax()\n",
        "    name = le.inverse_transform([p])\n",
        "    if name == y_test.loc[count]:\n",
        "      t+=1\n",
        "    count+=1\n",
        "  print('Test Accuracy:',(t/count)*100,\"%\")"
      ],
      "execution_count": 0,
      "outputs": []
    },
    {
      "metadata": {
        "id": "1sM8QeKfJgRr",
        "colab_type": "code",
        "colab": {}
      },
      "cell_type": "code",
      "source": [
        "def predict_test(model):\n",
        "  #Tokenize test data and apply model prediction\n",
        "  sequences = tokenizer.texts_to_sequences(test_text)\n",
        "  data = pad_sequences(sequences, maxlen=MAX_SEQUENCE_LENGTH)\n",
        "\n",
        "  print('Shape of data tensor:', data.shape)\n",
        "  print('Shape of label tensor:', labels.shape)\n",
        "  prediction = model.predict(data)\n",
        "  find_test_acc(prediction)"
      ],
      "execution_count": 0,
      "outputs": []
    },
    {
      "metadata": {
        "id": "u_z5eMImMj57",
        "colab_type": "code",
        "outputId": "d16c4e85-edcc-4910-aa5f-6e087f432601",
        "colab": {
          "base_uri": "https://localhost:8080/",
          "height": 69
        }
      },
      "cell_type": "code",
      "source": [
        "predict_test(model)"
      ],
      "execution_count": 36,
      "outputs": [
        {
          "output_type": "stream",
          "text": [
            "Shape of data tensor: (445, 1000)\n",
            "Shape of label tensor: (1780, 5)\n",
            "Test Accuracy: 98.65168539325843 %\n"
          ],
          "name": "stdout"
        }
      ]
    },
    {
      "metadata": {
        "id": "p9D32NrbEPsU",
        "colab_type": "text"
      },
      "cell_type": "markdown",
      "source": [
        "# RNN"
      ]
    },
    {
      "metadata": {
        "id": "NjPmDH75ERKA",
        "colab_type": "code",
        "colab": {}
      },
      "cell_type": "code",
      "source": [
        "sequence_input = Input(shape=(MAX_SEQUENCE_LENGTH,), dtype='int32')\n",
        "embedded_sequences = embedding_layer(sequence_input)\n",
        "x = Bidirectional(LSTM(100,dropout=0.4))(embedded_sequences)\n",
        "preds = Dense(len(labels_index), activation='softmax')(x)\n",
        "lstm_model = Model(sequence_input, preds)\n",
        "lstm_model.compile(loss='categorical_crossentropy',\n",
        "              optimizer='rmsprop',\n",
        "              metrics=['acc'])"
      ],
      "execution_count": 0,
      "outputs": []
    },
    {
      "metadata": {
        "id": "dnLCsXllMNzi",
        "colab_type": "code",
        "outputId": "4fb36a7e-85a8-4b9f-a781-d1d5b97537b7",
        "colab": {
          "base_uri": "https://localhost:8080/",
          "height": 276
        }
      },
      "cell_type": "code",
      "source": [
        "lstm_model.summary()"
      ],
      "execution_count": 53,
      "outputs": [
        {
          "output_type": "stream",
          "text": [
            "_________________________________________________________________\n",
            "Layer (type)                 Output Shape              Param #   \n",
            "=================================================================\n",
            "input_5 (InputLayer)         (None, 1000)              0         \n",
            "_________________________________________________________________\n",
            "embedding_3 (Embedding)      (None, 1000, 100)         2851600   \n",
            "_________________________________________________________________\n",
            "bidirectional_2 (Bidirection (None, 200)               160800    \n",
            "_________________________________________________________________\n",
            "dense_8 (Dense)              (None, 5)                 1005      \n",
            "=================================================================\n",
            "Total params: 3,013,405\n",
            "Trainable params: 161,805\n",
            "Non-trainable params: 2,851,600\n",
            "_________________________________________________________________\n"
          ],
          "name": "stdout"
        }
      ]
    },
    {
      "metadata": {
        "id": "bbb9RTErE4wz",
        "colab_type": "code",
        "colab": {}
      },
      "cell_type": "code",
      "source": [
        "model_name = \"RNN\"\n",
        "checkpointer = ModelCheckpoint(model_name + \"_weights.{epoch:02d}-{val_loss:.2f}.hdf5\", monitor=\"val_loss\", verbose=1,\n",
        "                               save_best_only=True, mode='min')\n",
        "early_stopping = EarlyStopping(monitor='val_loss', min_delta=0, patience=10, verbose=1, mode='auto')\n",
        "tensorboard_rnn = TensorBoard(log_dir='./Graph_RNN', histogram_freq=0,write_graph=True, write_images=True)"
      ],
      "execution_count": 0,
      "outputs": []
    },
    {
      "metadata": {
        "id": "U9x73pzTEzaO",
        "colab_type": "code",
        "outputId": "bcae4019-0134-48da-f289-123e9e319a49",
        "colab": {
          "base_uri": "https://localhost:8080/",
          "height": 3316
        }
      },
      "cell_type": "code",
      "source": [
        "stmillis = int(round(time.time() * 1000))\n",
        "history = lstm_model.fit(xtrain, ytrain, validation_data=(xval, yval),\n",
        "          epochs=50, batch_size=128, callbacks=[checkpointer, early_stopping,tensorboard_rnn])\n",
        "endmillis = int(round(time.time() * 1000))\n",
        "print(\"Time taken: \", endmillis - stmillis)"
      ],
      "execution_count": 56,
      "outputs": [
        {
          "output_type": "stream",
          "text": [
            "Train on 1424 samples, validate on 356 samples\n",
            "Epoch 1/50\n",
            "1424/1424 [==============================] - 43s 30ms/step - loss: 1.2428 - acc: 0.5323 - val_loss: 1.0943 - val_acc: 0.5758\n",
            "\n",
            "Epoch 00001: val_loss improved from inf to 1.09434, saving model to RNN_weights.01-1.09.hdf5\n",
            "Epoch 2/50\n",
            "1424/1424 [==============================] - 41s 29ms/step - loss: 0.6768 - acc: 0.7879 - val_loss: 0.6442 - val_acc: 0.7921\n",
            "\n",
            "Epoch 00002: val_loss improved from 1.09434 to 0.64419, saving model to RNN_weights.02-0.64.hdf5\n",
            "Epoch 3/50\n",
            "1424/1424 [==============================] - 43s 30ms/step - loss: 0.5145 - acc: 0.8469 - val_loss: 0.3316 - val_acc: 0.9017\n",
            "\n",
            "Epoch 00003: val_loss improved from 0.64419 to 0.33155, saving model to RNN_weights.03-0.33.hdf5\n",
            "Epoch 4/50\n",
            "1424/1424 [==============================] - 41s 29ms/step - loss: 0.4791 - acc: 0.8553 - val_loss: 0.2599 - val_acc: 0.9382\n",
            "\n",
            "Epoch 00004: val_loss improved from 0.33155 to 0.25987, saving model to RNN_weights.04-0.26.hdf5\n",
            "Epoch 5/50\n",
            "1424/1424 [==============================] - 42s 29ms/step - loss: 0.3666 - acc: 0.8919 - val_loss: 0.3746 - val_acc: 0.9073\n",
            "\n",
            "Epoch 00005: val_loss did not improve from 0.25987\n",
            "Epoch 6/50\n",
            "1424/1424 [==============================] - 41s 28ms/step - loss: 0.3435 - acc: 0.9031 - val_loss: 0.2814 - val_acc: 0.9326\n",
            "\n",
            "Epoch 00006: val_loss did not improve from 0.25987\n",
            "Epoch 7/50\n",
            "1424/1424 [==============================] - 41s 29ms/step - loss: 0.3548 - acc: 0.8904 - val_loss: 0.5002 - val_acc: 0.8680\n",
            "\n",
            "Epoch 00007: val_loss did not improve from 0.25987\n",
            "Epoch 8/50\n",
            "1424/1424 [==============================] - 42s 29ms/step - loss: 0.4626 - acc: 0.8687 - val_loss: 0.5314 - val_acc: 0.8146\n",
            "\n",
            "Epoch 00008: val_loss did not improve from 0.25987\n",
            "Epoch 9/50\n",
            "1424/1424 [==============================] - 41s 29ms/step - loss: 0.3639 - acc: 0.8820 - val_loss: 0.3242 - val_acc: 0.9129\n",
            "\n",
            "Epoch 00009: val_loss did not improve from 0.25987\n",
            "Epoch 10/50\n",
            "1424/1424 [==============================] - 41s 29ms/step - loss: 0.2733 - acc: 0.9263 - val_loss: 0.3839 - val_acc: 0.8989\n",
            "\n",
            "Epoch 00010: val_loss did not improve from 0.25987\n",
            "Epoch 11/50\n",
            "1424/1424 [==============================] - 42s 29ms/step - loss: 0.3042 - acc: 0.9178 - val_loss: 0.2486 - val_acc: 0.9410\n",
            "\n",
            "Epoch 00011: val_loss improved from 0.25987 to 0.24864, saving model to RNN_weights.11-0.25.hdf5\n",
            "Epoch 12/50\n",
            "1424/1424 [==============================] - 41s 28ms/step - loss: 0.3079 - acc: 0.9157 - val_loss: 0.2414 - val_acc: 0.9438\n",
            "\n",
            "Epoch 00012: val_loss improved from 0.24864 to 0.24144, saving model to RNN_weights.12-0.24.hdf5\n",
            "Epoch 13/50\n",
            "1424/1424 [==============================] - 42s 29ms/step - loss: 0.2504 - acc: 0.9319 - val_loss: 0.1870 - val_acc: 0.9522\n",
            "\n",
            "Epoch 00013: val_loss improved from 0.24144 to 0.18703, saving model to RNN_weights.13-0.19.hdf5\n",
            "Epoch 14/50\n",
            "1424/1424 [==============================] - 40s 28ms/step - loss: 0.2450 - acc: 0.9333 - val_loss: 0.6451 - val_acc: 0.8258\n",
            "\n",
            "Epoch 00014: val_loss did not improve from 0.18703\n",
            "Epoch 15/50\n",
            "1424/1424 [==============================] - 43s 30ms/step - loss: 0.2744 - acc: 0.9333 - val_loss: 0.2404 - val_acc: 0.9354\n",
            "\n",
            "Epoch 00015: val_loss did not improve from 0.18703\n",
            "Epoch 16/50\n",
            "1424/1424 [==============================] - 41s 29ms/step - loss: 0.2201 - acc: 0.9375 - val_loss: 0.2275 - val_acc: 0.9494\n",
            "\n",
            "Epoch 00016: val_loss did not improve from 0.18703\n",
            "Epoch 17/50\n",
            "1424/1424 [==============================] - 42s 29ms/step - loss: 0.2554 - acc: 0.9326 - val_loss: 0.2263 - val_acc: 0.9326\n",
            "\n",
            "Epoch 00017: val_loss did not improve from 0.18703\n",
            "Epoch 18/50\n",
            "1424/1424 [==============================] - 41s 29ms/step - loss: 0.2513 - acc: 0.9213 - val_loss: 0.1960 - val_acc: 0.9466\n",
            "\n",
            "Epoch 00018: val_loss did not improve from 0.18703\n",
            "Epoch 19/50\n",
            "1424/1424 [==============================] - 41s 28ms/step - loss: 0.2049 - acc: 0.9431 - val_loss: 0.1899 - val_acc: 0.9551\n",
            "\n",
            "Epoch 00019: val_loss did not improve from 0.18703\n",
            "Epoch 20/50\n",
            "1424/1424 [==============================] - 41s 29ms/step - loss: 0.1961 - acc: 0.9431 - val_loss: 0.2266 - val_acc: 0.9466\n",
            "\n",
            "Epoch 00020: val_loss did not improve from 0.18703\n",
            "Epoch 21/50\n",
            "1424/1424 [==============================] - 41s 29ms/step - loss: 0.2291 - acc: 0.9368 - val_loss: 0.2571 - val_acc: 0.9326\n",
            "\n",
            "Epoch 00021: val_loss did not improve from 0.18703\n",
            "Epoch 22/50\n",
            "1424/1424 [==============================] - 41s 29ms/step - loss: 0.2378 - acc: 0.9375 - val_loss: 0.2076 - val_acc: 0.9494\n",
            "\n",
            "Epoch 00022: val_loss did not improve from 0.18703\n",
            "Epoch 23/50\n",
            "1424/1424 [==============================] - 42s 29ms/step - loss: 0.1728 - acc: 0.9494 - val_loss: 0.1862 - val_acc: 0.9579\n",
            "\n",
            "Epoch 00023: val_loss improved from 0.18703 to 0.18618, saving model to RNN_weights.23-0.19.hdf5\n",
            "Epoch 24/50\n",
            "1424/1424 [==============================] - 41s 29ms/step - loss: 0.2570 - acc: 0.9333 - val_loss: 0.2445 - val_acc: 0.9326\n",
            "\n",
            "Epoch 00024: val_loss did not improve from 0.18618\n",
            "Epoch 25/50\n",
            "1424/1424 [==============================] - 40s 28ms/step - loss: 0.1733 - acc: 0.9508 - val_loss: 0.2636 - val_acc: 0.9101\n",
            "\n",
            "Epoch 00025: val_loss did not improve from 0.18618\n",
            "Epoch 26/50\n",
            "1424/1424 [==============================] - 42s 29ms/step - loss: 0.1808 - acc: 0.9473 - val_loss: 0.1881 - val_acc: 0.9494\n",
            "\n",
            "Epoch 00026: val_loss did not improve from 0.18618\n",
            "Epoch 27/50\n",
            "1424/1424 [==============================] - 40s 28ms/step - loss: 0.2066 - acc: 0.9459 - val_loss: 0.3117 - val_acc: 0.9101\n",
            "\n",
            "Epoch 00027: val_loss did not improve from 0.18618\n",
            "Epoch 28/50\n",
            "1424/1424 [==============================] - 41s 29ms/step - loss: 0.1896 - acc: 0.9466 - val_loss: 0.1693 - val_acc: 0.9494\n",
            "\n",
            "Epoch 00028: val_loss improved from 0.18618 to 0.16931, saving model to RNN_weights.28-0.17.hdf5\n",
            "Epoch 29/50\n",
            "1424/1424 [==============================] - 41s 28ms/step - loss: 0.1610 - acc: 0.9551 - val_loss: 0.2456 - val_acc: 0.9242\n",
            "\n",
            "Epoch 00029: val_loss did not improve from 0.16931\n",
            "Epoch 30/50\n",
            "1424/1424 [==============================] - 42s 30ms/step - loss: 0.2011 - acc: 0.9389 - val_loss: 0.1489 - val_acc: 0.9551\n",
            "\n",
            "Epoch 00030: val_loss improved from 0.16931 to 0.14894, saving model to RNN_weights.30-0.15.hdf5\n",
            "Epoch 31/50\n",
            "1424/1424 [==============================] - 40s 28ms/step - loss: 0.1444 - acc: 0.9607 - val_loss: 0.2957 - val_acc: 0.9242\n",
            "\n",
            "Epoch 00031: val_loss did not improve from 0.14894\n",
            "Epoch 32/50\n",
            "1424/1424 [==============================] - 42s 30ms/step - loss: 0.1766 - acc: 0.9466 - val_loss: 0.2030 - val_acc: 0.9410\n",
            "\n",
            "Epoch 00032: val_loss did not improve from 0.14894\n",
            "Epoch 33/50\n",
            "1424/1424 [==============================] - 40s 28ms/step - loss: 0.1494 - acc: 0.9558 - val_loss: 0.1749 - val_acc: 0.9551\n",
            "\n",
            "Epoch 00033: val_loss did not improve from 0.14894\n",
            "Epoch 34/50\n",
            "1424/1424 [==============================] - 42s 29ms/step - loss: 0.1928 - acc: 0.9487 - val_loss: 0.1564 - val_acc: 0.9635\n",
            "\n",
            "Epoch 00034: val_loss did not improve from 0.14894\n",
            "Epoch 35/50\n",
            "1424/1424 [==============================] - 40s 28ms/step - loss: 0.1611 - acc: 0.9473 - val_loss: 0.3845 - val_acc: 0.9073\n",
            "\n",
            "Epoch 00035: val_loss did not improve from 0.14894\n",
            "Epoch 36/50\n",
            "1424/1424 [==============================] - 42s 29ms/step - loss: 0.2695 - acc: 0.9199 - val_loss: 0.1879 - val_acc: 0.9382\n",
            "\n",
            "Epoch 00036: val_loss did not improve from 0.14894\n",
            "Epoch 37/50\n",
            "1424/1424 [==============================] - 40s 28ms/step - loss: 0.1586 - acc: 0.9579 - val_loss: 0.1211 - val_acc: 0.9663\n",
            "\n",
            "Epoch 00037: val_loss improved from 0.14894 to 0.12107, saving model to RNN_weights.37-0.12.hdf5\n",
            "Epoch 38/50\n",
            "1424/1424 [==============================] - 42s 30ms/step - loss: 0.1491 - acc: 0.9537 - val_loss: 0.2032 - val_acc: 0.9466\n",
            "\n",
            "Epoch 00038: val_loss did not improve from 0.12107\n",
            "Epoch 39/50\n",
            "1424/1424 [==============================] - 40s 28ms/step - loss: 0.1512 - acc: 0.9572 - val_loss: 0.1828 - val_acc: 0.9551\n",
            "\n",
            "Epoch 00039: val_loss did not improve from 0.12107\n",
            "Epoch 40/50\n",
            "1424/1424 [==============================] - 42s 29ms/step - loss: 0.1398 - acc: 0.9621 - val_loss: 0.4171 - val_acc: 0.8596\n",
            "\n",
            "Epoch 00040: val_loss did not improve from 0.12107\n",
            "Epoch 41/50\n",
            "1424/1424 [==============================] - 40s 28ms/step - loss: 0.1607 - acc: 0.9508 - val_loss: 0.1628 - val_acc: 0.9579\n",
            "\n",
            "Epoch 00041: val_loss did not improve from 0.12107\n",
            "Epoch 42/50\n",
            "1424/1424 [==============================] - 42s 29ms/step - loss: 0.1727 - acc: 0.9537 - val_loss: 0.1627 - val_acc: 0.9522\n",
            "\n",
            "Epoch 00042: val_loss did not improve from 0.12107\n",
            "Epoch 43/50\n",
            "1424/1424 [==============================] - 40s 28ms/step - loss: 0.1410 - acc: 0.9628 - val_loss: 0.1514 - val_acc: 0.9579\n",
            "\n",
            "Epoch 00043: val_loss did not improve from 0.12107\n",
            "Epoch 44/50\n",
            "1424/1424 [==============================] - 42s 29ms/step - loss: 0.1250 - acc: 0.9642 - val_loss: 0.2521 - val_acc: 0.9326\n",
            "\n",
            "Epoch 00044: val_loss did not improve from 0.12107\n",
            "Epoch 45/50\n",
            "1424/1424 [==============================] - 41s 29ms/step - loss: 0.1598 - acc: 0.9410 - val_loss: 0.1917 - val_acc: 0.9438\n",
            "\n",
            "Epoch 00045: val_loss did not improve from 0.12107\n",
            "Epoch 46/50\n",
            "1424/1424 [==============================] - 42s 30ms/step - loss: 0.1201 - acc: 0.9607 - val_loss: 0.2213 - val_acc: 0.9354\n",
            "\n",
            "Epoch 00046: val_loss did not improve from 0.12107\n",
            "Epoch 47/50\n",
            "1424/1424 [==============================] - 41s 29ms/step - loss: 0.1120 - acc: 0.9663 - val_loss: 0.3433 - val_acc: 0.8961\n",
            "\n",
            "Epoch 00047: val_loss did not improve from 0.12107\n",
            "Epoch 00047: early stopping\n",
            "Time taken:  1939221\n"
          ],
          "name": "stdout"
        }
      ]
    },
    {
      "metadata": {
        "id": "vl8sxWfCEvhn",
        "colab_type": "code",
        "outputId": "e843d97b-cfb0-49c0-b1a9-c5789daf9278",
        "colab": {
          "base_uri": "https://localhost:8080/",
          "height": 303
        }
      },
      "cell_type": "code",
      "source": [
        "fig=plt.figure()\n",
        "plt.plot(history.history['acc'],'r',linewidth=3.0)\n",
        "plt.plot(history.history['val_acc'],'b',linewidth=3.0)\n",
        "plt.legend(['Training Accuracy', 'Validation Accuracy'],fontsize=18)\n",
        "plt.xlabel('Epochs ',fontsize=16)\n",
        "plt.ylabel('Accuracy',fontsize=16)\n",
        "plt.title('Accuracy Curves : CNN',fontsize=16)\n",
        "fig.savefig('accuracy_cnn.png')\n",
        "plt.show()"
      ],
      "execution_count": 57,
      "outputs": [
        {
          "output_type": "display_data",
          "data": {
            "image/png": "[encoded data removed]",
            "text/plain": [
              "<Figure size 432x288 with 1 Axes>"
            ]
          },
          "metadata": {
            "tags": []
          }
        }
      ]
    },
    {
      "metadata": {
        "id": "VbE3Cy1LFJhy",
        "colab_type": "code",
        "colab": {}
      },
      "cell_type": "code",
      "source": [
        "# Save the trained weights\n",
        "lstm_model.save(model_name + \".h5\")\n",
        "\n",
        "# Save model config as json\n",
        "model_json = lstm_model.to_json()\n",
        "with open(model_name + \".json\", \"w\") as json_file:\n",
        "    json_file.write(model_json)\n",
        "\n",
        "# Persist the model to your google drive [VERY IMPORTANT]\n",
        "!cp RNN.* gdrive/My\\ Drive/"
      ],
      "execution_count": 0,
      "outputs": []
    },
    {
      "metadata": {
        "id": "6dqZeS3tGII0",
        "colab_type": "code",
        "outputId": "b0997ae0-f14f-418d-9b8c-c8f4f6d66a12",
        "colab": {
          "base_uri": "https://localhost:8080/",
          "height": 69
        }
      },
      "cell_type": "code",
      "source": [
        "predict_test(lstm_model)"
      ],
      "execution_count": 59,
      "outputs": [
        {
          "output_type": "stream",
          "text": [
            "Shape of data tensor: (445, 1000)\n",
            "Shape of label tensor: (1780, 5)\n",
            "Test Accuracy: 91.91011235955057 %\n"
          ],
          "name": "stdout"
        }
      ]
    },
    {
      "metadata": {
        "id": "R55FX-Xq3XkP",
        "colab_type": "text"
      },
      "cell_type": "markdown",
      "source": [
        "## Tensorboard"
      ]
    },
    {
      "metadata": {
        "id": "Bz0qLhb1Gi2s",
        "colab_type": "code",
        "colab": {
          "base_uri": "https://localhost:8080/",
          "height": 242
        },
        "outputId": "be373cc4-da84-4a98-fc17-b34a716e5b76"
      },
      "cell_type": "code",
      "source": [
        "!wget https://bin.equinox.io/c/4VmDzA7iaHb/ngrok-stable-linux-amd64.zip\n",
        "!unzip ngrok-stable-linux-amd64.zip"
      ],
      "execution_count": 47,
      "outputs": [
        {
          "output_type": "stream",
          "text": [
            "--2019-05-02 00:05:03--  https://bin.equinox.io/c/4VmDzA7iaHb/ngrok-stable-linux-amd64.zip\n",
            "Resolving bin.equinox.io (bin.equinox.io)... 52.72.245.79, 3.92.108.98, 52.55.191.55, ...\n",
            "Connecting to bin.equinox.io (bin.equinox.io)|52.72.245.79|:443... connected.\n",
            "HTTP request sent, awaiting response... 200 OK\n",
            "Length: 14991793 (14M) [application/octet-stream]\n",
            "Saving to: ‘ngrok-stable-linux-amd64.zip’\n",
            "\n",
            "ngrok-stable-linux- 100%[===================>]  14.30M  60.7MB/s    in 0.2s    \n",
            "\n",
            "2019-05-02 00:05:03 (60.7 MB/s) - ‘ngrok-stable-linux-amd64.zip’ saved [14991793/14991793]\n",
            "\n",
            "Archive:  ngrok-stable-linux-amd64.zip\n",
            "  inflating: ngrok                   \n"
          ],
          "name": "stdout"
        }
      ]
    },
    {
      "metadata": {
        "id": "2VIBupfd29Rk",
        "colab_type": "code",
        "colab": {}
      },
      "cell_type": "code",
      "source": [
        "LOG_DIR = './Graph_RNN'\n",
        "get_ipython().system_raw(\n",
        "    'tensorboard --logdir {} --host 0.0.0.0 --port 6006 &'\n",
        "    .format(LOG_DIR)\n",
        ")\n",
        "get_ipython().system_raw('./ngrok http 6006 &')\n",
        "! curl -s http://localhost:4040/api/tunnels | python3 -c \\\n",
        "    \"import sys, json; print(json.load(sys.stdin)['tunnels'][0]['public_url'])\""
      ],
      "execution_count": 0,
      "outputs": []
    },
    {
      "metadata": {
        "id": "HMMIu1W83CFi",
        "colab_type": "code",
        "colab": {}
      },
      "cell_type": "code",
      "source": [
        ""
      ],
      "execution_count": 0,
      "outputs": []
    },
    {
      "metadata": {
        "id": "iq6gjuse3FR6",
        "colab_type": "code",
        "colab": {
          "base_uri": "https://localhost:8080/",
          "height": 35
        },
        "outputId": "36b25387-8b5d-4d19-c26c-96f2b28ed8f7"
      },
      "cell_type": "code",
      "source": [
        ""
      ],
      "execution_count": 50,
      "outputs": [
        {
          "output_type": "stream",
          "text": [
            "http://ad564189.ngrok.io\n"
          ],
          "name": "stdout"
        }
      ]
    },
    {
      "metadata": {
        "id": "yp4_vhHk3IgS",
        "colab_type": "code",
        "colab": {
          "base_uri": "https://localhost:8080/",
          "height": 501
        },
        "outputId": "71a39744-859c-4459-db63-4df4b24fef36"
      },
      "cell_type": "code",
      "source": [
        "!ls"
      ],
      "execution_count": 51,
      "outputs": [
        {
          "output_type": "stream",
          "text": [
            "accuracy_cnn.png\t  gdrive\n",
            "bbc\t\t\t  glove.6B.100d.txt\n",
            "bbc-fulltext.zip\t  glove.6B.200d.txt\n",
            "CNN.h5\t\t\t  glove.6B.300d.txt\n",
            "CNN.json\t\t  glove.6B.50d.txt\n",
            "CNN_weights.01-0.96.hdf5  glove.6B.zip\n",
            "CNN_weights.01-1.18.hdf5  ngrok\n",
            "CNN_weights.01-1.38.hdf5  ngrok-stable-linux-amd64.zip\n",
            "CNN_weights.02-0.42.hdf5  out.txt\n",
            "CNN_weights.02-0.48.hdf5  RNN.h5\n",
            "CNN_weights.02-0.62.hdf5  RNN.json\n",
            "CNN_weights.03-0.29.hdf5  RNN_weights.01-0.81.hdf5\n",
            "CNN_weights.03-0.34.hdf5  RNN_weights.02-0.47.hdf5\n",
            "CNN_weights.03-0.41.hdf5  RNN_weights.03-0.32.hdf5\n",
            "CNN_weights.04-0.17.hdf5  RNN_weights.06-0.31.hdf5\n",
            "CNN_weights.04-0.19.hdf5  RNN_weights.07-0.28.hdf5\n",
            "CNN_weights.04-0.24.hdf5  RNN_weights.09-0.28.hdf5\n",
            "CNN_weights.05-0.16.hdf5  RNN_weights.10-0.25.hdf5\n",
            "CNN_weights.05-0.18.hdf5  RNN_weights.13-0.21.hdf5\n",
            "CNN_weights.06-0.15.hdf5  RNN_weights.19-0.19.hdf5\n",
            "CNN_weights.09-0.14.hdf5  RNN_weights.20-0.19.hdf5\n",
            "CNN_weights.09-0.15.hdf5  RNN_weights.23-0.16.hdf5\n",
            "CNN_weights.09-0.17.hdf5  RNN_weights.26-0.14.hdf5\n",
            "CNN_weights.10-0.14.hdf5  RNN_weights.34-0.12.hdf5\n",
            "CNN_weights.11-0.11.hdf5  RNN_weights.39-0.12.hdf5\n",
            "CNN_weights.11-0.16.hdf5  RNN_weights.43-0.12.hdf5\n",
            "CNN_weights.13-0.14.hdf5  sample_data\n",
            "CNN_weights.15-0.13.hdf5\n"
          ],
          "name": "stdout"
        }
      ]
    },
    {
      "metadata": {
        "id": "yxpBpPCy3Om5",
        "colab_type": "code",
        "colab": {}
      },
      "cell_type": "code",
      "source": [
        ""
      ],
      "execution_count": 0,
      "outputs": []
    }
  ]
}