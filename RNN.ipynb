{
  "nbformat": 4,
  "nbformat_minor": 0,
  "metadata": {
    "colab": {
      "name": "RNN",
      "version": "0.3.2",
      "provenance": [],
      "collapsed_sections": [],
      "include_colab_link": true
    },
    "kernelspec": {
      "name": "python3",
      "display_name": "Python 3"
    },
    "accelerator": "GPU"
  },
  "cells": [
    {
      "cell_type": "markdown",
      "metadata": {
        "id": "view-in-github",
        "colab_type": "text"
      },
      "source": [
        "<a href=\"https://colab.research.google.com/github/rachit-shah/adbi-project/blob/master/RNN.ipynb\" target=\"_parent\"><img src=\"https://colab.research.google.com/assets/colab-badge.svg\" alt=\"Open In Colab\"/></a>"
      ]
    },
    {
      "cell_type": "markdown",
      "metadata": {
        "id": "BToPi2JX6jzd",
        "colab_type": "text"
      },
      "source": [
        "## Load Data and Glove Model From Drive"
      ]
    },
    {
      "cell_type": "code",
      "metadata": {
        "id": "JvS3pf0t6zsk",
        "colab_type": "code",
        "outputId": "044bfb9c-aa08-416f-c623-52e6efcade15",
        "colab": {
          "base_uri": "https://localhost:8080/",
          "height": 122
        }
      },
      "source": [
        "# Mounting google drive to access data and glove model\n",
        "from google.colab import drive\n",
        "drive.mount('/content/gdrive')"
      ],
      "execution_count": 0,
      "outputs": [
        {
          "output_type": "stream",
          "text": [
            "Go to this URL in a browser: https://accounts.google.com/o/oauth2/auth?client_id=947318989803-6bn6qk8qdgf4n4g3pfee6491hc0brc4i.apps.googleusercontent.com&redirect_uri=urn%3Aietf%3Awg%3Aoauth%3A2.0%3Aoob&scope=email%20https%3A%2F%2Fwww.googleapis.com%2Fauth%2Fdocs.test%20https%3A%2F%2Fwww.googleapis.com%2Fauth%2Fdrive%20https%3A%2F%2Fwww.googleapis.com%2Fauth%2Fdrive.photos.readonly%20https%3A%2F%2Fwww.googleapis.com%2Fauth%2Fpeopleapi.readonly&response_type=code\n",
            "\n",
            "Enter your authorization code:\n",
            "··········\n",
            "Mounted at /content/gdrive\n"
          ],
          "name": "stdout"
        }
      ]
    },
    {
      "cell_type": "code",
      "metadata": {
        "id": "e9s7l5uI7QWJ",
        "colab_type": "code",
        "outputId": "e806592b-7d98-4786-f79f-0d3501eac0d4",
        "colab": {
          "base_uri": "https://localhost:8080/",
          "height": 833
        }
      },
      "source": [
        "#import all required packages and modules.\n",
        "import pandas as pd\n",
        "import numpy as np\n",
        "import matplotlib.pyplot as plt\n",
        "import os\n",
        "%matplotlib inline\n",
        "import nltk\n",
        "nltk.download('popular')\n",
        "\n",
        "from keras.preprocessing.text import Tokenizer\n",
        "from keras.preprocessing.sequence import pad_sequences\n",
        "from keras.utils import to_categorical\n",
        "from keras.layers import Dense, Input, GlobalMaxPooling1D, Dropout, LSTM, GRU, Bidirectional, SpatialDropout1D\n",
        "from keras.layers import Conv1D, MaxPooling1D, Embedding, Flatten\n",
        "from keras.callbacks import ModelCheckpoint, EarlyStopping, TensorBoard\n",
        "from keras.models import Model\n",
        "from keras.initializers import Constant\n",
        "\n",
        "from wordcloud import WordCloud\n",
        "import matplotlib.pyplot as plt\n",
        "from sklearn.feature_extraction import text \n",
        "from wordcloud import WordCloud, STOPWORDS\n",
        "\n",
        "from sklearn.preprocessing import LabelEncoder\n",
        "import pickle\n",
        "import numpy as np\n",
        "from sklearn.model_selection import train_test_split\n",
        "\n",
        "import nltk.corpus\n",
        "import string\n",
        "from nltk.tokenize import word_tokenize,sent_tokenize\n",
        "from nltk.stem import WordNetLemmatizer\n",
        "\n",
        "from keras.layers import Embedding\n",
        "\n",
        "import time\n"
      ],
      "execution_count": 0,
      "outputs": [
        {
          "output_type": "stream",
          "text": [
            "[nltk_data] Downloading collection 'popular'\n",
            "[nltk_data]    | \n",
            "[nltk_data]    | Downloading package cmudict to /root/nltk_data...\n",
            "[nltk_data]    |   Package cmudict is already up-to-date!\n",
            "[nltk_data]    | Downloading package gazetteers to /root/nltk_data...\n",
            "[nltk_data]    |   Package gazetteers is already up-to-date!\n",
            "[nltk_data]    | Downloading package genesis to /root/nltk_data...\n",
            "[nltk_data]    |   Package genesis is already up-to-date!\n",
            "[nltk_data]    | Downloading package gutenberg to /root/nltk_data...\n",
            "[nltk_data]    |   Package gutenberg is already up-to-date!\n",
            "[nltk_data]    | Downloading package inaugural to /root/nltk_data...\n",
            "[nltk_data]    |   Package inaugural is already up-to-date!\n",
            "[nltk_data]    | Downloading package movie_reviews to\n",
            "[nltk_data]    |     /root/nltk_data...\n",
            "[nltk_data]    |   Package movie_reviews is already up-to-date!\n",
            "[nltk_data]    | Downloading package names to /root/nltk_data...\n",
            "[nltk_data]    |   Package names is already up-to-date!\n",
            "[nltk_data]    | Downloading package shakespeare to /root/nltk_data...\n",
            "[nltk_data]    |   Package shakespeare is already up-to-date!\n",
            "[nltk_data]    | Downloading package stopwords to /root/nltk_data...\n",
            "[nltk_data]    |   Package stopwords is already up-to-date!\n",
            "[nltk_data]    | Downloading package treebank to /root/nltk_data...\n",
            "[nltk_data]    |   Package treebank is already up-to-date!\n",
            "[nltk_data]    | Downloading package twitter_samples to\n",
            "[nltk_data]    |     /root/nltk_data...\n",
            "[nltk_data]    |   Package twitter_samples is already up-to-date!\n",
            "[nltk_data]    | Downloading package omw to /root/nltk_data...\n",
            "[nltk_data]    |   Package omw is already up-to-date!\n",
            "[nltk_data]    | Downloading package wordnet to /root/nltk_data...\n",
            "[nltk_data]    |   Package wordnet is already up-to-date!\n",
            "[nltk_data]    | Downloading package wordnet_ic to /root/nltk_data...\n",
            "[nltk_data]    |   Package wordnet_ic is already up-to-date!\n",
            "[nltk_data]    | Downloading package words to /root/nltk_data...\n",
            "[nltk_data]    |   Package words is already up-to-date!\n",
            "[nltk_data]    | Downloading package maxent_ne_chunker to\n",
            "[nltk_data]    |     /root/nltk_data...\n",
            "[nltk_data]    |   Package maxent_ne_chunker is already up-to-date!\n",
            "[nltk_data]    | Downloading package punkt to /root/nltk_data...\n",
            "[nltk_data]    |   Package punkt is already up-to-date!\n",
            "[nltk_data]    | Downloading package snowball_data to\n",
            "[nltk_data]    |     /root/nltk_data...\n",
            "[nltk_data]    |   Package snowball_data is already up-to-date!\n",
            "[nltk_data]    | Downloading package averaged_perceptron_tagger to\n",
            "[nltk_data]    |     /root/nltk_data...\n",
            "[nltk_data]    |   Package averaged_perceptron_tagger is already up-\n",
            "[nltk_data]    |       to-date!\n",
            "[nltk_data]    | \n",
            "[nltk_data]  Done downloading collection popular\n"
          ],
          "name": "stdout"
        }
      ]
    },
    {
      "cell_type": "code",
      "metadata": {
        "id": "z8c7Ay-J7Qwh",
        "colab_type": "code",
        "outputId": "41d7d4ea-881c-4132-9b3b-faefc907d101",
        "colab": {
          "base_uri": "https://localhost:8080/",
          "height": 102
        }
      },
      "source": [
        "\n",
        "# copying dataset and embedding from drive. Unpacking the compressed files\n",
        "!cp gdrive/'My Drive'/bbc-fulltext.zip .\n",
        "!cp gdrive/'My Drive'/glove.6B.zip .\n",
        "!unzip bbc-fulltext.zip > out.txt\n",
        "!rm bbc/README.TXT\n",
        "!unzip glove.6B.zip\n"
      ],
      "execution_count": 0,
      "outputs": [
        {
          "output_type": "stream",
          "text": [
            "Archive:  glove.6B.zip\n",
            "  inflating: glove.6B.50d.txt        \n",
            "  inflating: glove.6B.100d.txt       \n",
            "  inflating: glove.6B.200d.txt       \n",
            "  inflating: glove.6B.300d.txt       \n"
          ],
          "name": "stdout"
        }
      ]
    },
    {
      "cell_type": "code",
      "metadata": {
        "id": "hHySPyqdR9_C",
        "colab_type": "code",
        "colab": {}
      },
      "source": [
        "\n",
        "# from https://stackoverflow.com/questions/32419510/how-to-get-reproducible-results-in-keras\n",
        "# Seed value\n",
        "# Apparently you may use different seed values at each stage\n",
        "seed_value= 123\n",
        "\n",
        "# 1. Set `PYTHONHASHSEED` environment variable at a fixed value\n",
        "import os\n",
        "os.environ['PYTHONHASHSEED']=str(seed_value)\n",
        "\n",
        "# 2. Set `python` built-in pseudo-random generator at a fixed value\n",
        "import random\n",
        "random.seed(seed_value)\n",
        "\n",
        "# 3. Set `numpy` pseudo-random generator at a fixed value\n",
        "import numpy as np\n",
        "np.random.seed(seed_value)\n",
        "\n",
        "\n",
        "# 4. Set `tensorflow` pseudo-random generator at a fixed value\n",
        "import tensorflow as tf\n",
        "tf.set_random_seed(seed_value)\n",
        "\n",
        "# 5. Configure a new global `tensorflow` session\n",
        "from keras import backend as K\n",
        "session_conf = tf.ConfigProto(intra_op_parallelism_threads=1, inter_op_parallelism_threads=1)\n",
        "sess = tf.Session(graph=tf.get_default_graph(), config=session_conf)\n",
        "K.set_session(sess)\n"
      ],
      "execution_count": 0,
      "outputs": []
    },
    {
      "cell_type": "code",
      "metadata": {
        "id": "Ew62XD1v790p",
        "colab_type": "code",
        "outputId": "96e5f284-7b86-4474-d823-37112567e478",
        "colab": {
          "base_uri": "https://localhost:8080/",
          "height": 204
        }
      },
      "source": [
        "#Read Data\n",
        "categories = ['business','entertainment','politics','sport','tech']\n",
        "df = pd.DataFrame([],columns=['category','id','text'])\n",
        "for cat in categories:\n",
        "  for file in os.listdir(\"bbc/\"+cat):\n",
        "      if file.endswith(\".txt\"):\n",
        "          filepath = os.path.join(\"bbc/\"+cat, file)\n",
        "          text = open(filepath,'r', errors='ignore').read()\n",
        "          s = pd.Series([cat,int(filepath.split('/')[-1][:-4]),text],index=['category','id','text'])\n",
        "          df = df.append(s,ignore_index=True)\n",
        "\n",
        "df.head()"
      ],
      "execution_count": 0,
      "outputs": [
        {
          "output_type": "execute_result",
          "data": {
            "text/html": [
              "<div>\n",
              "<style scoped>\n",
              "    .dataframe tbody tr th:only-of-type {\n",
              "        vertical-align: middle;\n",
              "    }\n",
              "\n",
              "    .dataframe tbody tr th {\n",
              "        vertical-align: top;\n",
              "    }\n",
              "\n",
              "    .dataframe thead th {\n",
              "        text-align: right;\n",
              "    }\n",
              "</style>\n",
              "<table border=\"1\" class=\"dataframe\">\n",
              "  <thead>\n",
              "    <tr style=\"text-align: right;\">\n",
              "      <th></th>\n",
              "      <th>category</th>\n",
              "      <th>id</th>\n",
              "      <th>text</th>\n",
              "    </tr>\n",
              "  </thead>\n",
              "  <tbody>\n",
              "    <tr>\n",
              "      <th>0</th>\n",
              "      <td>business</td>\n",
              "      <td>324</td>\n",
              "      <td>Yukos seeks court action on sale\\n\\nYukos will...</td>\n",
              "    </tr>\n",
              "    <tr>\n",
              "      <th>1</th>\n",
              "      <td>business</td>\n",
              "      <td>470</td>\n",
              "      <td>Saudi investor picks up the Savoy\\n\\nLondon's ...</td>\n",
              "    </tr>\n",
              "    <tr>\n",
              "      <th>2</th>\n",
              "      <td>business</td>\n",
              "      <td>413</td>\n",
              "      <td>EC calls truce in deficit battle\\n\\nThe Europe...</td>\n",
              "    </tr>\n",
              "    <tr>\n",
              "      <th>3</th>\n",
              "      <td>business</td>\n",
              "      <td>185</td>\n",
              "      <td>US bank 'loses' customer details\\n\\nThe Bank o...</td>\n",
              "    </tr>\n",
              "    <tr>\n",
              "      <th>4</th>\n",
              "      <td>business</td>\n",
              "      <td>142</td>\n",
              "      <td>Asian banks halt dollar's slide\\n\\nThe dollar ...</td>\n",
              "    </tr>\n",
              "  </tbody>\n",
              "</table>\n",
              "</div>"
            ],
            "text/plain": [
              "   category   id                                               text\n",
              "0  business  324  Yukos seeks court action on sale\\n\\nYukos will...\n",
              "1  business  470  Saudi investor picks up the Savoy\\n\\nLondon's ...\n",
              "2  business  413  EC calls truce in deficit battle\\n\\nThe Europe...\n",
              "3  business  185  US bank 'loses' customer details\\n\\nThe Bank o...\n",
              "4  business  142  Asian banks halt dollar's slide\\n\\nThe dollar ..."
            ]
          },
          "metadata": {
            "tags": []
          },
          "execution_count": 31
        }
      ]
    },
    {
      "cell_type": "code",
      "metadata": {
        "id": "uZXIyNwn8tT3",
        "colab_type": "code",
        "outputId": "4cff295c-4401-4603-879d-be10a60f7866",
        "colab": {
          "base_uri": "https://localhost:8080/",
          "height": 54
        }
      },
      "source": [
        "'''\n",
        "#WordCloud\n",
        "cat = df['category'].unique()\n",
        "\n",
        "for i in range(0,len(cat)):\n",
        "    words = ' '.join(df.loc[df['category']==cat[i], 'text'])\n",
        "\n",
        "    wordcloud = WordCloud( \n",
        "                          stopwords=STOPWORDS,\n",
        "                          background_color='white',\n",
        "                          width=800,\n",
        "                          height=400\n",
        "                ).generate(words)\n",
        "    print(cat[i])\n",
        "    plt.figure(figsize=(10, 5))\n",
        "    plt.imshow(wordcloud)\n",
        "    plt.axis('off')\n",
        "    plt.show()\n",
        "\n",
        "words = ' '.join(df.loc[:, 'text'])\n",
        "\n",
        "wordcloud = WordCloud( \n",
        "                      stopwords=STOPWORDS,\n",
        "                      background_color='white',\n",
        "                      width=800,\n",
        "                      height=400\n",
        "            ).generate(words)\n",
        "print(\"ALL Categories:\")\n",
        "plt.figure(figsize=(10, 5))\n",
        "plt.imshow(wordcloud)\n",
        "plt.axis('off')\n",
        "plt.show()\n",
        "'''"
      ],
      "execution_count": 0,
      "outputs": [
        {
          "output_type": "execute_result",
          "data": {
            "text/plain": [
              "'\\n#WordCloud\\ncat = df[\\'category\\'].unique()\\n\\nfor i in range(0,len(cat)):\\n    words = \\' \\'.join(df.loc[df[\\'category\\']==cat[i], \\'text\\'])\\n\\n    wordcloud = WordCloud( \\n                          stopwords=STOPWORDS,\\n                          background_color=\\'white\\',\\n                          width=800,\\n                          height=400\\n                ).generate(words)\\n    print(cat[i])\\n    plt.figure(figsize=(10, 5))\\n    plt.imshow(wordcloud)\\n    plt.axis(\\'off\\')\\n    plt.show()\\n\\nwords = \\' \\'.join(df.loc[:, \\'text\\'])\\n\\nwordcloud = WordCloud( \\n                      stopwords=STOPWORDS,\\n                      background_color=\\'white\\',\\n                      width=800,\\n                      height=400\\n            ).generate(words)\\nprint(\"ALL Categories:\")\\nplt.figure(figsize=(10, 5))\\nplt.imshow(wordcloud)\\nplt.axis(\\'off\\')\\nplt.show()\\n'"
            ]
          },
          "metadata": {
            "tags": []
          },
          "execution_count": 32
        }
      ]
    },
    {
      "cell_type": "markdown",
      "metadata": {
        "id": "JR2fsHlbr_Tj",
        "colab_type": "text"
      },
      "source": [
        "## Label Encoder\n",
        "#### Use inverse_transform at the end after predicting"
      ]
    },
    {
      "cell_type": "code",
      "metadata": {
        "id": "385fGoXNldB0",
        "colab_type": "code",
        "outputId": "a05b8577-ebc6-4333-8bf0-979c45b07fb1",
        "colab": {
          "base_uri": "https://localhost:8080/",
          "height": 136
        }
      },
      "source": [
        "#Split training and test set using stratified sampling and test size of 20%\n",
        "y = df['category']\n",
        "X = df.drop(['category','id'],axis=1)\n",
        "X_train, X_test, y_train, y_test  = train_test_split(X,y,stratify=y, test_size=0.2, random_state=123)\n",
        "X_train = X_train.reset_index(drop=True)\n",
        "X_test = X_test.reset_index(drop=True)\n",
        "y_test = y_test.reset_index(drop=True)\n",
        "\n",
        "print('before: %s ...' %y_train[:5])\n",
        "\n",
        "#Transform label names to unique number using label encoder\n",
        "le = LabelEncoder()\n",
        "le.fit(y_train)\n",
        "y_train = le.transform(y_train)\n",
        "\n",
        "print('after: %s ...' %y_train)"
      ],
      "execution_count": 0,
      "outputs": [
        {
          "output_type": "stream",
          "text": [
            "before: 1508       sport\n",
            "1908        tech\n",
            "2104        tech\n",
            "2019        tech\n",
            "1245    politics\n",
            "Name: category, dtype: object ...\n",
            "after: [3 4 4 ... 1 0 2] ...\n"
          ],
          "name": "stdout"
        }
      ]
    },
    {
      "cell_type": "code",
      "metadata": {
        "id": "n9jqvQtYDhR0",
        "colab_type": "code",
        "outputId": "1dea8cab-e079-443c-bf4d-afe0e13abb78",
        "colab": {
          "base_uri": "https://localhost:8080/",
          "height": 153
        }
      },
      "source": [
        "print(np.bincount(y_train))\n",
        "print(y.value_counts())\n",
        "print(le.inverse_transform([i for i in range(5)]))"
      ],
      "execution_count": 0,
      "outputs": [
        {
          "output_type": "stream",
          "text": [
            "[408 309 333 409 321]\n",
            "sport            511\n",
            "business         510\n",
            "politics         417\n",
            "tech             401\n",
            "entertainment    386\n",
            "Name: category, dtype: int64\n",
            "['business' 'entertainment' 'politics' 'sport' 'tech']\n"
          ],
          "name": "stdout"
        }
      ]
    },
    {
      "cell_type": "markdown",
      "metadata": {
        "id": "1e6g_BjOsZ3i",
        "colab_type": "text"
      },
      "source": [
        "## Preprocess Data - (split by \\n, remove periods, remove slashes)"
      ]
    },
    {
      "cell_type": "code",
      "metadata": {
        "id": "fkDSvsY8cv5g",
        "colab_type": "code",
        "colab": {}
      },
      "source": [
        "#Parameters for hyperparameter  tuning\n",
        "dropout = 0.3\n",
        "bidirectional = False\n",
        "EMBEDDING_DIM = 200\n",
        "traina = True #embeedding layer trainable"
      ],
      "execution_count": 0,
      "outputs": []
    },
    {
      "cell_type": "code",
      "metadata": {
        "id": "_3Iv6MC3s26i",
        "colab_type": "code",
        "colab": {}
      },
      "source": [
        "def preprocess(X):\n",
        "  return X.map(lambda x: x.lower().split(\"\\n\")).map(lambda x: [y.split(\". \") for y in x]).map(lambda x: [i.replace('\\'','') for sl in x for i in sl if i is not ''])"
      ],
      "execution_count": 0,
      "outputs": []
    },
    {
      "cell_type": "code",
      "metadata": {
        "id": "6EgQMq_CtK8d",
        "colab_type": "code",
        "colab": {}
      },
      "source": [
        "#Preprocess both train and test separately\n",
        "X_train['text'] = preprocess(X_train['text'])\n",
        "X_test['text'] = preprocess(X_test['text'])"
      ],
      "execution_count": 0,
      "outputs": []
    },
    {
      "cell_type": "code",
      "metadata": {
        "id": "Wme2RkYu2UR0",
        "colab_type": "code",
        "colab": {}
      },
      "source": [
        "#Stop Words and Lemmatization   \n",
        "lemmatizer = WordNetLemmatizer()\n",
        "stopw = nltk.corpus.stopwords.words('english')\n",
        "punct = string.punctuation\n",
        "punct = word_tokenize(punct)\n",
        "punct += ['.','``','...','\\'s','--','-','n\\'t','\\'']\n",
        "stopw += punct\n",
        "def token_stop(text):\n",
        "    global stopw\n",
        "    global lemmatizer\n",
        "    words = word_tokenize(text)\n",
        "    filtered = [lemmatizer.lemmatize(w) for w in words if not w in stopw]\n",
        "    return filtered\n",
        "  \n",
        "X_train['text'] = X_train['text'].map(lambda x: [token_stop(i) for i in x]).map(lambda x: [i for sl in x for i in sl])\n",
        "X_test['text'] = X_test['text'].map(lambda x: [token_stop(i) for i in x]).map(lambda x: [i for sl in x for i in sl])"
      ],
      "execution_count": 0,
      "outputs": []
    },
    {
      "cell_type": "code",
      "metadata": {
        "id": "fHKBz-DG8HTu",
        "colab_type": "code",
        "colab": {}
      },
      "source": [
        "texts = np.array(X_train['text'])\n",
        "test_text = np.array(X_test['text'])"
      ],
      "execution_count": 0,
      "outputs": []
    },
    {
      "cell_type": "code",
      "metadata": {
        "id": "sLe602IIEqV6",
        "colab_type": "code",
        "outputId": "f4cad78b-6f2d-4727-d310-48e11abce60a",
        "colab": {
          "base_uri": "https://localhost:8080/",
          "height": 34
        }
      },
      "source": [
        "#Choose max sequence length with optimal sequence length based on box plot\n",
        "#Load glove model embeddings corresponding to best dimensions from hyperparameter tuning\n",
        "MAX_SEQUENCE_LENGTH = 1000\n",
        "MAX_NB_WORDS = 20000\n",
        "VALIDATION_SPLIT = 0.2\n",
        "embeddings_index = {}\n",
        "with open('glove.6B.'+str(EMBEDDING_DIM)+'d.txt') as f:\n",
        "    for line in f:\n",
        "        word, coefs = line.split(maxsplit=1)\n",
        "        coefs = np.fromstring(coefs, 'f', sep=' ')\n",
        "        embeddings_index[word] = coefs\n",
        "\n",
        "print('Found %s word vectors.' % len(embeddings_index))"
      ],
      "execution_count": 0,
      "outputs": [
        {
          "output_type": "stream",
          "text": [
            "Found 400000 word vectors.\n"
          ],
          "name": "stdout"
        }
      ]
    },
    {
      "cell_type": "code",
      "metadata": {
        "id": "9thZOjdY_Sl6",
        "colab_type": "code",
        "outputId": "4ce1b6df-c2d7-4e21-d895-8b8acd1f5243",
        "colab": {
          "base_uri": "https://localhost:8080/",
          "height": 102
        }
      },
      "source": [
        "#Create data with tokenizer word_index. Neglect words which are not in word_index\n",
        "tokenizer = Tokenizer(nb_words=MAX_NB_WORDS)\n",
        "tokenizer.fit_on_texts(texts)\n",
        "sequences = tokenizer.texts_to_sequences(texts)\n",
        "\n",
        "word_index = tokenizer.word_index\n",
        "print('Found %s unique tokens.' % len(word_index))\n",
        "\n",
        "data = pad_sequences(sequences, maxlen=MAX_SEQUENCE_LENGTH)\n",
        "\n",
        "labels = to_categorical(np.asarray(y_train))\n",
        "print('Shape of data tensor:', data.shape)\n",
        "print('Shape of label tensor:', labels.shape)\n",
        "\n",
        "#Split training and validation data with 20% split. So final is training 64%, validation 16% and test 20% of whole data\n",
        "indices = np.arange(data.shape[0])\n",
        "np.random.shuffle(indices)\n",
        "data = data[indices]\n",
        "labels = labels[indices]\n",
        "nb_validation_samples = int(VALIDATION_SPLIT * data.shape[0])\n",
        "\n",
        "xtrain = data[:-nb_validation_samples]\n",
        "ytrain = labels[:-nb_validation_samples]\n",
        "xval = data[-nb_validation_samples:]\n",
        "yval = labels[-nb_validation_samples:]"
      ],
      "execution_count": 0,
      "outputs": [
        {
          "output_type": "stream",
          "text": [
            "/usr/local/lib/python3.6/dist-packages/keras_preprocessing/text.py:178: UserWarning: The `nb_words` argument in `Tokenizer` has been renamed `num_words`.\n",
            "  warnings.warn('The `nb_words` argument in `Tokenizer` '\n"
          ],
          "name": "stderr"
        },
        {
          "output_type": "stream",
          "text": [
            "Found 28682 unique tokens.\n",
            "Shape of data tensor: (1780, 1000)\n",
            "Shape of label tensor: (1780, 5)\n"
          ],
          "name": "stdout"
        }
      ]
    },
    {
      "cell_type": "code",
      "metadata": {
        "id": "VofHdiAqIRqc",
        "colab_type": "code",
        "colab": {}
      },
      "source": [
        "#Create glove embedding matrix\n",
        "embedding_matrix = np.zeros((len(word_index) + 1, EMBEDDING_DIM))\n",
        "for word, i in word_index.items():\n",
        "    embedding_vector = embeddings_index.get(word)\n",
        "    if embedding_vector is not None:\n",
        "        # words not found in embedding index will be all-zeros.\n",
        "        embedding_matrix[i] = embedding_vector"
      ],
      "execution_count": 0,
      "outputs": []
    },
    {
      "cell_type": "code",
      "metadata": {
        "id": "o3yooq2DI-dT",
        "colab_type": "code",
        "colab": {}
      },
      "source": [
        "#Keras Glove Embedding layer\n",
        "embedding_layer = Embedding(len(word_index) + 1,\n",
        "                            EMBEDDING_DIM,\n",
        "                            weights=[embedding_matrix],\n",
        "                            input_length=MAX_SEQUENCE_LENGTH,\n",
        "                            trainable=traina)"
      ],
      "execution_count": 0,
      "outputs": []
    },
    {
      "cell_type": "code",
      "metadata": {
        "id": "iuZyVOsKKD6T",
        "colab_type": "code",
        "outputId": "0ad94ae9-c032-4258-c65f-339eb61f80df",
        "colab": {
          "base_uri": "https://localhost:8080/",
          "height": 34
        }
      },
      "source": [
        "#Map label name to its index\n",
        "labels_index = {}\n",
        "for i in range(5):\n",
        "  name = le.inverse_transform([i])[0]\n",
        "  labels_index[name] = i\n",
        "labels_index"
      ],
      "execution_count": 0,
      "outputs": [
        {
          "output_type": "execute_result",
          "data": {
            "text/plain": [
              "{'business': 0, 'entertainment': 1, 'politics': 2, 'sport': 3, 'tech': 4}"
            ]
          },
          "metadata": {
            "tags": []
          },
          "execution_count": 44
        }
      ]
    },
    {
      "cell_type": "markdown",
      "metadata": {
        "id": "e18TBVrC9iwT",
        "colab_type": "text"
      },
      "source": [
        "## Train Model"
      ]
    },
    {
      "cell_type": "markdown",
      "metadata": {
        "id": "p9D32NrbEPsU",
        "colab_type": "text"
      },
      "source": [
        "# RNN"
      ]
    },
    {
      "cell_type": "code",
      "metadata": {
        "id": "NjPmDH75ERKA",
        "colab_type": "code",
        "colab": {}
      },
      "source": [
        "#Model Architecture\n",
        "sequence_input = Input(shape=(MAX_SEQUENCE_LENGTH,), dtype='int32')\n",
        "embedded_sequences = embedding_layer(sequence_input)\n",
        "if bidirectional:\n",
        "  x = Bidirectional(LSTM(100,dropout=dropout))(embedded_sequences)\n",
        "else:\n",
        "  x = LSTM(100,dropout=dropout)(embedded_sequences)\n",
        "preds = Dense(len(labels_index), activation='softmax')(x)\n",
        "lstm_model = Model(sequence_input, preds)\n",
        "lstm_model.compile(loss='categorical_crossentropy',\n",
        "              optimizer='rmsprop',\n",
        "              metrics=['acc'])"
      ],
      "execution_count": 0,
      "outputs": []
    },
    {
      "cell_type": "code",
      "metadata": {
        "id": "dnLCsXllMNzi",
        "colab_type": "code",
        "outputId": "d7872b33-c349-4935-e394-8c7f828541d3",
        "colab": {
          "base_uri": "https://localhost:8080/",
          "height": 272
        }
      },
      "source": [
        "lstm_model.summary()"
      ],
      "execution_count": 0,
      "outputs": [
        {
          "output_type": "stream",
          "text": [
            "_________________________________________________________________\n",
            "Layer (type)                 Output Shape              Param #   \n",
            "=================================================================\n",
            "input_2 (InputLayer)         (None, 1000)              0         \n",
            "_________________________________________________________________\n",
            "embedding_2 (Embedding)      (None, 1000, 200)         5736600   \n",
            "_________________________________________________________________\n",
            "lstm_2 (LSTM)                (None, 100)               120400    \n",
            "_________________________________________________________________\n",
            "dense_2 (Dense)              (None, 5)                 505       \n",
            "=================================================================\n",
            "Total params: 5,857,505\n",
            "Trainable params: 5,857,505\n",
            "Non-trainable params: 0\n",
            "_________________________________________________________________\n"
          ],
          "name": "stdout"
        }
      ]
    },
    {
      "cell_type": "code",
      "metadata": {
        "id": "bbb9RTErE4wz",
        "colab_type": "code",
        "colab": {}
      },
      "source": [
        "#Callbacks - checkpointer, early stopping and tensorboard\n",
        "model_name = \"RNN-\"+str(dropout)+\"-\"+str(EMBEDDING_DIM)+\"-Trainable-\"+str(traina)+\"-bidrect-\"+str(bidirectional)\n",
        "checkpointer = ModelCheckpoint(model_name + \"_weights.{epoch:02d}-{val_loss:.2f}.hdf5\", monitor=\"val_loss\", verbose=1,\n",
        "                               save_best_only=True, mode='min')\n",
        "early_stopping = EarlyStopping(monitor='val_loss', min_delta=0, patience=10, verbose=1, mode='auto')\n",
        "tensorboard_rnn = TensorBoard(log_dir='./Graph_RNN', histogram_freq=0,write_graph=True, write_images=True)"
      ],
      "execution_count": 0,
      "outputs": []
    },
    {
      "cell_type": "code",
      "metadata": {
        "id": "U9x73pzTEzaO",
        "colab_type": "code",
        "outputId": "6333057c-84ef-43cf-f7cf-e2d7f3b55e7e",
        "colab": {
          "base_uri": "https://localhost:8080/",
          "height": 2788
        }
      },
      "source": [
        "#Train Model\n",
        "stmillis = int(round(time.time() * 1000))\n",
        "history = lstm_model.fit(xtrain, ytrain, validation_data=(xval, yval),\n",
        "          epochs=50, batch_size=128, callbacks=[checkpointer, early_stopping,tensorboard_rnn])\n",
        "endmillis = int(round(time.time() * 1000))\n",
        "print(\"Time taken: \", endmillis - stmillis)"
      ],
      "execution_count": 0,
      "outputs": [
        {
          "output_type": "stream",
          "text": [
            "Train on 1424 samples, validate on 356 samples\n",
            "Epoch 1/50\n",
            "1424/1424 [==============================] - 18s 13ms/step - loss: 1.2277 - acc: 0.5471 - val_loss: 0.6264 - val_acc: 0.8371\n",
            "\n",
            "Epoch 00001: val_loss improved from inf to 0.62635, saving model to RNN-0.3-200-Trainable-True-bidrect-False_weights.01-0.63.hdf5\n",
            "Epoch 2/50\n",
            "1424/1424 [==============================] - 19s 13ms/step - loss: 0.5564 - acc: 0.8441 - val_loss: 0.2954 - val_acc: 0.9101\n",
            "\n",
            "Epoch 00002: val_loss improved from 0.62635 to 0.29541, saving model to RNN-0.3-200-Trainable-True-bidrect-False_weights.02-0.30.hdf5\n",
            "Epoch 3/50\n",
            "1424/1424 [==============================] - 17s 12ms/step - loss: 0.3126 - acc: 0.9080 - val_loss: 0.2490 - val_acc: 0.9438\n",
            "\n",
            "Epoch 00003: val_loss improved from 0.29541 to 0.24903, saving model to RNN-0.3-200-Trainable-True-bidrect-False_weights.03-0.25.hdf5\n",
            "Epoch 4/50\n",
            "1424/1424 [==============================] - 17s 12ms/step - loss: 0.2898 - acc: 0.9164 - val_loss: 0.2234 - val_acc: 0.9354\n",
            "\n",
            "Epoch 00004: val_loss improved from 0.24903 to 0.22335, saving model to RNN-0.3-200-Trainable-True-bidrect-False_weights.04-0.22.hdf5\n",
            "Epoch 5/50\n",
            "1424/1424 [==============================] - 17s 12ms/step - loss: 0.2577 - acc: 0.9263 - val_loss: 0.1873 - val_acc: 0.9551\n",
            "\n",
            "Epoch 00005: val_loss improved from 0.22335 to 0.18732, saving model to RNN-0.3-200-Trainable-True-bidrect-False_weights.05-0.19.hdf5\n",
            "Epoch 6/50\n",
            "1424/1424 [==============================] - 18s 13ms/step - loss: 0.2157 - acc: 0.9361 - val_loss: 0.1552 - val_acc: 0.9663\n",
            "\n",
            "Epoch 00006: val_loss improved from 0.18732 to 0.15522, saving model to RNN-0.3-200-Trainable-True-bidrect-False_weights.06-0.16.hdf5\n",
            "Epoch 7/50\n",
            "1424/1424 [==============================] - 18s 13ms/step - loss: 0.2858 - acc: 0.9136 - val_loss: 0.2347 - val_acc: 0.9242\n",
            "\n",
            "Epoch 00007: val_loss did not improve from 0.15522\n",
            "Epoch 8/50\n",
            "1424/1424 [==============================] - 17s 12ms/step - loss: 0.1843 - acc: 0.9473 - val_loss: 0.2427 - val_acc: 0.9410\n",
            "\n",
            "Epoch 00008: val_loss did not improve from 0.15522\n",
            "Epoch 9/50\n",
            "1424/1424 [==============================] - 17s 12ms/step - loss: 0.1538 - acc: 0.9579 - val_loss: 0.1174 - val_acc: 0.9719\n",
            "\n",
            "Epoch 00009: val_loss improved from 0.15522 to 0.11740, saving model to RNN-0.3-200-Trainable-True-bidrect-False_weights.09-0.12.hdf5\n",
            "Epoch 10/50\n",
            "1424/1424 [==============================] - 19s 13ms/step - loss: 0.1323 - acc: 0.9656 - val_loss: 0.2978 - val_acc: 0.9101\n",
            "\n",
            "Epoch 00010: val_loss did not improve from 0.11740\n",
            "Epoch 11/50\n",
            "1424/1424 [==============================] - 19s 13ms/step - loss: 0.1151 - acc: 0.9726 - val_loss: 0.3173 - val_acc: 0.9242\n",
            "\n",
            "Epoch 00011: val_loss did not improve from 0.11740\n",
            "Epoch 12/50\n",
            "1424/1424 [==============================] - 17s 12ms/step - loss: 0.1324 - acc: 0.9670 - val_loss: 0.1612 - val_acc: 0.9607\n",
            "\n",
            "Epoch 00012: val_loss did not improve from 0.11740\n",
            "Epoch 13/50\n",
            "1424/1424 [==============================] - 18s 13ms/step - loss: 0.1520 - acc: 0.9529 - val_loss: 0.1585 - val_acc: 0.9579\n",
            "\n",
            "Epoch 00013: val_loss did not improve from 0.11740\n",
            "Epoch 14/50\n",
            "1424/1424 [==============================] - 17s 12ms/step - loss: 0.1677 - acc: 0.9614 - val_loss: 0.1325 - val_acc: 0.9607\n",
            "\n",
            "Epoch 00014: val_loss did not improve from 0.11740\n",
            "Epoch 15/50\n",
            "1424/1424 [==============================] - 17s 12ms/step - loss: 0.0959 - acc: 0.9789 - val_loss: 0.1278 - val_acc: 0.9663\n",
            "\n",
            "Epoch 00015: val_loss did not improve from 0.11740\n",
            "Epoch 16/50\n",
            "1424/1424 [==============================] - 18s 13ms/step - loss: 0.1243 - acc: 0.9719 - val_loss: 0.1821 - val_acc: 0.9551\n",
            "\n",
            "Epoch 00016: val_loss did not improve from 0.11740\n",
            "Epoch 17/50\n",
            "1424/1424 [==============================] - 17s 12ms/step - loss: 0.0971 - acc: 0.9754 - val_loss: 0.2110 - val_acc: 0.9522\n",
            "\n",
            "Epoch 00017: val_loss did not improve from 0.11740\n",
            "Epoch 18/50\n",
            "1424/1424 [==============================] - 17s 12ms/step - loss: 0.0677 - acc: 0.9838 - val_loss: 0.2366 - val_acc: 0.9494\n",
            "\n",
            "Epoch 00018: val_loss did not improve from 0.11740\n",
            "Epoch 19/50\n",
            "1424/1424 [==============================] - 17s 12ms/step - loss: 0.0895 - acc: 0.9733 - val_loss: 0.1001 - val_acc: 0.9775\n",
            "\n",
            "Epoch 00019: val_loss improved from 0.11740 to 0.10005, saving model to RNN-0.3-200-Trainable-True-bidrect-False_weights.19-0.10.hdf5\n",
            "Epoch 20/50\n",
            "1424/1424 [==============================] - 19s 13ms/step - loss: 0.0823 - acc: 0.9775 - val_loss: 0.1072 - val_acc: 0.9775\n",
            "\n",
            "Epoch 00020: val_loss did not improve from 0.10005\n",
            "Epoch 21/50\n",
            "1424/1424 [==============================] - 17s 12ms/step - loss: 0.0844 - acc: 0.9740 - val_loss: 0.1742 - val_acc: 0.9522\n",
            "\n",
            "Epoch 00021: val_loss did not improve from 0.10005\n",
            "Epoch 22/50\n",
            "1424/1424 [==============================] - 17s 12ms/step - loss: 0.0774 - acc: 0.9831 - val_loss: 0.1134 - val_acc: 0.9663\n",
            "\n",
            "Epoch 00022: val_loss did not improve from 0.10005\n",
            "Epoch 23/50\n",
            "1424/1424 [==============================] - 17s 12ms/step - loss: 0.0414 - acc: 0.9909 - val_loss: 0.1009 - val_acc: 0.9663\n",
            "\n",
            "Epoch 00023: val_loss did not improve from 0.10005\n",
            "Epoch 24/50\n",
            "1424/1424 [==============================] - 17s 12ms/step - loss: 0.0545 - acc: 0.9860 - val_loss: 0.1413 - val_acc: 0.9691\n",
            "\n",
            "Epoch 00024: val_loss did not improve from 0.10005\n",
            "Epoch 25/50\n",
            "1424/1424 [==============================] - 19s 13ms/step - loss: 0.0444 - acc: 0.9881 - val_loss: 0.1380 - val_acc: 0.9747\n",
            "\n",
            "Epoch 00025: val_loss did not improve from 0.10005\n",
            "Epoch 26/50\n",
            "1424/1424 [==============================] - 17s 12ms/step - loss: 0.0320 - acc: 0.9923 - val_loss: 0.0925 - val_acc: 0.9775\n",
            "\n",
            "Epoch 00026: val_loss improved from 0.10005 to 0.09251, saving model to RNN-0.3-200-Trainable-True-bidrect-False_weights.26-0.09.hdf5\n",
            "Epoch 27/50\n",
            "1424/1424 [==============================] - 19s 13ms/step - loss: 0.0311 - acc: 0.9916 - val_loss: 0.1130 - val_acc: 0.9775\n",
            "\n",
            "Epoch 00027: val_loss did not improve from 0.09251\n",
            "Epoch 28/50\n",
            "1424/1424 [==============================] - 18s 12ms/step - loss: 0.0308 - acc: 0.9930 - val_loss: 0.0909 - val_acc: 0.9831\n",
            "\n",
            "Epoch 00028: val_loss improved from 0.09251 to 0.09094, saving model to RNN-0.3-200-Trainable-True-bidrect-False_weights.28-0.09.hdf5\n",
            "Epoch 29/50\n",
            "1424/1424 [==============================] - 19s 13ms/step - loss: 0.0427 - acc: 0.9895 - val_loss: 0.1496 - val_acc: 0.9663\n",
            "\n",
            "Epoch 00029: val_loss did not improve from 0.09094\n",
            "Epoch 30/50\n",
            "1424/1424 [==============================] - 18s 13ms/step - loss: 0.0266 - acc: 0.9930 - val_loss: 0.0430 - val_acc: 0.9888\n",
            "\n",
            "Epoch 00030: val_loss improved from 0.09094 to 0.04299, saving model to RNN-0.3-200-Trainable-True-bidrect-False_weights.30-0.04.hdf5\n",
            "Epoch 31/50\n",
            "1424/1424 [==============================] - 17s 12ms/step - loss: 0.0213 - acc: 0.9944 - val_loss: 0.0690 - val_acc: 0.9831\n",
            "\n",
            "Epoch 00031: val_loss did not improve from 0.04299\n",
            "Epoch 32/50\n",
            "1424/1424 [==============================] - 17s 12ms/step - loss: 0.0227 - acc: 0.9930 - val_loss: 0.1398 - val_acc: 0.9663\n",
            "\n",
            "Epoch 00032: val_loss did not improve from 0.04299\n",
            "Epoch 33/50\n",
            "1424/1424 [==============================] - 17s 12ms/step - loss: 0.0224 - acc: 0.9965 - val_loss: 0.1213 - val_acc: 0.9719\n",
            "\n",
            "Epoch 00033: val_loss did not improve from 0.04299\n",
            "Epoch 34/50\n",
            "1424/1424 [==============================] - 19s 13ms/step - loss: 0.0290 - acc: 0.9930 - val_loss: 0.3144 - val_acc: 0.9410\n",
            "\n",
            "Epoch 00034: val_loss did not improve from 0.04299\n",
            "Epoch 35/50\n",
            "1424/1424 [==============================] - 17s 12ms/step - loss: 0.0127 - acc: 0.9965 - val_loss: 0.1451 - val_acc: 0.9635\n",
            "\n",
            "Epoch 00035: val_loss did not improve from 0.04299\n",
            "Epoch 36/50\n",
            "1424/1424 [==============================] - 17s 12ms/step - loss: 0.0138 - acc: 0.9965 - val_loss: 0.1740 - val_acc: 0.9635\n",
            "\n",
            "Epoch 00036: val_loss did not improve from 0.04299\n",
            "Epoch 37/50\n",
            "1424/1424 [==============================] - 17s 12ms/step - loss: 0.0144 - acc: 0.9958 - val_loss: 0.0868 - val_acc: 0.9775\n",
            "\n",
            "Epoch 00037: val_loss did not improve from 0.04299\n",
            "Epoch 38/50\n",
            "1424/1424 [==============================] - 18s 13ms/step - loss: 0.0184 - acc: 0.9937 - val_loss: 0.0537 - val_acc: 0.9888\n",
            "\n",
            "Epoch 00038: val_loss did not improve from 0.04299\n",
            "Epoch 39/50\n",
            "1424/1424 [==============================] - 17s 12ms/step - loss: 0.0162 - acc: 0.9951 - val_loss: 0.0771 - val_acc: 0.9831\n",
            "\n",
            "Epoch 00039: val_loss did not improve from 0.04299\n",
            "Epoch 40/50\n",
            "1424/1424 [==============================] - 17s 12ms/step - loss: 0.0083 - acc: 0.9986 - val_loss: 0.0748 - val_acc: 0.9775\n",
            "\n",
            "Epoch 00040: val_loss did not improve from 0.04299\n",
            "Epoch 00040: early stopping\n",
            "Time taken:  713405\n"
          ],
          "name": "stdout"
        }
      ]
    },
    {
      "cell_type": "code",
      "metadata": {
        "id": "vl8sxWfCEvhn",
        "colab_type": "code",
        "outputId": "17e007a2-67a9-4c40-8f22-34fbd7c9cf93",
        "colab": {
          "base_uri": "https://localhost:8080/",
          "height": 302
        }
      },
      "source": [
        "#Plot loss curve\n",
        "fig=plt.figure()\n",
        "plt.plot(history.history['loss'],'r',linewidth=3.0)\n",
        "plt.plot(history.history['val_loss'],'b',linewidth=3.0)\n",
        "plt.legend(['Training Loss', 'Validation Loss'],fontsize=18)\n",
        "plt.xlabel('Epochs ',fontsize=16)\n",
        "plt.ylabel('Loss',fontsize=16)\n",
        "plt.title('Loss Curves : RNN',fontsize=16)\n",
        "fig.savefig(model_name+'.png')\n",
        "plt.show()"
      ],
      "execution_count": 0,
      "outputs": [
        {
          "output_type": "display_data",
          "data": {
            "image/png": "[encoded data removed]",
            "text/plain": [
              "<Figure size 432x288 with 1 Axes>"
            ]
          },
          "metadata": {
            "tags": []
          }
        }
      ]
    },
    {
      "cell_type": "code",
      "metadata": {
        "id": "EaQ1v9TV-NBt",
        "colab_type": "code",
        "outputId": "08c3356b-cad3-4691-ec28-39dd772fb2e2",
        "colab": {
          "base_uri": "https://localhost:8080/",
          "height": 302
        }
      },
      "source": [
        "#Plot accuracy curve\n",
        "fig=plt.figure()\n",
        "plt.plot(history.history['acc'],'r',linewidth=3.0)\n",
        "plt.plot(history.history['val_acc'],'b',linewidth=3.0)\n",
        "plt.legend(['Training Accuracy', 'Validation Accuracy'],fontsize=18)\n",
        "plt.xlabel('Epochs ',fontsize=16)\n",
        "plt.ylabel('Accuracy',fontsize=16)\n",
        "plt.title('Accuracy Curves : RNN',fontsize=16)\n",
        "fig.savefig(model_name+'-ACC'+'.png')\n",
        "plt.show()"
      ],
      "execution_count": 0,
      "outputs": [
        {
          "output_type": "display_data",
          "data": {
            "image/png": "[encoded data removed]",
            "text/plain": [
              "<Figure size 432x288 with 1 Axes>"
            ]
          },
          "metadata": {
            "tags": []
          }
        }
      ]
    },
    {
      "cell_type": "code",
      "metadata": {
        "id": "vx9W_tXbl74S",
        "colab_type": "code",
        "outputId": "8c6e46c2-25cb-4389-e566-6e0f74ea820a",
        "colab": {
          "base_uri": "https://localhost:8080/",
          "height": 34
        }
      },
      "source": [
        "model_name"
      ],
      "execution_count": 0,
      "outputs": [
        {
          "output_type": "execute_result",
          "data": {
            "text/plain": [
              "'RNN-0.3-200-Trainable-True-bidrect-False'"
            ]
          },
          "metadata": {
            "tags": []
          },
          "execution_count": 50
        }
      ]
    },
    {
      "cell_type": "code",
      "metadata": {
        "id": "VbE3Cy1LFJhy",
        "colab_type": "code",
        "colab": {}
      },
      "source": [
        "# Save the trained weights\n",
        "lstm_model.save(model_name + \".h5\")\n",
        "\n",
        "# Save model config as json\n",
        "model_json = lstm_model.to_json()\n",
        "with open(model_name + \".json\", \"w\") as json_file:\n",
        "    json_file.write(model_json)\n",
        "\n",
        "# Persist the model to your google drive [VERY IMPORTANT]\n",
        "!cp RNN* gdrive/My\\ Drive/"
      ],
      "execution_count": 0,
      "outputs": []
    },
    {
      "cell_type": "markdown",
      "metadata": {
        "id": "7BAwr4x19nMo",
        "colab_type": "text"
      },
      "source": [
        "## Predict on Test Data"
      ]
    },
    {
      "cell_type": "code",
      "metadata": {
        "id": "vIBlzM5zFVhG",
        "colab_type": "code",
        "colab": {}
      },
      "source": [
        "def find_test_acc(prediction):\n",
        "  count = 0\n",
        "  t = 0\n",
        "  for pred in prediction:\n",
        "    p = pred.argmax()\n",
        "    name = le.inverse_transform([p])\n",
        "    if name == y_test.loc[count]:\n",
        "      t+=1\n",
        "    count+=1\n",
        "  print('Test Accuracy:',(t/count)*100,\"%\")"
      ],
      "execution_count": 0,
      "outputs": []
    },
    {
      "cell_type": "code",
      "metadata": {
        "id": "1sM8QeKfJgRr",
        "colab_type": "code",
        "colab": {}
      },
      "source": [
        "def predict_test(model):\n",
        "  #Tokenize test data and apply model prediction\n",
        "  sequences = tokenizer.texts_to_sequences(test_text)\n",
        "  data = pad_sequences(sequences, maxlen=MAX_SEQUENCE_LENGTH)\n",
        "\n",
        "  print('Shape of data tensor:', data.shape)\n",
        "  print('Shape of label tensor:', labels.shape)\n",
        "  prediction = model.predict(data)\n",
        "  find_test_acc(prediction)"
      ],
      "execution_count": 0,
      "outputs": []
    },
    {
      "cell_type": "code",
      "metadata": {
        "id": "u_z5eMImMj57",
        "colab_type": "code",
        "outputId": "5f0a4c86-8a95-416e-9ee7-b372d0b2523b",
        "colab": {
          "base_uri": "https://localhost:8080/",
          "height": 68
        }
      },
      "source": [
        "predict_test(lstm_model)"
      ],
      "execution_count": 0,
      "outputs": [
        {
          "output_type": "stream",
          "text": [
            "Shape of data tensor: (445, 1000)\n",
            "Shape of label tensor: (1780, 5)\n",
            "Test Accuracy: 96.62921348314607 %\n"
          ],
          "name": "stdout"
        }
      ]
    },
    {
      "cell_type": "markdown",
      "metadata": {
        "id": "R55FX-Xq3XkP",
        "colab_type": "text"
      },
      "source": [
        "## Tensorboard"
      ]
    },
    {
      "cell_type": "code",
      "metadata": {
        "id": "Bz0qLhb1Gi2s",
        "colab_type": "code",
        "colab": {}
      },
      "source": [
        "!wget https://bin.equinox.io/c/4VmDzA7iaHb/ngrok-stable-linux-amd64.zip\n",
        "!unzip ngrok-stable-linux-amd64.zip"
      ],
      "execution_count": 0,
      "outputs": []
    },
    {
      "cell_type": "code",
      "metadata": {
        "id": "2VIBupfd29Rk",
        "colab_type": "code",
        "colab": {}
      },
      "source": [
        "LOG_DIR = './Graph_RNN'\n",
        "get_ipython().system_raw(\n",
        "    'tensorboard --logdir {} --host 0.0.0.0 --port 6006 &'\n",
        "    .format(LOG_DIR)\n",
        ")\n",
        "get_ipython().system_raw('./ngrok http 6006 &')\n",
        "! curl -s http://localhost:4040/api/tunnels | python3 -c \\\n",
        "    \"import sys, json; print(json.load(sys.stdin)['tunnels'][0]['public_url'])\""
      ],
      "execution_count": 0,
      "outputs": []
    },
    {
      "cell_type": "code",
      "metadata": {
        "id": "yp4_vhHk3IgS",
        "colab_type": "code",
        "outputId": "71a39744-859c-4459-db63-4df4b24fef36",
        "colab": {
          "base_uri": "https://localhost:8080/",
          "height": 501
        }
      },
      "source": [
        "!ls"
      ],
      "execution_count": 0,
      "outputs": [
        {
          "output_type": "stream",
          "text": [
            "accuracy_cnn.png\t  gdrive\n",
            "bbc\t\t\t  glove.6B.100d.txt\n",
            "bbc-fulltext.zip\t  glove.6B.200d.txt\n",
            "CNN.h5\t\t\t  glove.6B.300d.txt\n",
            "CNN.json\t\t  glove.6B.50d.txt\n",
            "CNN_weights.01-0.96.hdf5  glove.6B.zip\n",
            "CNN_weights.01-1.18.hdf5  ngrok\n",
            "CNN_weights.01-1.38.hdf5  ngrok-stable-linux-amd64.zip\n",
            "CNN_weights.02-0.42.hdf5  out.txt\n",
            "CNN_weights.02-0.48.hdf5  RNN.h5\n",
            "CNN_weights.02-0.62.hdf5  RNN.json\n",
            "CNN_weights.03-0.29.hdf5  RNN_weights.01-0.81.hdf5\n",
            "CNN_weights.03-0.34.hdf5  RNN_weights.02-0.47.hdf5\n",
            "CNN_weights.03-0.41.hdf5  RNN_weights.03-0.32.hdf5\n",
            "CNN_weights.04-0.17.hdf5  RNN_weights.06-0.31.hdf5\n",
            "CNN_weights.04-0.19.hdf5  RNN_weights.07-0.28.hdf5\n",
            "CNN_weights.04-0.24.hdf5  RNN_weights.09-0.28.hdf5\n",
            "CNN_weights.05-0.16.hdf5  RNN_weights.10-0.25.hdf5\n",
            "CNN_weights.05-0.18.hdf5  RNN_weights.13-0.21.hdf5\n",
            "CNN_weights.06-0.15.hdf5  RNN_weights.19-0.19.hdf5\n",
            "CNN_weights.09-0.14.hdf5  RNN_weights.20-0.19.hdf5\n",
            "CNN_weights.09-0.15.hdf5  RNN_weights.23-0.16.hdf5\n",
            "CNN_weights.09-0.17.hdf5  RNN_weights.26-0.14.hdf5\n",
            "CNN_weights.10-0.14.hdf5  RNN_weights.34-0.12.hdf5\n",
            "CNN_weights.11-0.11.hdf5  RNN_weights.39-0.12.hdf5\n",
            "CNN_weights.11-0.16.hdf5  RNN_weights.43-0.12.hdf5\n",
            "CNN_weights.13-0.14.hdf5  sample_data\n",
            "CNN_weights.15-0.13.hdf5\n"
          ],
          "name": "stdout"
        }
      ]
    },
    {
      "cell_type": "code",
      "metadata": {
        "id": "yxpBpPCy3Om5",
        "colab_type": "code",
        "outputId": "6e5b5396-831f-47d9-d2ca-a011c18de9e7",
        "colab": {
          "base_uri": "https://localhost:8080/",
          "height": 680
        }
      },
      "source": [
        "!ls"
      ],
      "execution_count": 0,
      "outputs": [
        {
          "output_type": "stream",
          "text": [
            "bbc\n",
            "bbc-fulltext.zip\n",
            "CNN-0.4-300-Trainable-Truefinal.h5\n",
            "CNN-0.4-300-Trainable-Truefinal_weights.26-0.01.hdf5\n",
            "gdrive\n",
            "glove.6B.100d.txt\n",
            "glove.6B.200d.txt\n",
            "glove.6B.300d.txt\n",
            "glove.6B.50d.txt\n",
            "glove.6B.zip\n",
            "Graph_RNN\n",
            "model.png\n",
            "out.txt\n",
            "RNN-0.2-200-Trainable-True-bidrect-True.h5\n",
            "RNN-0.2-200-Trainable-True-bidrect-True.json\n",
            "RNN-0.2-200-Trainable-True-bidrect-True.png\n",
            "RNN-0.2-200-Trainable-True-bidrect-True_weights.01-0.68.hdf5\n",
            "RNN-0.2-200-Trainable-True-bidrect-True_weights.03-0.43.hdf5\n",
            "RNN-0.2-200-Trainable-True-bidrect-True_weights.04-0.18.hdf5\n",
            "RNN-0.2-200-Trainable-True-bidrect-True_weights.05-0.17.hdf5\n",
            "RNN-0.2-200-Trainable-True-bidrect-True_weights.07-0.14.hdf5\n",
            "RNN-0.2-200-Trainable-True-bidrect-True_weights.11-0.10.hdf5\n",
            "RNN-0.2-200-Trainable-True-bidrect-True_weights.16-0.08.hdf5\n",
            "RNN-0.2-200-Trainable-True-bidrect-True_weights.24-0.06.hdf5\n",
            "RNN-0.3-200-Trainable-True-bidrect-False.h5\n",
            "RNN-0.3-200-Trainable-True-bidrect-False.json\n",
            "RNN-0.3-200-Trainable-True-bidrect-False.png\n",
            "RNN-0.3-200-Trainable-True-bidrect-False_weights.01-0.63.hdf5\n",
            "RNN-0.3-200-Trainable-True-bidrect-False_weights.02-0.30.hdf5\n",
            "RNN-0.3-200-Trainable-True-bidrect-False_weights.03-0.25.hdf5\n",
            "RNN-0.3-200-Trainable-True-bidrect-False_weights.04-0.22.hdf5\n",
            "RNN-0.3-200-Trainable-True-bidrect-False_weights.05-0.19.hdf5\n",
            "RNN-0.3-200-Trainable-True-bidrect-False_weights.06-0.16.hdf5\n",
            "RNN-0.3-200-Trainable-True-bidrect-False_weights.09-0.12.hdf5\n",
            "RNN-0.3-200-Trainable-True-bidrect-False_weights.19-0.10.hdf5\n",
            "RNN-0.3-200-Trainable-True-bidrect-False_weights.26-0.09.hdf5\n",
            "RNN-0.3-200-Trainable-True-bidrect-False_weights.28-0.09.hdf5\n",
            "RNN-0.3-200-Trainable-True-bidrect-False_weights.30-0.04.hdf5\n",
            "sample_data\n"
          ],
          "name": "stdout"
        }
      ]
    },
    {
      "cell_type": "code",
      "metadata": {
        "id": "PXduhH-i9bpW",
        "colab_type": "code",
        "colab": {}
      },
      "source": [
        "#Load the weights of the model which had the best validation loss\n",
        "model_filename = 'RNN-0.3-200-Trainable-True-bidrect-False_weights.30-0.04.hdf5'"
      ],
      "execution_count": 0,
      "outputs": []
    },
    {
      "cell_type": "code",
      "metadata": {
        "id": "4zzvWY-b9jqe",
        "colab_type": "code",
        "colab": {}
      },
      "source": [
        "sequence_input = Input(shape=(MAX_SEQUENCE_LENGTH,), dtype='int32')\n",
        "embedded_sequences = embedding_layer(sequence_input)\n",
        "if bidirectional:\n",
        "  x = Bidirectional(LSTM(100,dropout=dropout))(embedded_sequences)\n",
        "else:\n",
        "  x = LSTM(100,dropout=dropout)(embedded_sequences)\n",
        "preds = Dense(len(labels_index), activation='softmax')(x)\n",
        "best_model = Model(sequence_input, preds)\n",
        "\n",
        "best_model.load_weights(model_filename)\n",
        "\n",
        "best_model.compile(loss='categorical_crossentropy',\n",
        "              optimizer='rmsprop',\n",
        "              metrics=['acc'])"
      ],
      "execution_count": 0,
      "outputs": []
    },
    {
      "cell_type": "code",
      "metadata": {
        "id": "TGJNaYw_-DBB",
        "colab_type": "code",
        "outputId": "603b73f3-f4c9-4d6d-c7a9-57231beb5da9",
        "colab": {
          "base_uri": "https://localhost:8080/",
          "height": 68
        }
      },
      "source": [
        "\n",
        "#Final test accuracy on the best model\n",
        "predict_test(best_model)"
      ],
      "execution_count": 0,
      "outputs": [
        {
          "output_type": "stream",
          "text": [
            "Shape of data tensor: (445, 1000)\n",
            "Shape of label tensor: (1780, 5)\n",
            "Test Accuracy: 95.73033707865169 %\n"
          ],
          "name": "stdout"
        }
      ]
    },
    {
      "cell_type": "code",
      "metadata": {
        "id": "Dy53lot4-cX8",
        "colab_type": "code",
        "colab": {}
      },
      "source": [
        "from keras.utils.vis_utils import plot_model\n",
        "plot_model(best_model, to_file='rnn_model.png', show_shapes=True, show_layer_names=True)\n"
      ],
      "execution_count": 0,
      "outputs": []
    },
    {
      "cell_type": "code",
      "metadata": {
        "id": "VCd7vKKU_RMV",
        "colab_type": "code",
        "outputId": "03443139-e497-4fb6-98e0-8dcf54edda4b",
        "colab": {
          "base_uri": "https://localhost:8080/",
          "height": 422
        }
      },
      "source": [
        "from PIL import Image\n",
        "display(Image.open('rnn_model.png'))"
      ],
      "execution_count": 0,
      "outputs": [
        {
          "output_type": "display_data",
          "data": {
            "image/png": "[encoded data removed]",
            "text/plain": [
              "<PIL.PngImagePlugin.PngImageFile image mode=RGBA size=483x405 at 0x7FC8A0B28B00>"
            ]
          },
          "metadata": {
            "tags": []
          }
        }
      ]
    },
    {
      "cell_type": "code",
      "metadata": {
        "id": "s4Jr-jfm_Rok",
        "colab_type": "code",
        "colab": {}
      },
      "source": [
        ""
      ],
      "execution_count": 0,
      "outputs": []
    }
  ]
}